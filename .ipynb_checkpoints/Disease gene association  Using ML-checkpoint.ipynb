{
 "cells": [
  {
   "cell_type": "code",
   "execution_count": 1,
   "id": "94fd90af",
   "metadata": {},
   "outputs": [],
   "source": [
    "## Importing Libraries\n",
    "\n",
    "import pandas as pd\n",
    "import numpy as np\n",
    "import seaborn as sns\n",
    "import matplotlib.pyplot as plt\n",
    "from sklearn.model_selection import train_test_split\n",
    "from sklearn.ensemble import RandomForestClassifier\n",
    "from sklearn.preprocessing import LabelEncoder\n",
    "from sklearn.metrics import accuracy_score, precision_score,recall_score,f1_score,classification_report, confusion_matrix\n",
    "from scipy.linalg import pinv2\n",
    "from sklearn.preprocessing import MinMaxScaler\n",
    "from sklearn.preprocessing import StandardScaler, OneHotEncoder\n",
    "from sklearn.svm import SVC\n",
    "from sklearn.metrics import roc_auc_score\n",
    "from sklearn.metrics import roc_curve"
   ]
  },
  {
   "cell_type": "code",
   "execution_count": 2,
   "id": "d49bf65a",
   "metadata": {},
   "outputs": [],
   "source": [
    "df = pd.read_csv('data.tsv',sep='\\t')"
   ]
  },
  {
   "cell_type": "code",
   "execution_count": 3,
   "id": "95bddaef",
   "metadata": {},
   "outputs": [
    {
     "data": {
      "text/html": [
       "<div>\n",
       "<style scoped>\n",
       "    .dataframe tbody tr th:only-of-type {\n",
       "        vertical-align: middle;\n",
       "    }\n",
       "\n",
       "    .dataframe tbody tr th {\n",
       "        vertical-align: top;\n",
       "    }\n",
       "\n",
       "    .dataframe thead th {\n",
       "        text-align: right;\n",
       "    }\n",
       "</style>\n",
       "<table border=\"1\" class=\"dataframe\">\n",
       "  <thead>\n",
       "    <tr style=\"text-align: right;\">\n",
       "      <th></th>\n",
       "      <th>geneId</th>\n",
       "      <th>geneSymbol</th>\n",
       "      <th>DSI</th>\n",
       "      <th>DPI</th>\n",
       "      <th>diseaseId</th>\n",
       "      <th>diseaseName</th>\n",
       "      <th>diseaseType</th>\n",
       "      <th>diseaseClass</th>\n",
       "      <th>diseaseSemanticType</th>\n",
       "      <th>score</th>\n",
       "      <th>EI</th>\n",
       "      <th>YearInitial</th>\n",
       "      <th>YearFinal</th>\n",
       "      <th>NofPmids</th>\n",
       "      <th>NofSnps</th>\n",
       "      <th>source</th>\n",
       "    </tr>\n",
       "  </thead>\n",
       "  <tbody>\n",
       "    <tr>\n",
       "      <th>0</th>\n",
       "      <td>1</td>\n",
       "      <td>A1BG</td>\n",
       "      <td>0.7</td>\n",
       "      <td>0.538</td>\n",
       "      <td>C0001418</td>\n",
       "      <td>Adenocarcinoma</td>\n",
       "      <td>group</td>\n",
       "      <td>C04</td>\n",
       "      <td>Neoplastic Process</td>\n",
       "      <td>0.01</td>\n",
       "      <td>1.0</td>\n",
       "      <td>2008.0</td>\n",
       "      <td>2008.0</td>\n",
       "      <td>1</td>\n",
       "      <td>0</td>\n",
       "      <td>LHGDN</td>\n",
       "    </tr>\n",
       "    <tr>\n",
       "      <th>1</th>\n",
       "      <td>1</td>\n",
       "      <td>A1BG</td>\n",
       "      <td>0.7</td>\n",
       "      <td>0.538</td>\n",
       "      <td>C0002736</td>\n",
       "      <td>Amyotrophic Lateral Sclerosis</td>\n",
       "      <td>disease</td>\n",
       "      <td>C18;C10</td>\n",
       "      <td>Disease or Syndrome</td>\n",
       "      <td>0.01</td>\n",
       "      <td>1.0</td>\n",
       "      <td>2008.0</td>\n",
       "      <td>2008.0</td>\n",
       "      <td>1</td>\n",
       "      <td>0</td>\n",
       "      <td>BEFREE</td>\n",
       "    </tr>\n",
       "    <tr>\n",
       "      <th>2</th>\n",
       "      <td>1</td>\n",
       "      <td>A1BG</td>\n",
       "      <td>0.7</td>\n",
       "      <td>0.538</td>\n",
       "      <td>C0003578</td>\n",
       "      <td>Apnea</td>\n",
       "      <td>phenotype</td>\n",
       "      <td>C23;C08</td>\n",
       "      <td>Sign or Symptom</td>\n",
       "      <td>0.01</td>\n",
       "      <td>1.0</td>\n",
       "      <td>2017.0</td>\n",
       "      <td>2017.0</td>\n",
       "      <td>1</td>\n",
       "      <td>0</td>\n",
       "      <td>BEFREE</td>\n",
       "    </tr>\n",
       "    <tr>\n",
       "      <th>3</th>\n",
       "      <td>1</td>\n",
       "      <td>A1BG</td>\n",
       "      <td>0.7</td>\n",
       "      <td>0.538</td>\n",
       "      <td>C0003864</td>\n",
       "      <td>Arthritis</td>\n",
       "      <td>disease</td>\n",
       "      <td>C05</td>\n",
       "      <td>Disease or Syndrome</td>\n",
       "      <td>0.01</td>\n",
       "      <td>1.0</td>\n",
       "      <td>2019.0</td>\n",
       "      <td>2019.0</td>\n",
       "      <td>1</td>\n",
       "      <td>0</td>\n",
       "      <td>BEFREE</td>\n",
       "    </tr>\n",
       "    <tr>\n",
       "      <th>4</th>\n",
       "      <td>1</td>\n",
       "      <td>A1BG</td>\n",
       "      <td>0.7</td>\n",
       "      <td>0.538</td>\n",
       "      <td>C0008373</td>\n",
       "      <td>Cholesteatoma</td>\n",
       "      <td>disease</td>\n",
       "      <td>C17</td>\n",
       "      <td>Disease or Syndrome</td>\n",
       "      <td>0.01</td>\n",
       "      <td>1.0</td>\n",
       "      <td>2020.0</td>\n",
       "      <td>2020.0</td>\n",
       "      <td>1</td>\n",
       "      <td>0</td>\n",
       "      <td>BEFREE</td>\n",
       "    </tr>\n",
       "  </tbody>\n",
       "</table>\n",
       "</div>"
      ],
      "text/plain": [
       "   geneId geneSymbol  DSI    DPI diseaseId                    diseaseName  \\\n",
       "0       1       A1BG  0.7  0.538  C0001418                 Adenocarcinoma   \n",
       "1       1       A1BG  0.7  0.538  C0002736  Amyotrophic Lateral Sclerosis   \n",
       "2       1       A1BG  0.7  0.538  C0003578                          Apnea   \n",
       "3       1       A1BG  0.7  0.538  C0003864                      Arthritis   \n",
       "4       1       A1BG  0.7  0.538  C0008373                  Cholesteatoma   \n",
       "\n",
       "  diseaseType diseaseClass  diseaseSemanticType  score   EI  YearInitial  \\\n",
       "0       group          C04   Neoplastic Process   0.01  1.0       2008.0   \n",
       "1     disease      C18;C10  Disease or Syndrome   0.01  1.0       2008.0   \n",
       "2   phenotype      C23;C08      Sign or Symptom   0.01  1.0       2017.0   \n",
       "3     disease          C05  Disease or Syndrome   0.01  1.0       2019.0   \n",
       "4     disease          C17  Disease or Syndrome   0.01  1.0       2020.0   \n",
       "\n",
       "   YearFinal  NofPmids  NofSnps  source  \n",
       "0     2008.0         1        0   LHGDN  \n",
       "1     2008.0         1        0  BEFREE  \n",
       "2     2017.0         1        0  BEFREE  \n",
       "3     2019.0         1        0  BEFREE  \n",
       "4     2020.0         1        0  BEFREE  "
      ]
     },
     "execution_count": 3,
     "metadata": {},
     "output_type": "execute_result"
    }
   ],
   "source": [
    "df.head()"
   ]
  },
  {
   "cell_type": "code",
   "execution_count": 4,
   "id": "28e8bc40",
   "metadata": {
    "scrolled": false
   },
   "outputs": [
    {
     "data": {
      "text/plain": [
       "array(['group', 'disease', 'phenotype'], dtype=object)"
      ]
     },
     "execution_count": 4,
     "metadata": {},
     "output_type": "execute_result"
    }
   ],
   "source": [
    "df['diseaseType'].unique()"
   ]
  },
  {
   "cell_type": "code",
   "execution_count": 5,
   "id": "87356b37",
   "metadata": {},
   "outputs": [
    {
     "data": {
      "text/plain": [
       "disease      781622\n",
       "phenotype    211293\n",
       "group        142027\n",
       "Name: diseaseType, dtype: int64"
      ]
     },
     "execution_count": 5,
     "metadata": {},
     "output_type": "execute_result"
    }
   ],
   "source": [
    "df['diseaseType'].value_counts()"
   ]
  },
  {
   "cell_type": "code",
   "execution_count": 6,
   "id": "d659644c",
   "metadata": {},
   "outputs": [
    {
     "data": {
      "text/plain": [
       "(1134942, 16)"
      ]
     },
     "execution_count": 6,
     "metadata": {},
     "output_type": "execute_result"
    }
   ],
   "source": [
    "df.shape"
   ]
  },
  {
   "cell_type": "code",
   "execution_count": 7,
   "id": "aff08f1a",
   "metadata": {},
   "outputs": [
    {
     "data": {
      "text/plain": [
       "30170"
      ]
     },
     "execution_count": 7,
     "metadata": {},
     "output_type": "execute_result"
    }
   ],
   "source": [
    "len(df.diseaseName.value_counts())"
   ]
  },
  {
   "cell_type": "code",
   "execution_count": 8,
   "id": "2aff2477",
   "metadata": {},
   "outputs": [
    {
     "data": {
      "text/plain": [
       "geneId                      0\n",
       "geneSymbol                  0\n",
       "DSI                      2584\n",
       "DPI                      2882\n",
       "diseaseId                   0\n",
       "diseaseName                 0\n",
       "diseaseType                 0\n",
       "diseaseClass           156403\n",
       "diseaseSemanticType         0\n",
       "score                       0\n",
       "EI                     166974\n",
       "YearInitial            166974\n",
       "YearFinal              166974\n",
       "NofPmids                    0\n",
       "NofSnps                     0\n",
       "source                      0\n",
       "dtype: int64"
      ]
     },
     "execution_count": 8,
     "metadata": {},
     "output_type": "execute_result"
    }
   ],
   "source": [
    "df.isnull().sum()"
   ]
  },
  {
   "cell_type": "code",
   "execution_count": 9,
   "id": "756785ee",
   "metadata": {},
   "outputs": [],
   "source": [
    "## seperating Numerical Variables from the dataset.\n",
    "num_var = df.select_dtypes(exclude='object')"
   ]
  },
  {
   "cell_type": "code",
   "execution_count": 10,
   "id": "bac76a15",
   "metadata": {},
   "outputs": [
    {
     "data": {
      "text/html": [
       "<div>\n",
       "<style scoped>\n",
       "    .dataframe tbody tr th:only-of-type {\n",
       "        vertical-align: middle;\n",
       "    }\n",
       "\n",
       "    .dataframe tbody tr th {\n",
       "        vertical-align: top;\n",
       "    }\n",
       "\n",
       "    .dataframe thead th {\n",
       "        text-align: right;\n",
       "    }\n",
       "</style>\n",
       "<table border=\"1\" class=\"dataframe\">\n",
       "  <thead>\n",
       "    <tr style=\"text-align: right;\">\n",
       "      <th></th>\n",
       "      <th>geneId</th>\n",
       "      <th>DSI</th>\n",
       "      <th>DPI</th>\n",
       "      <th>score</th>\n",
       "      <th>EI</th>\n",
       "      <th>YearInitial</th>\n",
       "      <th>YearFinal</th>\n",
       "      <th>NofPmids</th>\n",
       "      <th>NofSnps</th>\n",
       "    </tr>\n",
       "  </thead>\n",
       "  <tbody>\n",
       "    <tr>\n",
       "      <th>0</th>\n",
       "      <td>1</td>\n",
       "      <td>0.700</td>\n",
       "      <td>0.538</td>\n",
       "      <td>0.01</td>\n",
       "      <td>1.0</td>\n",
       "      <td>2008.0</td>\n",
       "      <td>2008.0</td>\n",
       "      <td>1</td>\n",
       "      <td>0</td>\n",
       "    </tr>\n",
       "    <tr>\n",
       "      <th>1</th>\n",
       "      <td>1</td>\n",
       "      <td>0.700</td>\n",
       "      <td>0.538</td>\n",
       "      <td>0.01</td>\n",
       "      <td>1.0</td>\n",
       "      <td>2008.0</td>\n",
       "      <td>2008.0</td>\n",
       "      <td>1</td>\n",
       "      <td>0</td>\n",
       "    </tr>\n",
       "    <tr>\n",
       "      <th>2</th>\n",
       "      <td>1</td>\n",
       "      <td>0.700</td>\n",
       "      <td>0.538</td>\n",
       "      <td>0.01</td>\n",
       "      <td>1.0</td>\n",
       "      <td>2017.0</td>\n",
       "      <td>2017.0</td>\n",
       "      <td>1</td>\n",
       "      <td>0</td>\n",
       "    </tr>\n",
       "    <tr>\n",
       "      <th>3</th>\n",
       "      <td>1</td>\n",
       "      <td>0.700</td>\n",
       "      <td>0.538</td>\n",
       "      <td>0.01</td>\n",
       "      <td>1.0</td>\n",
       "      <td>2019.0</td>\n",
       "      <td>2019.0</td>\n",
       "      <td>1</td>\n",
       "      <td>0</td>\n",
       "    </tr>\n",
       "    <tr>\n",
       "      <th>4</th>\n",
       "      <td>1</td>\n",
       "      <td>0.700</td>\n",
       "      <td>0.538</td>\n",
       "      <td>0.01</td>\n",
       "      <td>1.0</td>\n",
       "      <td>2020.0</td>\n",
       "      <td>2020.0</td>\n",
       "      <td>1</td>\n",
       "      <td>0</td>\n",
       "    </tr>\n",
       "    <tr>\n",
       "      <th>...</th>\n",
       "      <td>...</td>\n",
       "      <td>...</td>\n",
       "      <td>...</td>\n",
       "      <td>...</td>\n",
       "      <td>...</td>\n",
       "      <td>...</td>\n",
       "      <td>...</td>\n",
       "      <td>...</td>\n",
       "      <td>...</td>\n",
       "    </tr>\n",
       "    <tr>\n",
       "      <th>1134937</th>\n",
       "      <td>115804232</td>\n",
       "      <td>NaN</td>\n",
       "      <td>NaN</td>\n",
       "      <td>0.10</td>\n",
       "      <td>1.0</td>\n",
       "      <td>2019.0</td>\n",
       "      <td>2019.0</td>\n",
       "      <td>1</td>\n",
       "      <td>0</td>\n",
       "    </tr>\n",
       "    <tr>\n",
       "      <th>1134938</th>\n",
       "      <td>115891964</td>\n",
       "      <td>0.861</td>\n",
       "      <td>0.077</td>\n",
       "      <td>0.01</td>\n",
       "      <td>1.0</td>\n",
       "      <td>2016.0</td>\n",
       "      <td>2016.0</td>\n",
       "      <td>1</td>\n",
       "      <td>0</td>\n",
       "    </tr>\n",
       "    <tr>\n",
       "      <th>1134939</th>\n",
       "      <td>115891964</td>\n",
       "      <td>0.861</td>\n",
       "      <td>0.077</td>\n",
       "      <td>0.01</td>\n",
       "      <td>1.0</td>\n",
       "      <td>2016.0</td>\n",
       "      <td>2016.0</td>\n",
       "      <td>1</td>\n",
       "      <td>0</td>\n",
       "    </tr>\n",
       "    <tr>\n",
       "      <th>1134940</th>\n",
       "      <td>115891964</td>\n",
       "      <td>0.861</td>\n",
       "      <td>0.077</td>\n",
       "      <td>0.01</td>\n",
       "      <td>1.0</td>\n",
       "      <td>2016.0</td>\n",
       "      <td>2016.0</td>\n",
       "      <td>1</td>\n",
       "      <td>0</td>\n",
       "    </tr>\n",
       "    <tr>\n",
       "      <th>1134941</th>\n",
       "      <td>115891964</td>\n",
       "      <td>0.861</td>\n",
       "      <td>0.077</td>\n",
       "      <td>0.01</td>\n",
       "      <td>1.0</td>\n",
       "      <td>2016.0</td>\n",
       "      <td>2016.0</td>\n",
       "      <td>1</td>\n",
       "      <td>0</td>\n",
       "    </tr>\n",
       "  </tbody>\n",
       "</table>\n",
       "<p>1134942 rows × 9 columns</p>\n",
       "</div>"
      ],
      "text/plain": [
       "            geneId    DSI    DPI  score   EI  YearInitial  YearFinal  \\\n",
       "0                1  0.700  0.538   0.01  1.0       2008.0     2008.0   \n",
       "1                1  0.700  0.538   0.01  1.0       2008.0     2008.0   \n",
       "2                1  0.700  0.538   0.01  1.0       2017.0     2017.0   \n",
       "3                1  0.700  0.538   0.01  1.0       2019.0     2019.0   \n",
       "4                1  0.700  0.538   0.01  1.0       2020.0     2020.0   \n",
       "...            ...    ...    ...    ...  ...          ...        ...   \n",
       "1134937  115804232    NaN    NaN   0.10  1.0       2019.0     2019.0   \n",
       "1134938  115891964  0.861  0.077   0.01  1.0       2016.0     2016.0   \n",
       "1134939  115891964  0.861  0.077   0.01  1.0       2016.0     2016.0   \n",
       "1134940  115891964  0.861  0.077   0.01  1.0       2016.0     2016.0   \n",
       "1134941  115891964  0.861  0.077   0.01  1.0       2016.0     2016.0   \n",
       "\n",
       "         NofPmids  NofSnps  \n",
       "0               1        0  \n",
       "1               1        0  \n",
       "2               1        0  \n",
       "3               1        0  \n",
       "4               1        0  \n",
       "...           ...      ...  \n",
       "1134937         1        0  \n",
       "1134938         1        0  \n",
       "1134939         1        0  \n",
       "1134940         1        0  \n",
       "1134941         1        0  \n",
       "\n",
       "[1134942 rows x 9 columns]"
      ]
     },
     "execution_count": 10,
     "metadata": {},
     "output_type": "execute_result"
    }
   ],
   "source": [
    "num_var"
   ]
  },
  {
   "cell_type": "code",
   "execution_count": 11,
   "id": "e431fd7e",
   "metadata": {},
   "outputs": [
    {
     "data": {
      "text/plain": [
       "0.534"
      ]
     },
     "execution_count": 11,
     "metadata": {},
     "output_type": "execute_result"
    }
   ],
   "source": [
    "df.DSI.median()"
   ]
  },
  {
   "cell_type": "code",
   "execution_count": 12,
   "id": "555edd08",
   "metadata": {},
   "outputs": [
    {
     "data": {
      "text/plain": [
       "0.5416682056381463"
      ]
     },
     "execution_count": 12,
     "metadata": {},
     "output_type": "execute_result"
    }
   ],
   "source": [
    "df.DSI.mean()"
   ]
  },
  {
   "cell_type": "code",
   "execution_count": 13,
   "id": "8f4a9d66",
   "metadata": {},
   "outputs": [
    {
     "data": {
      "text/html": [
       "<div>\n",
       "<style scoped>\n",
       "    .dataframe tbody tr th:only-of-type {\n",
       "        vertical-align: middle;\n",
       "    }\n",
       "\n",
       "    .dataframe tbody tr th {\n",
       "        vertical-align: top;\n",
       "    }\n",
       "\n",
       "    .dataframe thead th {\n",
       "        text-align: right;\n",
       "    }\n",
       "</style>\n",
       "<table border=\"1\" class=\"dataframe\">\n",
       "  <thead>\n",
       "    <tr style=\"text-align: right;\">\n",
       "      <th></th>\n",
       "      <th>geneId</th>\n",
       "      <th>DSI</th>\n",
       "      <th>DPI</th>\n",
       "      <th>score</th>\n",
       "      <th>EI</th>\n",
       "      <th>YearInitial</th>\n",
       "      <th>YearFinal</th>\n",
       "      <th>NofPmids</th>\n",
       "      <th>NofSnps</th>\n",
       "    </tr>\n",
       "  </thead>\n",
       "  <tbody>\n",
       "    <tr>\n",
       "      <th>count</th>\n",
       "      <td>1.134942e+06</td>\n",
       "      <td>1.132358e+06</td>\n",
       "      <td>1.132060e+06</td>\n",
       "      <td>1.134942e+06</td>\n",
       "      <td>967968.000000</td>\n",
       "      <td>967968.000000</td>\n",
       "      <td>967968.000000</td>\n",
       "      <td>1.134942e+06</td>\n",
       "      <td>1.134942e+06</td>\n",
       "    </tr>\n",
       "    <tr>\n",
       "      <th>mean</th>\n",
       "      <td>2.437042e+06</td>\n",
       "      <td>5.416682e-01</td>\n",
       "      <td>6.979658e-01</td>\n",
       "      <td>6.318843e-02</td>\n",
       "      <td>0.975242</td>\n",
       "      <td>2011.138019</td>\n",
       "      <td>2013.941110</td>\n",
       "      <td>2.632643e+00</td>\n",
       "      <td>2.407973e-01</td>\n",
       "    </tr>\n",
       "    <tr>\n",
       "      <th>std</th>\n",
       "      <td>1.553331e+07</td>\n",
       "      <td>1.300706e-01</td>\n",
       "      <td>2.029981e-01</td>\n",
       "      <td>9.900556e-02</td>\n",
       "      <td>0.136500</td>\n",
       "      <td>7.649745</td>\n",
       "      <td>6.370832</td>\n",
       "      <td>1.949824e+01</td>\n",
       "      <td>5.058252e+00</td>\n",
       "    </tr>\n",
       "    <tr>\n",
       "      <th>min</th>\n",
       "      <td>1.000000e+00</td>\n",
       "      <td>2.310000e-01</td>\n",
       "      <td>3.800000e-02</td>\n",
       "      <td>1.000000e-02</td>\n",
       "      <td>0.000000</td>\n",
       "      <td>1924.000000</td>\n",
       "      <td>1959.000000</td>\n",
       "      <td>0.000000e+00</td>\n",
       "      <td>0.000000e+00</td>\n",
       "    </tr>\n",
       "    <tr>\n",
       "      <th>25%</th>\n",
       "      <td>3.169000e+03</td>\n",
       "      <td>4.520000e-01</td>\n",
       "      <td>6.150000e-01</td>\n",
       "      <td>1.000000e-02</td>\n",
       "      <td>1.000000</td>\n",
       "      <td>2007.000000</td>\n",
       "      <td>2011.000000</td>\n",
       "      <td>1.000000e+00</td>\n",
       "      <td>0.000000e+00</td>\n",
       "    </tr>\n",
       "    <tr>\n",
       "      <th>50%</th>\n",
       "      <td>6.580000e+03</td>\n",
       "      <td>5.340000e-01</td>\n",
       "      <td>7.690000e-01</td>\n",
       "      <td>2.000000e-02</td>\n",
       "      <td>1.000000</td>\n",
       "      <td>2013.000000</td>\n",
       "      <td>2017.000000</td>\n",
       "      <td>1.000000e+00</td>\n",
       "      <td>0.000000e+00</td>\n",
       "    </tr>\n",
       "    <tr>\n",
       "      <th>75%</th>\n",
       "      <td>2.734200e+04</td>\n",
       "      <td>6.210000e-01</td>\n",
       "      <td>8.460000e-01</td>\n",
       "      <td>1.000000e-01</td>\n",
       "      <td>1.000000</td>\n",
       "      <td>2017.000000</td>\n",
       "      <td>2019.000000</td>\n",
       "      <td>2.000000e+00</td>\n",
       "      <td>0.000000e+00</td>\n",
       "    </tr>\n",
       "    <tr>\n",
       "      <th>max</th>\n",
       "      <td>1.158920e+08</td>\n",
       "      <td>1.000000e+00</td>\n",
       "      <td>9.620000e-01</td>\n",
       "      <td>1.000000e+00</td>\n",
       "      <td>1.000000</td>\n",
       "      <td>2020.000000</td>\n",
       "      <td>2020.000000</td>\n",
       "      <td>6.577000e+03</td>\n",
       "      <td>2.632000e+03</td>\n",
       "    </tr>\n",
       "  </tbody>\n",
       "</table>\n",
       "</div>"
      ],
      "text/plain": [
       "             geneId           DSI           DPI         score             EI  \\\n",
       "count  1.134942e+06  1.132358e+06  1.132060e+06  1.134942e+06  967968.000000   \n",
       "mean   2.437042e+06  5.416682e-01  6.979658e-01  6.318843e-02       0.975242   \n",
       "std    1.553331e+07  1.300706e-01  2.029981e-01  9.900556e-02       0.136500   \n",
       "min    1.000000e+00  2.310000e-01  3.800000e-02  1.000000e-02       0.000000   \n",
       "25%    3.169000e+03  4.520000e-01  6.150000e-01  1.000000e-02       1.000000   \n",
       "50%    6.580000e+03  5.340000e-01  7.690000e-01  2.000000e-02       1.000000   \n",
       "75%    2.734200e+04  6.210000e-01  8.460000e-01  1.000000e-01       1.000000   \n",
       "max    1.158920e+08  1.000000e+00  9.620000e-01  1.000000e+00       1.000000   \n",
       "\n",
       "         YearInitial      YearFinal      NofPmids       NofSnps  \n",
       "count  967968.000000  967968.000000  1.134942e+06  1.134942e+06  \n",
       "mean     2011.138019    2013.941110  2.632643e+00  2.407973e-01  \n",
       "std         7.649745       6.370832  1.949824e+01  5.058252e+00  \n",
       "min      1924.000000    1959.000000  0.000000e+00  0.000000e+00  \n",
       "25%      2007.000000    2011.000000  1.000000e+00  0.000000e+00  \n",
       "50%      2013.000000    2017.000000  1.000000e+00  0.000000e+00  \n",
       "75%      2017.000000    2019.000000  2.000000e+00  0.000000e+00  \n",
       "max      2020.000000    2020.000000  6.577000e+03  2.632000e+03  "
      ]
     },
     "execution_count": 13,
     "metadata": {},
     "output_type": "execute_result"
    }
   ],
   "source": [
    "df.describe()"
   ]
  },
  {
   "cell_type": "code",
   "execution_count": 14,
   "id": "97b4f61f",
   "metadata": {},
   "outputs": [
    {
     "data": {
      "text/plain": [
       "0.769"
      ]
     },
     "execution_count": 14,
     "metadata": {},
     "output_type": "execute_result"
    }
   ],
   "source": [
    "df.DPI.median()"
   ]
  },
  {
   "cell_type": "code",
   "execution_count": 15,
   "id": "0d6f6a63",
   "metadata": {},
   "outputs": [
    {
     "data": {
      "text/plain": [
       "0.6979657933325094"
      ]
     },
     "execution_count": 15,
     "metadata": {},
     "output_type": "execute_result"
    }
   ],
   "source": [
    "df.DPI.mean()"
   ]
  },
  {
   "cell_type": "code",
   "execution_count": 16,
   "id": "7b5e0b57",
   "metadata": {},
   "outputs": [
    {
     "name": "stderr",
     "output_type": "stream",
     "text": [
      "C:\\Program Files\\Python36\\lib\\site-packages\\pandas\\core\\series.py:4536: SettingWithCopyWarning: \n",
      "A value is trying to be set on a copy of a slice from a DataFrame\n",
      "\n",
      "See the caveats in the documentation: https://pandas.pydata.org/pandas-docs/stable/user_guide/indexing.html#returning-a-view-versus-a-copy\n",
      "  downcast=downcast,\n"
     ]
    }
   ],
   "source": [
    "num_var.fillna(num_var.median(),inplace = True)"
   ]
  },
  {
   "cell_type": "code",
   "execution_count": 17,
   "id": "6a83b7a5",
   "metadata": {},
   "outputs": [
    {
     "data": {
      "text/plain": [
       "geneId         0\n",
       "DSI            0\n",
       "DPI            0\n",
       "score          0\n",
       "EI             0\n",
       "YearInitial    0\n",
       "YearFinal      0\n",
       "NofPmids       0\n",
       "NofSnps        0\n",
       "dtype: int64"
      ]
     },
     "execution_count": 17,
     "metadata": {},
     "output_type": "execute_result"
    }
   ],
   "source": [
    "num_var.isnull().sum()"
   ]
  },
  {
   "cell_type": "code",
   "execution_count": 18,
   "id": "ffb80629",
   "metadata": {},
   "outputs": [],
   "source": [
    "## Sepearting Categorical Variables from the dataset.\n",
    "cat_var = df.select_dtypes(include='object')"
   ]
  },
  {
   "cell_type": "code",
   "execution_count": 19,
   "id": "e2554c16",
   "metadata": {},
   "outputs": [
    {
     "data": {
      "text/html": [
       "<div>\n",
       "<style scoped>\n",
       "    .dataframe tbody tr th:only-of-type {\n",
       "        vertical-align: middle;\n",
       "    }\n",
       "\n",
       "    .dataframe tbody tr th {\n",
       "        vertical-align: top;\n",
       "    }\n",
       "\n",
       "    .dataframe thead th {\n",
       "        text-align: right;\n",
       "    }\n",
       "</style>\n",
       "<table border=\"1\" class=\"dataframe\">\n",
       "  <thead>\n",
       "    <tr style=\"text-align: right;\">\n",
       "      <th></th>\n",
       "      <th>geneSymbol</th>\n",
       "      <th>diseaseId</th>\n",
       "      <th>diseaseName</th>\n",
       "      <th>diseaseType</th>\n",
       "      <th>diseaseClass</th>\n",
       "      <th>diseaseSemanticType</th>\n",
       "      <th>source</th>\n",
       "    </tr>\n",
       "  </thead>\n",
       "  <tbody>\n",
       "    <tr>\n",
       "      <th>0</th>\n",
       "      <td>A1BG</td>\n",
       "      <td>C0001418</td>\n",
       "      <td>Adenocarcinoma</td>\n",
       "      <td>group</td>\n",
       "      <td>C04</td>\n",
       "      <td>Neoplastic Process</td>\n",
       "      <td>LHGDN</td>\n",
       "    </tr>\n",
       "    <tr>\n",
       "      <th>1</th>\n",
       "      <td>A1BG</td>\n",
       "      <td>C0002736</td>\n",
       "      <td>Amyotrophic Lateral Sclerosis</td>\n",
       "      <td>disease</td>\n",
       "      <td>C18;C10</td>\n",
       "      <td>Disease or Syndrome</td>\n",
       "      <td>BEFREE</td>\n",
       "    </tr>\n",
       "    <tr>\n",
       "      <th>2</th>\n",
       "      <td>A1BG</td>\n",
       "      <td>C0003578</td>\n",
       "      <td>Apnea</td>\n",
       "      <td>phenotype</td>\n",
       "      <td>C23;C08</td>\n",
       "      <td>Sign or Symptom</td>\n",
       "      <td>BEFREE</td>\n",
       "    </tr>\n",
       "    <tr>\n",
       "      <th>3</th>\n",
       "      <td>A1BG</td>\n",
       "      <td>C0003864</td>\n",
       "      <td>Arthritis</td>\n",
       "      <td>disease</td>\n",
       "      <td>C05</td>\n",
       "      <td>Disease or Syndrome</td>\n",
       "      <td>BEFREE</td>\n",
       "    </tr>\n",
       "    <tr>\n",
       "      <th>4</th>\n",
       "      <td>A1BG</td>\n",
       "      <td>C0008373</td>\n",
       "      <td>Cholesteatoma</td>\n",
       "      <td>disease</td>\n",
       "      <td>C17</td>\n",
       "      <td>Disease or Syndrome</td>\n",
       "      <td>BEFREE</td>\n",
       "    </tr>\n",
       "  </tbody>\n",
       "</table>\n",
       "</div>"
      ],
      "text/plain": [
       "  geneSymbol diseaseId                    diseaseName diseaseType  \\\n",
       "0       A1BG  C0001418                 Adenocarcinoma       group   \n",
       "1       A1BG  C0002736  Amyotrophic Lateral Sclerosis     disease   \n",
       "2       A1BG  C0003578                          Apnea   phenotype   \n",
       "3       A1BG  C0003864                      Arthritis     disease   \n",
       "4       A1BG  C0008373                  Cholesteatoma     disease   \n",
       "\n",
       "  diseaseClass  diseaseSemanticType  source  \n",
       "0          C04   Neoplastic Process   LHGDN  \n",
       "1      C18;C10  Disease or Syndrome  BEFREE  \n",
       "2      C23;C08      Sign or Symptom  BEFREE  \n",
       "3          C05  Disease or Syndrome  BEFREE  \n",
       "4          C17  Disease or Syndrome  BEFREE  "
      ]
     },
     "execution_count": 19,
     "metadata": {},
     "output_type": "execute_result"
    }
   ],
   "source": [
    "cat_var.head()"
   ]
  },
  {
   "cell_type": "code",
   "execution_count": 20,
   "id": "0280ccdd",
   "metadata": {},
   "outputs": [
    {
     "data": {
      "text/plain": [
       "geneSymbol                  0\n",
       "diseaseId                   0\n",
       "diseaseName                 0\n",
       "diseaseType                 0\n",
       "diseaseClass           156403\n",
       "diseaseSemanticType         0\n",
       "source                      0\n",
       "dtype: int64"
      ]
     },
     "execution_count": 20,
     "metadata": {},
     "output_type": "execute_result"
    }
   ],
   "source": [
    "cat_var.isnull().sum()"
   ]
  },
  {
   "cell_type": "code",
   "execution_count": 21,
   "id": "6b183d5c",
   "metadata": {},
   "outputs": [
    {
     "data": {
      "text/plain": [
       "0    C04\n",
       "dtype: object"
      ]
     },
     "execution_count": 21,
     "metadata": {},
     "output_type": "execute_result"
    }
   ],
   "source": [
    "df.diseaseClass.mode()"
   ]
  },
  {
   "cell_type": "code",
   "execution_count": 22,
   "id": "c49b2336",
   "metadata": {},
   "outputs": [],
   "source": [
    "## Handling missing categorical variuables\n",
    "cat_var = cat_var.apply(lambda x: x.fillna(x.value_counts().index[0]))"
   ]
  },
  {
   "cell_type": "code",
   "execution_count": 23,
   "id": "5df99342",
   "metadata": {},
   "outputs": [
    {
     "data": {
      "text/plain": [
       "geneSymbol             0\n",
       "diseaseId              0\n",
       "diseaseName            0\n",
       "diseaseType            0\n",
       "diseaseClass           0\n",
       "diseaseSemanticType    0\n",
       "source                 0\n",
       "dtype: int64"
      ]
     },
     "execution_count": 23,
     "metadata": {},
     "output_type": "execute_result"
    }
   ],
   "source": [
    "cat_var.isnull().sum()"
   ]
  },
  {
   "cell_type": "code",
   "execution_count": 24,
   "id": "35309fd1",
   "metadata": {},
   "outputs": [
    {
     "data": {
      "text/html": [
       "<div>\n",
       "<style scoped>\n",
       "    .dataframe tbody tr th:only-of-type {\n",
       "        vertical-align: middle;\n",
       "    }\n",
       "\n",
       "    .dataframe tbody tr th {\n",
       "        vertical-align: top;\n",
       "    }\n",
       "\n",
       "    .dataframe thead th {\n",
       "        text-align: right;\n",
       "    }\n",
       "</style>\n",
       "<table border=\"1\" class=\"dataframe\">\n",
       "  <thead>\n",
       "    <tr style=\"text-align: right;\">\n",
       "      <th></th>\n",
       "      <th>geneSymbol</th>\n",
       "      <th>diseaseId</th>\n",
       "      <th>diseaseName</th>\n",
       "      <th>diseaseType</th>\n",
       "      <th>diseaseClass</th>\n",
       "      <th>diseaseSemanticType</th>\n",
       "      <th>source</th>\n",
       "    </tr>\n",
       "  </thead>\n",
       "  <tbody>\n",
       "    <tr>\n",
       "      <th>0</th>\n",
       "      <td>A1BG</td>\n",
       "      <td>C0001418</td>\n",
       "      <td>Adenocarcinoma</td>\n",
       "      <td>group</td>\n",
       "      <td>C04</td>\n",
       "      <td>Neoplastic Process</td>\n",
       "      <td>LHGDN</td>\n",
       "    </tr>\n",
       "    <tr>\n",
       "      <th>1</th>\n",
       "      <td>A1BG</td>\n",
       "      <td>C0002736</td>\n",
       "      <td>Amyotrophic Lateral Sclerosis</td>\n",
       "      <td>disease</td>\n",
       "      <td>C18;C10</td>\n",
       "      <td>Disease or Syndrome</td>\n",
       "      <td>BEFREE</td>\n",
       "    </tr>\n",
       "    <tr>\n",
       "      <th>2</th>\n",
       "      <td>A1BG</td>\n",
       "      <td>C0003578</td>\n",
       "      <td>Apnea</td>\n",
       "      <td>phenotype</td>\n",
       "      <td>C23;C08</td>\n",
       "      <td>Sign or Symptom</td>\n",
       "      <td>BEFREE</td>\n",
       "    </tr>\n",
       "    <tr>\n",
       "      <th>3</th>\n",
       "      <td>A1BG</td>\n",
       "      <td>C0003864</td>\n",
       "      <td>Arthritis</td>\n",
       "      <td>disease</td>\n",
       "      <td>C05</td>\n",
       "      <td>Disease or Syndrome</td>\n",
       "      <td>BEFREE</td>\n",
       "    </tr>\n",
       "    <tr>\n",
       "      <th>4</th>\n",
       "      <td>A1BG</td>\n",
       "      <td>C0008373</td>\n",
       "      <td>Cholesteatoma</td>\n",
       "      <td>disease</td>\n",
       "      <td>C17</td>\n",
       "      <td>Disease or Syndrome</td>\n",
       "      <td>BEFREE</td>\n",
       "    </tr>\n",
       "  </tbody>\n",
       "</table>\n",
       "</div>"
      ],
      "text/plain": [
       "  geneSymbol diseaseId                    diseaseName diseaseType  \\\n",
       "0       A1BG  C0001418                 Adenocarcinoma       group   \n",
       "1       A1BG  C0002736  Amyotrophic Lateral Sclerosis     disease   \n",
       "2       A1BG  C0003578                          Apnea   phenotype   \n",
       "3       A1BG  C0003864                      Arthritis     disease   \n",
       "4       A1BG  C0008373                  Cholesteatoma     disease   \n",
       "\n",
       "  diseaseClass  diseaseSemanticType  source  \n",
       "0          C04   Neoplastic Process   LHGDN  \n",
       "1      C18;C10  Disease or Syndrome  BEFREE  \n",
       "2      C23;C08      Sign or Symptom  BEFREE  \n",
       "3          C05  Disease or Syndrome  BEFREE  \n",
       "4          C17  Disease or Syndrome  BEFREE  "
      ]
     },
     "execution_count": 24,
     "metadata": {},
     "output_type": "execute_result"
    }
   ],
   "source": [
    "cat_var.head()"
   ]
  },
  {
   "cell_type": "code",
   "execution_count": 25,
   "id": "a00456d8",
   "metadata": {},
   "outputs": [
    {
     "data": {
      "text/plain": [
       "TNF            2724\n",
       "TP53           2494\n",
       "IL6            2367\n",
       "VEGFA          1899\n",
       "IL1B           1801\n",
       "               ... \n",
       "FMC1-LUC7L2       1\n",
       "GUSBP15           1\n",
       "MORN3             1\n",
       "TULP3P1           1\n",
       "EIF4EP2           1\n",
       "Name: geneSymbol, Length: 21666, dtype: int64"
      ]
     },
     "execution_count": 25,
     "metadata": {},
     "output_type": "execute_result"
    }
   ],
   "source": [
    "cat_var.geneSymbol.value_counts()"
   ]
  },
  {
   "cell_type": "code",
   "execution_count": 26,
   "id": "915d4fb8",
   "metadata": {
    "scrolled": true
   },
   "outputs": [
    {
     "data": {
      "text/html": [
       "<div>\n",
       "<style scoped>\n",
       "    .dataframe tbody tr th:only-of-type {\n",
       "        vertical-align: middle;\n",
       "    }\n",
       "\n",
       "    .dataframe tbody tr th {\n",
       "        vertical-align: top;\n",
       "    }\n",
       "\n",
       "    .dataframe thead th {\n",
       "        text-align: right;\n",
       "    }\n",
       "</style>\n",
       "<table border=\"1\" class=\"dataframe\">\n",
       "  <thead>\n",
       "    <tr style=\"text-align: right;\">\n",
       "      <th></th>\n",
       "      <th>geneSymbol</th>\n",
       "      <th>diseaseId</th>\n",
       "      <th>diseaseName</th>\n",
       "      <th>diseaseType</th>\n",
       "      <th>diseaseClass</th>\n",
       "      <th>diseaseSemanticType</th>\n",
       "      <th>source</th>\n",
       "    </tr>\n",
       "  </thead>\n",
       "  <tbody>\n",
       "    <tr>\n",
       "      <th>0</th>\n",
       "      <td>A1BG</td>\n",
       "      <td>C0001418</td>\n",
       "      <td>Adenocarcinoma</td>\n",
       "      <td>group</td>\n",
       "      <td>C04</td>\n",
       "      <td>Neoplastic Process</td>\n",
       "      <td>LHGDN</td>\n",
       "    </tr>\n",
       "    <tr>\n",
       "      <th>1</th>\n",
       "      <td>A1BG</td>\n",
       "      <td>C0002736</td>\n",
       "      <td>Amyotrophic Lateral Sclerosis</td>\n",
       "      <td>disease</td>\n",
       "      <td>C18;C10</td>\n",
       "      <td>Disease or Syndrome</td>\n",
       "      <td>BEFREE</td>\n",
       "    </tr>\n",
       "  </tbody>\n",
       "</table>\n",
       "</div>"
      ],
      "text/plain": [
       "  geneSymbol diseaseId                    diseaseName diseaseType  \\\n",
       "0       A1BG  C0001418                 Adenocarcinoma       group   \n",
       "1       A1BG  C0002736  Amyotrophic Lateral Sclerosis     disease   \n",
       "\n",
       "  diseaseClass  diseaseSemanticType  source  \n",
       "0          C04   Neoplastic Process   LHGDN  \n",
       "1      C18;C10  Disease or Syndrome  BEFREE  "
      ]
     },
     "execution_count": 26,
     "metadata": {},
     "output_type": "execute_result"
    }
   ],
   "source": [
    "cat_var.head(2)"
   ]
  },
  {
   "cell_type": "code",
   "execution_count": 27,
   "id": "4f220020",
   "metadata": {},
   "outputs": [
    {
     "data": {
      "text/plain": [
       "30170"
      ]
     },
     "execution_count": 27,
     "metadata": {},
     "output_type": "execute_result"
    }
   ],
   "source": [
    "len(cat_var.diseaseName.value_counts())"
   ]
  },
  {
   "cell_type": "code",
   "execution_count": 28,
   "id": "0f186a9c",
   "metadata": {},
   "outputs": [
    {
     "data": {
      "text/plain": [
       "disease      781622\n",
       "phenotype    211293\n",
       "group        142027\n",
       "Name: diseaseType, dtype: int64"
      ]
     },
     "execution_count": 28,
     "metadata": {},
     "output_type": "execute_result"
    }
   ],
   "source": [
    "cat_var.diseaseType.value_counts()"
   ]
  },
  {
   "cell_type": "code",
   "execution_count": 29,
   "id": "71bae1d0",
   "metadata": {},
   "outputs": [
    {
     "data": {
      "text/plain": [
       "33"
      ]
     },
     "execution_count": 29,
     "metadata": {},
     "output_type": "execute_result"
    }
   ],
   "source": [
    "len(cat_var.diseaseSemanticType.value_counts())"
   ]
  },
  {
   "cell_type": "code",
   "execution_count": 30,
   "id": "cc5175fb",
   "metadata": {},
   "outputs": [
    {
     "data": {
      "text/plain": [
       "BEFREE                                                             789377\n",
       "HPO                                                                148643\n",
       "CTD_human                                                           44786\n",
       "GWASCAT                                                             34270\n",
       "CLINVAR                                                             14326\n",
       "                                                                    ...  \n",
       "BEFREE;CTD_human;GWASCAT;GWASDB;HPO;ORPHANET                            1\n",
       "BEFREE;CLINVAR;CTD_human;GENOMICS_ENGLAND;HPO;LHGDN;MGD;RGD             1\n",
       "BEFREE;CLINGEN;CLINVAR;CTD_human;GENOMICS_ENGLAND;LHGDN;UNIPROT         1\n",
       "BEFREE;CGI;CLINVAR;CTD_human;GENOMICS_ENGLAND;LHGDN;MGD                 1\n",
       "BEFREE;CGI;CLINVAR;CTD_human;MGD                                        1\n",
       "Name: source, Length: 878, dtype: int64"
      ]
     },
     "execution_count": 30,
     "metadata": {},
     "output_type": "execute_result"
    }
   ],
   "source": [
    "cat_var.source.value_counts()"
   ]
  },
  {
   "cell_type": "code",
   "execution_count": 31,
   "id": "7b0054de",
   "metadata": {},
   "outputs": [
    {
     "data": {
      "text/plain": [
       "C04                    289130\n",
       "C06;C04                 50706\n",
       "C14                     33452\n",
       "C23                     32747\n",
       "C23;C10                 28039\n",
       "                        ...  \n",
       "C23;C21                     1\n",
       "C11;C05;C10;C14             1\n",
       "C16;C06;C04;C07             1\n",
       "C16;C04;C05;C14             1\n",
       "C23;C16;C13;C05;C10         1\n",
       "Name: diseaseClass, Length: 1106, dtype: int64"
      ]
     },
     "execution_count": 31,
     "metadata": {},
     "output_type": "execute_result"
    }
   ],
   "source": [
    "cat_var.diseaseClass.value_counts()"
   ]
  },
  {
   "cell_type": "code",
   "execution_count": 32,
   "id": "364bf189",
   "metadata": {},
   "outputs": [],
   "source": [
    "le = LabelEncoder()\n",
    "cat_var1 = cat_var.apply(le.fit_transform)"
   ]
  },
  {
   "cell_type": "code",
   "execution_count": 33,
   "id": "5af42f19",
   "metadata": {},
   "outputs": [
    {
     "data": {
      "text/html": [
       "<div>\n",
       "<style scoped>\n",
       "    .dataframe tbody tr th:only-of-type {\n",
       "        vertical-align: middle;\n",
       "    }\n",
       "\n",
       "    .dataframe tbody tr th {\n",
       "        vertical-align: top;\n",
       "    }\n",
       "\n",
       "    .dataframe thead th {\n",
       "        text-align: right;\n",
       "    }\n",
       "</style>\n",
       "<table border=\"1\" class=\"dataframe\">\n",
       "  <thead>\n",
       "    <tr style=\"text-align: right;\">\n",
       "      <th></th>\n",
       "      <th>geneSymbol</th>\n",
       "      <th>diseaseId</th>\n",
       "      <th>diseaseName</th>\n",
       "      <th>diseaseType</th>\n",
       "      <th>diseaseClass</th>\n",
       "      <th>diseaseSemanticType</th>\n",
       "      <th>source</th>\n",
       "    </tr>\n",
       "  </thead>\n",
       "  <tbody>\n",
       "    <tr>\n",
       "      <th>0</th>\n",
       "      <td>A1BG</td>\n",
       "      <td>C0001418</td>\n",
       "      <td>Adenocarcinoma</td>\n",
       "      <td>group</td>\n",
       "      <td>C04</td>\n",
       "      <td>Neoplastic Process</td>\n",
       "      <td>LHGDN</td>\n",
       "    </tr>\n",
       "    <tr>\n",
       "      <th>1</th>\n",
       "      <td>A1BG</td>\n",
       "      <td>C0002736</td>\n",
       "      <td>Amyotrophic Lateral Sclerosis</td>\n",
       "      <td>disease</td>\n",
       "      <td>C18;C10</td>\n",
       "      <td>Disease or Syndrome</td>\n",
       "      <td>BEFREE</td>\n",
       "    </tr>\n",
       "    <tr>\n",
       "      <th>2</th>\n",
       "      <td>A1BG</td>\n",
       "      <td>C0003578</td>\n",
       "      <td>Apnea</td>\n",
       "      <td>phenotype</td>\n",
       "      <td>C23;C08</td>\n",
       "      <td>Sign or Symptom</td>\n",
       "      <td>BEFREE</td>\n",
       "    </tr>\n",
       "  </tbody>\n",
       "</table>\n",
       "</div>"
      ],
      "text/plain": [
       "  geneSymbol diseaseId                    diseaseName diseaseType  \\\n",
       "0       A1BG  C0001418                 Adenocarcinoma       group   \n",
       "1       A1BG  C0002736  Amyotrophic Lateral Sclerosis     disease   \n",
       "2       A1BG  C0003578                          Apnea   phenotype   \n",
       "\n",
       "  diseaseClass  diseaseSemanticType  source  \n",
       "0          C04   Neoplastic Process   LHGDN  \n",
       "1      C18;C10  Disease or Syndrome  BEFREE  \n",
       "2      C23;C08      Sign or Symptom  BEFREE  "
      ]
     },
     "execution_count": 33,
     "metadata": {},
     "output_type": "execute_result"
    }
   ],
   "source": [
    "cat_var.head(3)"
   ]
  },
  {
   "cell_type": "code",
   "execution_count": 34,
   "id": "5f3ecea1",
   "metadata": {},
   "outputs": [
    {
     "data": {
      "text/html": [
       "<div>\n",
       "<style scoped>\n",
       "    .dataframe tbody tr th:only-of-type {\n",
       "        vertical-align: middle;\n",
       "    }\n",
       "\n",
       "    .dataframe tbody tr th {\n",
       "        vertical-align: top;\n",
       "    }\n",
       "\n",
       "    .dataframe thead th {\n",
       "        text-align: right;\n",
       "    }\n",
       "</style>\n",
       "<table border=\"1\" class=\"dataframe\">\n",
       "  <thead>\n",
       "    <tr style=\"text-align: right;\">\n",
       "      <th></th>\n",
       "      <th>geneSymbol</th>\n",
       "      <th>diseaseId</th>\n",
       "      <th>diseaseName</th>\n",
       "      <th>diseaseType</th>\n",
       "      <th>diseaseClass</th>\n",
       "      <th>diseaseSemanticType</th>\n",
       "      <th>source</th>\n",
       "    </tr>\n",
       "  </thead>\n",
       "  <tbody>\n",
       "    <tr>\n",
       "      <th>0</th>\n",
       "      <td>0</td>\n",
       "      <td>52</td>\n",
       "      <td>1855</td>\n",
       "      <td>1</td>\n",
       "      <td>49</td>\n",
       "      <td>23</td>\n",
       "      <td>859</td>\n",
       "    </tr>\n",
       "    <tr>\n",
       "      <th>1</th>\n",
       "      <td>0</td>\n",
       "      <td>134</td>\n",
       "      <td>2533</td>\n",
       "      <td>0</td>\n",
       "      <td>613</td>\n",
       "      <td>11</td>\n",
       "      <td>0</td>\n",
       "    </tr>\n",
       "    <tr>\n",
       "      <th>2</th>\n",
       "      <td>0</td>\n",
       "      <td>222</td>\n",
       "      <td>3074</td>\n",
       "      <td>2</td>\n",
       "      <td>740</td>\n",
       "      <td>30</td>\n",
       "      <td>0</td>\n",
       "    </tr>\n",
       "  </tbody>\n",
       "</table>\n",
       "</div>"
      ],
      "text/plain": [
       "   geneSymbol  diseaseId  diseaseName  diseaseType  diseaseClass  \\\n",
       "0           0         52         1855            1            49   \n",
       "1           0        134         2533            0           613   \n",
       "2           0        222         3074            2           740   \n",
       "\n",
       "   diseaseSemanticType  source  \n",
       "0                   23     859  \n",
       "1                   11       0  \n",
       "2                   30       0  "
      ]
     },
     "execution_count": 34,
     "metadata": {},
     "output_type": "execute_result"
    }
   ],
   "source": [
    "cat_var1.head(3)"
   ]
  },
  {
   "cell_type": "code",
   "execution_count": 35,
   "id": "505cb934",
   "metadata": {},
   "outputs": [
    {
     "data": {
      "text/html": [
       "<div>\n",
       "<style scoped>\n",
       "    .dataframe tbody tr th:only-of-type {\n",
       "        vertical-align: middle;\n",
       "    }\n",
       "\n",
       "    .dataframe tbody tr th {\n",
       "        vertical-align: top;\n",
       "    }\n",
       "\n",
       "    .dataframe thead th {\n",
       "        text-align: right;\n",
       "    }\n",
       "</style>\n",
       "<table border=\"1\" class=\"dataframe\">\n",
       "  <thead>\n",
       "    <tr style=\"text-align: right;\">\n",
       "      <th></th>\n",
       "      <th>geneSymbol</th>\n",
       "      <th>diseaseId</th>\n",
       "      <th>diseaseName</th>\n",
       "      <th>diseaseType</th>\n",
       "      <th>diseaseClass</th>\n",
       "      <th>diseaseSemanticType</th>\n",
       "      <th>source</th>\n",
       "    </tr>\n",
       "  </thead>\n",
       "  <tbody>\n",
       "    <tr>\n",
       "      <th>0</th>\n",
       "      <td>0</td>\n",
       "      <td>52</td>\n",
       "      <td>1855</td>\n",
       "      <td>1</td>\n",
       "      <td>49</td>\n",
       "      <td>23</td>\n",
       "      <td>859</td>\n",
       "    </tr>\n",
       "    <tr>\n",
       "      <th>1</th>\n",
       "      <td>0</td>\n",
       "      <td>134</td>\n",
       "      <td>2533</td>\n",
       "      <td>0</td>\n",
       "      <td>613</td>\n",
       "      <td>11</td>\n",
       "      <td>0</td>\n",
       "    </tr>\n",
       "    <tr>\n",
       "      <th>2</th>\n",
       "      <td>0</td>\n",
       "      <td>222</td>\n",
       "      <td>3074</td>\n",
       "      <td>2</td>\n",
       "      <td>740</td>\n",
       "      <td>30</td>\n",
       "      <td>0</td>\n",
       "    </tr>\n",
       "    <tr>\n",
       "      <th>3</th>\n",
       "      <td>0</td>\n",
       "      <td>244</td>\n",
       "      <td>3209</td>\n",
       "      <td>0</td>\n",
       "      <td>127</td>\n",
       "      <td>11</td>\n",
       "      <td>0</td>\n",
       "    </tr>\n",
       "    <tr>\n",
       "      <th>4</th>\n",
       "      <td>0</td>\n",
       "      <td>565</td>\n",
       "      <td>6371</td>\n",
       "      <td>0</td>\n",
       "      <td>572</td>\n",
       "      <td>11</td>\n",
       "      <td>0</td>\n",
       "    </tr>\n",
       "  </tbody>\n",
       "</table>\n",
       "</div>"
      ],
      "text/plain": [
       "   geneSymbol  diseaseId  diseaseName  diseaseType  diseaseClass  \\\n",
       "0           0         52         1855            1            49   \n",
       "1           0        134         2533            0           613   \n",
       "2           0        222         3074            2           740   \n",
       "3           0        244         3209            0           127   \n",
       "4           0        565         6371            0           572   \n",
       "\n",
       "   diseaseSemanticType  source  \n",
       "0                   23     859  \n",
       "1                   11       0  \n",
       "2                   30       0  \n",
       "3                   11       0  \n",
       "4                   11       0  "
      ]
     },
     "execution_count": 35,
     "metadata": {},
     "output_type": "execute_result"
    }
   ],
   "source": [
    "## 0 == disease\n",
    "## 1 == group\n",
    "## 2 == Phenotype\n",
    "# cat_var.diseaseType.value_counts()\n",
    "# cat_var1['diseaseType'] = df.diseaseType\n",
    "cat_var1.head()"
   ]
  },
  {
   "cell_type": "code",
   "execution_count": 36,
   "id": "5ff54908",
   "metadata": {},
   "outputs": [],
   "source": [
    "## Merging Categorical and numerical variables after Data Preprocessing.\n",
    "\n",
    "data = pd.concat([num_var,cat_var1],axis = 1)\n"
   ]
  },
  {
   "cell_type": "code",
   "execution_count": 37,
   "id": "b3419adc",
   "metadata": {},
   "outputs": [
    {
     "data": {
      "text/html": [
       "<div>\n",
       "<style scoped>\n",
       "    .dataframe tbody tr th:only-of-type {\n",
       "        vertical-align: middle;\n",
       "    }\n",
       "\n",
       "    .dataframe tbody tr th {\n",
       "        vertical-align: top;\n",
       "    }\n",
       "\n",
       "    .dataframe thead th {\n",
       "        text-align: right;\n",
       "    }\n",
       "</style>\n",
       "<table border=\"1\" class=\"dataframe\">\n",
       "  <thead>\n",
       "    <tr style=\"text-align: right;\">\n",
       "      <th></th>\n",
       "      <th>geneId</th>\n",
       "      <th>DSI</th>\n",
       "      <th>DPI</th>\n",
       "      <th>score</th>\n",
       "      <th>EI</th>\n",
       "      <th>YearInitial</th>\n",
       "      <th>YearFinal</th>\n",
       "      <th>NofPmids</th>\n",
       "      <th>NofSnps</th>\n",
       "      <th>geneSymbol</th>\n",
       "      <th>diseaseId</th>\n",
       "      <th>diseaseName</th>\n",
       "      <th>diseaseType</th>\n",
       "      <th>diseaseClass</th>\n",
       "      <th>diseaseSemanticType</th>\n",
       "      <th>source</th>\n",
       "    </tr>\n",
       "  </thead>\n",
       "  <tbody>\n",
       "    <tr>\n",
       "      <th>0</th>\n",
       "      <td>1</td>\n",
       "      <td>0.7</td>\n",
       "      <td>0.538</td>\n",
       "      <td>0.01</td>\n",
       "      <td>1.0</td>\n",
       "      <td>2008.0</td>\n",
       "      <td>2008.0</td>\n",
       "      <td>1</td>\n",
       "      <td>0</td>\n",
       "      <td>0</td>\n",
       "      <td>52</td>\n",
       "      <td>1855</td>\n",
       "      <td>1</td>\n",
       "      <td>49</td>\n",
       "      <td>23</td>\n",
       "      <td>859</td>\n",
       "    </tr>\n",
       "    <tr>\n",
       "      <th>1</th>\n",
       "      <td>1</td>\n",
       "      <td>0.7</td>\n",
       "      <td>0.538</td>\n",
       "      <td>0.01</td>\n",
       "      <td>1.0</td>\n",
       "      <td>2008.0</td>\n",
       "      <td>2008.0</td>\n",
       "      <td>1</td>\n",
       "      <td>0</td>\n",
       "      <td>0</td>\n",
       "      <td>134</td>\n",
       "      <td>2533</td>\n",
       "      <td>0</td>\n",
       "      <td>613</td>\n",
       "      <td>11</td>\n",
       "      <td>0</td>\n",
       "    </tr>\n",
       "    <tr>\n",
       "      <th>2</th>\n",
       "      <td>1</td>\n",
       "      <td>0.7</td>\n",
       "      <td>0.538</td>\n",
       "      <td>0.01</td>\n",
       "      <td>1.0</td>\n",
       "      <td>2017.0</td>\n",
       "      <td>2017.0</td>\n",
       "      <td>1</td>\n",
       "      <td>0</td>\n",
       "      <td>0</td>\n",
       "      <td>222</td>\n",
       "      <td>3074</td>\n",
       "      <td>2</td>\n",
       "      <td>740</td>\n",
       "      <td>30</td>\n",
       "      <td>0</td>\n",
       "    </tr>\n",
       "    <tr>\n",
       "      <th>3</th>\n",
       "      <td>1</td>\n",
       "      <td>0.7</td>\n",
       "      <td>0.538</td>\n",
       "      <td>0.01</td>\n",
       "      <td>1.0</td>\n",
       "      <td>2019.0</td>\n",
       "      <td>2019.0</td>\n",
       "      <td>1</td>\n",
       "      <td>0</td>\n",
       "      <td>0</td>\n",
       "      <td>244</td>\n",
       "      <td>3209</td>\n",
       "      <td>0</td>\n",
       "      <td>127</td>\n",
       "      <td>11</td>\n",
       "      <td>0</td>\n",
       "    </tr>\n",
       "    <tr>\n",
       "      <th>4</th>\n",
       "      <td>1</td>\n",
       "      <td>0.7</td>\n",
       "      <td>0.538</td>\n",
       "      <td>0.01</td>\n",
       "      <td>1.0</td>\n",
       "      <td>2020.0</td>\n",
       "      <td>2020.0</td>\n",
       "      <td>1</td>\n",
       "      <td>0</td>\n",
       "      <td>0</td>\n",
       "      <td>565</td>\n",
       "      <td>6371</td>\n",
       "      <td>0</td>\n",
       "      <td>572</td>\n",
       "      <td>11</td>\n",
       "      <td>0</td>\n",
       "    </tr>\n",
       "  </tbody>\n",
       "</table>\n",
       "</div>"
      ],
      "text/plain": [
       "   geneId  DSI    DPI  score   EI  YearInitial  YearFinal  NofPmids  NofSnps  \\\n",
       "0       1  0.7  0.538   0.01  1.0       2008.0     2008.0         1        0   \n",
       "1       1  0.7  0.538   0.01  1.0       2008.0     2008.0         1        0   \n",
       "2       1  0.7  0.538   0.01  1.0       2017.0     2017.0         1        0   \n",
       "3       1  0.7  0.538   0.01  1.0       2019.0     2019.0         1        0   \n",
       "4       1  0.7  0.538   0.01  1.0       2020.0     2020.0         1        0   \n",
       "\n",
       "   geneSymbol  diseaseId  diseaseName  diseaseType  diseaseClass  \\\n",
       "0           0         52         1855            1            49   \n",
       "1           0        134         2533            0           613   \n",
       "2           0        222         3074            2           740   \n",
       "3           0        244         3209            0           127   \n",
       "4           0        565         6371            0           572   \n",
       "\n",
       "   diseaseSemanticType  source  \n",
       "0                   23     859  \n",
       "1                   11       0  \n",
       "2                   30       0  \n",
       "3                   11       0  \n",
       "4                   11       0  "
      ]
     },
     "execution_count": 37,
     "metadata": {},
     "output_type": "execute_result"
    }
   ],
   "source": [
    "data.head()"
   ]
  },
  {
   "cell_type": "code",
   "execution_count": 38,
   "id": "2ababd96",
   "metadata": {},
   "outputs": [
    {
     "data": {
      "text/html": [
       "<div>\n",
       "<style scoped>\n",
       "    .dataframe tbody tr th:only-of-type {\n",
       "        vertical-align: middle;\n",
       "    }\n",
       "\n",
       "    .dataframe tbody tr th {\n",
       "        vertical-align: top;\n",
       "    }\n",
       "\n",
       "    .dataframe thead th {\n",
       "        text-align: right;\n",
       "    }\n",
       "</style>\n",
       "<table border=\"1\" class=\"dataframe\">\n",
       "  <thead>\n",
       "    <tr style=\"text-align: right;\">\n",
       "      <th></th>\n",
       "      <th>geneId</th>\n",
       "      <th>DSI</th>\n",
       "      <th>DPI</th>\n",
       "      <th>score</th>\n",
       "      <th>EI</th>\n",
       "      <th>YearInitial</th>\n",
       "      <th>YearFinal</th>\n",
       "      <th>NofPmids</th>\n",
       "      <th>NofSnps</th>\n",
       "      <th>geneSymbol</th>\n",
       "      <th>diseaseId</th>\n",
       "      <th>diseaseName</th>\n",
       "      <th>diseaseType</th>\n",
       "      <th>diseaseClass</th>\n",
       "      <th>diseaseSemanticType</th>\n",
       "      <th>source</th>\n",
       "    </tr>\n",
       "  </thead>\n",
       "  <tbody>\n",
       "    <tr>\n",
       "      <th>2</th>\n",
       "      <td>1</td>\n",
       "      <td>0.700</td>\n",
       "      <td>0.538</td>\n",
       "      <td>0.01</td>\n",
       "      <td>1.0</td>\n",
       "      <td>2017.0</td>\n",
       "      <td>2017.0</td>\n",
       "      <td>1</td>\n",
       "      <td>0</td>\n",
       "      <td>0</td>\n",
       "      <td>222</td>\n",
       "      <td>3074</td>\n",
       "      <td>2</td>\n",
       "      <td>740</td>\n",
       "      <td>30</td>\n",
       "      <td>0</td>\n",
       "    </tr>\n",
       "    <tr>\n",
       "      <th>8</th>\n",
       "      <td>1</td>\n",
       "      <td>0.700</td>\n",
       "      <td>0.538</td>\n",
       "      <td>0.01</td>\n",
       "      <td>1.0</td>\n",
       "      <td>2017.0</td>\n",
       "      <td>2017.0</td>\n",
       "      <td>1</td>\n",
       "      <td>0</td>\n",
       "      <td>0</td>\n",
       "      <td>1016</td>\n",
       "      <td>10752</td>\n",
       "      <td>2</td>\n",
       "      <td>572</td>\n",
       "      <td>30</td>\n",
       "      <td>0</td>\n",
       "    </tr>\n",
       "    <tr>\n",
       "      <th>9</th>\n",
       "      <td>1</td>\n",
       "      <td>0.700</td>\n",
       "      <td>0.538</td>\n",
       "      <td>0.01</td>\n",
       "      <td>1.0</td>\n",
       "      <td>2018.0</td>\n",
       "      <td>2018.0</td>\n",
       "      <td>1</td>\n",
       "      <td>0</td>\n",
       "      <td>0</td>\n",
       "      <td>1099</td>\n",
       "      <td>29976</td>\n",
       "      <td>2</td>\n",
       "      <td>654</td>\n",
       "      <td>2</td>\n",
       "      <td>0</td>\n",
       "    </tr>\n",
       "    <tr>\n",
       "      <th>11</th>\n",
       "      <td>1</td>\n",
       "      <td>0.700</td>\n",
       "      <td>0.538</td>\n",
       "      <td>0.30</td>\n",
       "      <td>1.0</td>\n",
       "      <td>2017.0</td>\n",
       "      <td>2017.0</td>\n",
       "      <td>1</td>\n",
       "      <td>0</td>\n",
       "      <td>0</td>\n",
       "      <td>1368</td>\n",
       "      <td>13314</td>\n",
       "      <td>2</td>\n",
       "      <td>716</td>\n",
       "      <td>15</td>\n",
       "      <td>762</td>\n",
       "    </tr>\n",
       "    <tr>\n",
       "      <th>55</th>\n",
       "      <td>2</td>\n",
       "      <td>0.529</td>\n",
       "      <td>0.769</td>\n",
       "      <td>0.20</td>\n",
       "      <td>1.0</td>\n",
       "      <td>1988.0</td>\n",
       "      <td>1988.0</td>\n",
       "      <td>1</td>\n",
       "      <td>0</td>\n",
       "      <td>3</td>\n",
       "      <td>1080</td>\n",
       "      <td>11387</td>\n",
       "      <td>2</td>\n",
       "      <td>654</td>\n",
       "      <td>30</td>\n",
       "      <td>876</td>\n",
       "    </tr>\n",
       "    <tr>\n",
       "      <th>...</th>\n",
       "      <td>...</td>\n",
       "      <td>...</td>\n",
       "      <td>...</td>\n",
       "      <td>...</td>\n",
       "      <td>...</td>\n",
       "      <td>...</td>\n",
       "      <td>...</td>\n",
       "      <td>...</td>\n",
       "      <td>...</td>\n",
       "      <td>...</td>\n",
       "      <td>...</td>\n",
       "      <td>...</td>\n",
       "      <td>...</td>\n",
       "      <td>...</td>\n",
       "      <td>...</td>\n",
       "      <td>...</td>\n",
       "    </tr>\n",
       "    <tr>\n",
       "      <th>1134889</th>\n",
       "      <td>115482723</td>\n",
       "      <td>0.506</td>\n",
       "      <td>0.846</td>\n",
       "      <td>0.01</td>\n",
       "      <td>1.0</td>\n",
       "      <td>2017.0</td>\n",
       "      <td>2017.0</td>\n",
       "      <td>1</td>\n",
       "      <td>0</td>\n",
       "      <td>7178</td>\n",
       "      <td>12422</td>\n",
       "      <td>10329</td>\n",
       "      <td>2</td>\n",
       "      <td>49</td>\n",
       "      <td>11</td>\n",
       "      <td>0</td>\n",
       "    </tr>\n",
       "    <tr>\n",
       "      <th>1134895</th>\n",
       "      <td>115482723</td>\n",
       "      <td>0.506</td>\n",
       "      <td>0.846</td>\n",
       "      <td>0.07</td>\n",
       "      <td>1.0</td>\n",
       "      <td>2008.0</td>\n",
       "      <td>2018.0</td>\n",
       "      <td>7</td>\n",
       "      <td>0</td>\n",
       "      <td>7178</td>\n",
       "      <td>13468</td>\n",
       "      <td>28471</td>\n",
       "      <td>2</td>\n",
       "      <td>49</td>\n",
       "      <td>23</td>\n",
       "      <td>0</td>\n",
       "    </tr>\n",
       "    <tr>\n",
       "      <th>1134908</th>\n",
       "      <td>115482723</td>\n",
       "      <td>0.506</td>\n",
       "      <td>0.846</td>\n",
       "      <td>0.01</td>\n",
       "      <td>1.0</td>\n",
       "      <td>2016.0</td>\n",
       "      <td>2016.0</td>\n",
       "      <td>1</td>\n",
       "      <td>0</td>\n",
       "      <td>7178</td>\n",
       "      <td>15147</td>\n",
       "      <td>18117</td>\n",
       "      <td>2</td>\n",
       "      <td>49</td>\n",
       "      <td>23</td>\n",
       "      <td>0</td>\n",
       "    </tr>\n",
       "    <tr>\n",
       "      <th>1134923</th>\n",
       "      <td>115482723</td>\n",
       "      <td>0.506</td>\n",
       "      <td>0.846</td>\n",
       "      <td>0.01</td>\n",
       "      <td>1.0</td>\n",
       "      <td>2004.0</td>\n",
       "      <td>2004.0</td>\n",
       "      <td>1</td>\n",
       "      <td>0</td>\n",
       "      <td>7178</td>\n",
       "      <td>22616</td>\n",
       "      <td>23366</td>\n",
       "      <td>2</td>\n",
       "      <td>654</td>\n",
       "      <td>30</td>\n",
       "      <td>0</td>\n",
       "    </tr>\n",
       "    <tr>\n",
       "      <th>1134937</th>\n",
       "      <td>115804232</td>\n",
       "      <td>0.534</td>\n",
       "      <td>0.769</td>\n",
       "      <td>0.10</td>\n",
       "      <td>1.0</td>\n",
       "      <td>2019.0</td>\n",
       "      <td>2019.0</td>\n",
       "      <td>1</td>\n",
       "      <td>0</td>\n",
       "      <td>2907</td>\n",
       "      <td>364</td>\n",
       "      <td>4427</td>\n",
       "      <td>2</td>\n",
       "      <td>49</td>\n",
       "      <td>26</td>\n",
       "      <td>833</td>\n",
       "    </tr>\n",
       "  </tbody>\n",
       "</table>\n",
       "<p>211293 rows × 16 columns</p>\n",
       "</div>"
      ],
      "text/plain": [
       "            geneId    DSI    DPI  score   EI  YearInitial  YearFinal  \\\n",
       "2                1  0.700  0.538   0.01  1.0       2017.0     2017.0   \n",
       "8                1  0.700  0.538   0.01  1.0       2017.0     2017.0   \n",
       "9                1  0.700  0.538   0.01  1.0       2018.0     2018.0   \n",
       "11               1  0.700  0.538   0.30  1.0       2017.0     2017.0   \n",
       "55               2  0.529  0.769   0.20  1.0       1988.0     1988.0   \n",
       "...            ...    ...    ...    ...  ...          ...        ...   \n",
       "1134889  115482723  0.506  0.846   0.01  1.0       2017.0     2017.0   \n",
       "1134895  115482723  0.506  0.846   0.07  1.0       2008.0     2018.0   \n",
       "1134908  115482723  0.506  0.846   0.01  1.0       2016.0     2016.0   \n",
       "1134923  115482723  0.506  0.846   0.01  1.0       2004.0     2004.0   \n",
       "1134937  115804232  0.534  0.769   0.10  1.0       2019.0     2019.0   \n",
       "\n",
       "         NofPmids  NofSnps  geneSymbol  diseaseId  diseaseName  diseaseType  \\\n",
       "2               1        0           0        222         3074            2   \n",
       "8               1        0           0       1016        10752            2   \n",
       "9               1        0           0       1099        29976            2   \n",
       "11              1        0           0       1368        13314            2   \n",
       "55              1        0           3       1080        11387            2   \n",
       "...           ...      ...         ...        ...          ...          ...   \n",
       "1134889         1        0        7178      12422        10329            2   \n",
       "1134895         7        0        7178      13468        28471            2   \n",
       "1134908         1        0        7178      15147        18117            2   \n",
       "1134923         1        0        7178      22616        23366            2   \n",
       "1134937         1        0        2907        364         4427            2   \n",
       "\n",
       "         diseaseClass  diseaseSemanticType  source  \n",
       "2                 740                   30       0  \n",
       "8                 572                   30       0  \n",
       "9                 654                    2       0  \n",
       "11                716                   15     762  \n",
       "55                654                   30     876  \n",
       "...               ...                  ...     ...  \n",
       "1134889            49                   11       0  \n",
       "1134895            49                   23       0  \n",
       "1134908            49                   23       0  \n",
       "1134923           654                   30       0  \n",
       "1134937            49                   26     833  \n",
       "\n",
       "[211293 rows x 16 columns]"
      ]
     },
     "execution_count": 38,
     "metadata": {},
     "output_type": "execute_result"
    }
   ],
   "source": [
    "data[data['diseaseType']==2]"
   ]
  },
  {
   "cell_type": "code",
   "execution_count": 39,
   "id": "b6202eed",
   "metadata": {},
   "outputs": [
    {
     "data": {
      "text/plain": [
       "(1134942, 16)"
      ]
     },
     "execution_count": 39,
     "metadata": {},
     "output_type": "execute_result"
    }
   ],
   "source": [
    "data.shape"
   ]
  },
  {
   "cell_type": "code",
   "execution_count": 40,
   "id": "08cc5885",
   "metadata": {},
   "outputs": [
    {
     "data": {
      "text/plain": [
       "geneId                 0\n",
       "DSI                    0\n",
       "DPI                    0\n",
       "score                  0\n",
       "EI                     0\n",
       "YearInitial            0\n",
       "YearFinal              0\n",
       "NofPmids               0\n",
       "NofSnps                0\n",
       "geneSymbol             0\n",
       "diseaseId              0\n",
       "diseaseName            0\n",
       "diseaseType            0\n",
       "diseaseClass           0\n",
       "diseaseSemanticType    0\n",
       "source                 0\n",
       "dtype: int64"
      ]
     },
     "execution_count": 40,
     "metadata": {},
     "output_type": "execute_result"
    }
   ],
   "source": [
    "data.isnull().sum()"
   ]
  },
  {
   "cell_type": "code",
   "execution_count": 41,
   "id": "72dd0e6c",
   "metadata": {},
   "outputs": [
    {
     "data": {
      "text/html": [
       "<div>\n",
       "<style scoped>\n",
       "    .dataframe tbody tr th:only-of-type {\n",
       "        vertical-align: middle;\n",
       "    }\n",
       "\n",
       "    .dataframe tbody tr th {\n",
       "        vertical-align: top;\n",
       "    }\n",
       "\n",
       "    .dataframe thead th {\n",
       "        text-align: right;\n",
       "    }\n",
       "</style>\n",
       "<table border=\"1\" class=\"dataframe\">\n",
       "  <thead>\n",
       "    <tr style=\"text-align: right;\">\n",
       "      <th></th>\n",
       "      <th>geneId</th>\n",
       "      <th>DSI</th>\n",
       "      <th>DPI</th>\n",
       "      <th>score</th>\n",
       "      <th>YearInitial</th>\n",
       "      <th>YearFinal</th>\n",
       "      <th>NofPmids</th>\n",
       "      <th>geneSymbol</th>\n",
       "      <th>diseaseId</th>\n",
       "      <th>diseaseName</th>\n",
       "      <th>diseaseClass</th>\n",
       "      <th>diseaseSemanticType</th>\n",
       "      <th>source</th>\n",
       "    </tr>\n",
       "  </thead>\n",
       "  <tbody>\n",
       "    <tr>\n",
       "      <th>0</th>\n",
       "      <td>1</td>\n",
       "      <td>0.7</td>\n",
       "      <td>0.538</td>\n",
       "      <td>0.01</td>\n",
       "      <td>2008.0</td>\n",
       "      <td>2008.0</td>\n",
       "      <td>1</td>\n",
       "      <td>0</td>\n",
       "      <td>52</td>\n",
       "      <td>1855</td>\n",
       "      <td>49</td>\n",
       "      <td>23</td>\n",
       "      <td>859</td>\n",
       "    </tr>\n",
       "    <tr>\n",
       "      <th>1</th>\n",
       "      <td>1</td>\n",
       "      <td>0.7</td>\n",
       "      <td>0.538</td>\n",
       "      <td>0.01</td>\n",
       "      <td>2008.0</td>\n",
       "      <td>2008.0</td>\n",
       "      <td>1</td>\n",
       "      <td>0</td>\n",
       "      <td>134</td>\n",
       "      <td>2533</td>\n",
       "      <td>613</td>\n",
       "      <td>11</td>\n",
       "      <td>0</td>\n",
       "    </tr>\n",
       "    <tr>\n",
       "      <th>2</th>\n",
       "      <td>1</td>\n",
       "      <td>0.7</td>\n",
       "      <td>0.538</td>\n",
       "      <td>0.01</td>\n",
       "      <td>2017.0</td>\n",
       "      <td>2017.0</td>\n",
       "      <td>1</td>\n",
       "      <td>0</td>\n",
       "      <td>222</td>\n",
       "      <td>3074</td>\n",
       "      <td>740</td>\n",
       "      <td>30</td>\n",
       "      <td>0</td>\n",
       "    </tr>\n",
       "    <tr>\n",
       "      <th>3</th>\n",
       "      <td>1</td>\n",
       "      <td>0.7</td>\n",
       "      <td>0.538</td>\n",
       "      <td>0.01</td>\n",
       "      <td>2019.0</td>\n",
       "      <td>2019.0</td>\n",
       "      <td>1</td>\n",
       "      <td>0</td>\n",
       "      <td>244</td>\n",
       "      <td>3209</td>\n",
       "      <td>127</td>\n",
       "      <td>11</td>\n",
       "      <td>0</td>\n",
       "    </tr>\n",
       "    <tr>\n",
       "      <th>4</th>\n",
       "      <td>1</td>\n",
       "      <td>0.7</td>\n",
       "      <td>0.538</td>\n",
       "      <td>0.01</td>\n",
       "      <td>2020.0</td>\n",
       "      <td>2020.0</td>\n",
       "      <td>1</td>\n",
       "      <td>0</td>\n",
       "      <td>565</td>\n",
       "      <td>6371</td>\n",
       "      <td>572</td>\n",
       "      <td>11</td>\n",
       "      <td>0</td>\n",
       "    </tr>\n",
       "  </tbody>\n",
       "</table>\n",
       "</div>"
      ],
      "text/plain": [
       "   geneId  DSI    DPI  score  YearInitial  YearFinal  NofPmids  geneSymbol  \\\n",
       "0       1  0.7  0.538   0.01       2008.0     2008.0         1           0   \n",
       "1       1  0.7  0.538   0.01       2008.0     2008.0         1           0   \n",
       "2       1  0.7  0.538   0.01       2017.0     2017.0         1           0   \n",
       "3       1  0.7  0.538   0.01       2019.0     2019.0         1           0   \n",
       "4       1  0.7  0.538   0.01       2020.0     2020.0         1           0   \n",
       "\n",
       "   diseaseId  diseaseName  diseaseClass  diseaseSemanticType  source  \n",
       "0         52         1855            49                   23     859  \n",
       "1        134         2533           613                   11       0  \n",
       "2        222         3074           740                   30       0  \n",
       "3        244         3209           127                   11       0  \n",
       "4        565         6371           572                   11       0  "
      ]
     },
     "execution_count": 41,
     "metadata": {},
     "output_type": "execute_result"
    }
   ],
   "source": [
    "X = data.drop(['diseaseType','NofSnps','EI'],axis = 1)\n",
    "X.head()"
   ]
  },
  {
   "cell_type": "code",
   "execution_count": 42,
   "id": "609c629c",
   "metadata": {
    "scrolled": true
   },
   "outputs": [],
   "source": [
    "y = data.diseaseType"
   ]
  },
  {
   "cell_type": "code",
   "execution_count": 43,
   "id": "2582a5f0",
   "metadata": {},
   "outputs": [],
   "source": [
    "from imblearn.over_sampling import SMOTE \n",
    "sm = SMOTE(random_state=42)\n",
    "X_res, y_res = sm.fit_resample(X, y)"
   ]
  },
  {
   "cell_type": "code",
   "execution_count": 44,
   "id": "2b70a86a",
   "metadata": {},
   "outputs": [
    {
     "data": {
      "text/plain": [
       "((2344866, 13), (2344866,))"
      ]
     },
     "execution_count": 44,
     "metadata": {},
     "output_type": "execute_result"
    }
   ],
   "source": [
    "X_res.shape, y_res.shape"
   ]
  },
  {
   "cell_type": "code",
   "execution_count": 45,
   "id": "4d886575",
   "metadata": {},
   "outputs": [],
   "source": [
    "## Splitting the dataset into Training and Testing foir further use.\n",
    "x_train,x_test,y_train,y_test = train_test_split(X_res,y_res,test_size = 0.3,random_state = 23)"
   ]
  },
  {
   "cell_type": "markdown",
   "id": "4caf3dca",
   "metadata": {},
   "source": [
    "### Random Forest Classifier\n"
   ]
  },
  {
   "cell_type": "code",
   "execution_count": 46,
   "id": "2edcd880",
   "metadata": {},
   "outputs": [],
   "source": [
    "\n",
    "cfr = RandomForestClassifier()"
   ]
  },
  {
   "cell_type": "code",
   "execution_count": 47,
   "id": "0f080dde",
   "metadata": {},
   "outputs": [
    {
     "ename": "KeyboardInterrupt",
     "evalue": "",
     "output_type": "error",
     "traceback": [
      "\u001b[1;31m---------------------------------------------------------------------------\u001b[0m",
      "\u001b[1;31mKeyboardInterrupt\u001b[0m                         Traceback (most recent call last)",
      "\u001b[1;32m<ipython-input-47-f57e1a825b8a>\u001b[0m in \u001b[0;36m<module>\u001b[1;34m\u001b[0m\n\u001b[1;32m----> 1\u001b[1;33m \u001b[0mmodel\u001b[0m \u001b[1;33m=\u001b[0m \u001b[0mcfr\u001b[0m\u001b[1;33m.\u001b[0m\u001b[0mfit\u001b[0m\u001b[1;33m(\u001b[0m\u001b[0mx_train\u001b[0m\u001b[1;33m,\u001b[0m\u001b[0my_train\u001b[0m\u001b[1;33m)\u001b[0m\u001b[1;33m\u001b[0m\u001b[1;33m\u001b[0m\u001b[0m\n\u001b[0m",
      "\u001b[1;32mC:\\Program Files\\Python36\\lib\\site-packages\\sklearn\\ensemble\\_forest.py\u001b[0m in \u001b[0;36mfit\u001b[1;34m(self, X, y, sample_weight)\u001b[0m\n\u001b[0;32m    391\u001b[0m                     \u001b[0mverbose\u001b[0m\u001b[1;33m=\u001b[0m\u001b[0mself\u001b[0m\u001b[1;33m.\u001b[0m\u001b[0mverbose\u001b[0m\u001b[1;33m,\u001b[0m \u001b[0mclass_weight\u001b[0m\u001b[1;33m=\u001b[0m\u001b[0mself\u001b[0m\u001b[1;33m.\u001b[0m\u001b[0mclass_weight\u001b[0m\u001b[1;33m,\u001b[0m\u001b[1;33m\u001b[0m\u001b[1;33m\u001b[0m\u001b[0m\n\u001b[0;32m    392\u001b[0m                     n_samples_bootstrap=n_samples_bootstrap)\n\u001b[1;32m--> 393\u001b[1;33m                 for i, t in enumerate(trees))\n\u001b[0m\u001b[0;32m    394\u001b[0m \u001b[1;33m\u001b[0m\u001b[0m\n\u001b[0;32m    395\u001b[0m             \u001b[1;31m# Collect newly grown trees\u001b[0m\u001b[1;33m\u001b[0m\u001b[1;33m\u001b[0m\u001b[1;33m\u001b[0m\u001b[0m\n",
      "\u001b[1;32mC:\\Program Files\\Python36\\lib\\site-packages\\joblib\\parallel.py\u001b[0m in \u001b[0;36m__call__\u001b[1;34m(self, iterable)\u001b[0m\n\u001b[0;32m   1042\u001b[0m                 \u001b[0mself\u001b[0m\u001b[1;33m.\u001b[0m\u001b[0m_iterating\u001b[0m \u001b[1;33m=\u001b[0m \u001b[0mself\u001b[0m\u001b[1;33m.\u001b[0m\u001b[0m_original_iterator\u001b[0m \u001b[1;32mis\u001b[0m \u001b[1;32mnot\u001b[0m \u001b[1;32mNone\u001b[0m\u001b[1;33m\u001b[0m\u001b[1;33m\u001b[0m\u001b[0m\n\u001b[0;32m   1043\u001b[0m \u001b[1;33m\u001b[0m\u001b[0m\n\u001b[1;32m-> 1044\u001b[1;33m             \u001b[1;32mwhile\u001b[0m \u001b[0mself\u001b[0m\u001b[1;33m.\u001b[0m\u001b[0mdispatch_one_batch\u001b[0m\u001b[1;33m(\u001b[0m\u001b[0miterator\u001b[0m\u001b[1;33m)\u001b[0m\u001b[1;33m:\u001b[0m\u001b[1;33m\u001b[0m\u001b[1;33m\u001b[0m\u001b[0m\n\u001b[0m\u001b[0;32m   1045\u001b[0m                 \u001b[1;32mpass\u001b[0m\u001b[1;33m\u001b[0m\u001b[1;33m\u001b[0m\u001b[0m\n\u001b[0;32m   1046\u001b[0m \u001b[1;33m\u001b[0m\u001b[0m\n",
      "\u001b[1;32mC:\\Program Files\\Python36\\lib\\site-packages\\joblib\\parallel.py\u001b[0m in \u001b[0;36mdispatch_one_batch\u001b[1;34m(self, iterator)\u001b[0m\n\u001b[0;32m    857\u001b[0m                 \u001b[1;32mreturn\u001b[0m \u001b[1;32mFalse\u001b[0m\u001b[1;33m\u001b[0m\u001b[1;33m\u001b[0m\u001b[0m\n\u001b[0;32m    858\u001b[0m             \u001b[1;32melse\u001b[0m\u001b[1;33m:\u001b[0m\u001b[1;33m\u001b[0m\u001b[1;33m\u001b[0m\u001b[0m\n\u001b[1;32m--> 859\u001b[1;33m                 \u001b[0mself\u001b[0m\u001b[1;33m.\u001b[0m\u001b[0m_dispatch\u001b[0m\u001b[1;33m(\u001b[0m\u001b[0mtasks\u001b[0m\u001b[1;33m)\u001b[0m\u001b[1;33m\u001b[0m\u001b[1;33m\u001b[0m\u001b[0m\n\u001b[0m\u001b[0;32m    860\u001b[0m                 \u001b[1;32mreturn\u001b[0m \u001b[1;32mTrue\u001b[0m\u001b[1;33m\u001b[0m\u001b[1;33m\u001b[0m\u001b[0m\n\u001b[0;32m    861\u001b[0m \u001b[1;33m\u001b[0m\u001b[0m\n",
      "\u001b[1;32mC:\\Program Files\\Python36\\lib\\site-packages\\joblib\\parallel.py\u001b[0m in \u001b[0;36m_dispatch\u001b[1;34m(self, batch)\u001b[0m\n\u001b[0;32m    775\u001b[0m         \u001b[1;32mwith\u001b[0m \u001b[0mself\u001b[0m\u001b[1;33m.\u001b[0m\u001b[0m_lock\u001b[0m\u001b[1;33m:\u001b[0m\u001b[1;33m\u001b[0m\u001b[1;33m\u001b[0m\u001b[0m\n\u001b[0;32m    776\u001b[0m             \u001b[0mjob_idx\u001b[0m \u001b[1;33m=\u001b[0m \u001b[0mlen\u001b[0m\u001b[1;33m(\u001b[0m\u001b[0mself\u001b[0m\u001b[1;33m.\u001b[0m\u001b[0m_jobs\u001b[0m\u001b[1;33m)\u001b[0m\u001b[1;33m\u001b[0m\u001b[1;33m\u001b[0m\u001b[0m\n\u001b[1;32m--> 777\u001b[1;33m             \u001b[0mjob\u001b[0m \u001b[1;33m=\u001b[0m \u001b[0mself\u001b[0m\u001b[1;33m.\u001b[0m\u001b[0m_backend\u001b[0m\u001b[1;33m.\u001b[0m\u001b[0mapply_async\u001b[0m\u001b[1;33m(\u001b[0m\u001b[0mbatch\u001b[0m\u001b[1;33m,\u001b[0m \u001b[0mcallback\u001b[0m\u001b[1;33m=\u001b[0m\u001b[0mcb\u001b[0m\u001b[1;33m)\u001b[0m\u001b[1;33m\u001b[0m\u001b[1;33m\u001b[0m\u001b[0m\n\u001b[0m\u001b[0;32m    778\u001b[0m             \u001b[1;31m# A job can complete so quickly than its callback is\u001b[0m\u001b[1;33m\u001b[0m\u001b[1;33m\u001b[0m\u001b[1;33m\u001b[0m\u001b[0m\n\u001b[0;32m    779\u001b[0m             \u001b[1;31m# called before we get here, causing self._jobs to\u001b[0m\u001b[1;33m\u001b[0m\u001b[1;33m\u001b[0m\u001b[1;33m\u001b[0m\u001b[0m\n",
      "\u001b[1;32mC:\\Program Files\\Python36\\lib\\site-packages\\joblib\\_parallel_backends.py\u001b[0m in \u001b[0;36mapply_async\u001b[1;34m(self, func, callback)\u001b[0m\n\u001b[0;32m    206\u001b[0m     \u001b[1;32mdef\u001b[0m \u001b[0mapply_async\u001b[0m\u001b[1;33m(\u001b[0m\u001b[0mself\u001b[0m\u001b[1;33m,\u001b[0m \u001b[0mfunc\u001b[0m\u001b[1;33m,\u001b[0m \u001b[0mcallback\u001b[0m\u001b[1;33m=\u001b[0m\u001b[1;32mNone\u001b[0m\u001b[1;33m)\u001b[0m\u001b[1;33m:\u001b[0m\u001b[1;33m\u001b[0m\u001b[1;33m\u001b[0m\u001b[0m\n\u001b[0;32m    207\u001b[0m         \u001b[1;34m\"\"\"Schedule a func to be run\"\"\"\u001b[0m\u001b[1;33m\u001b[0m\u001b[1;33m\u001b[0m\u001b[0m\n\u001b[1;32m--> 208\u001b[1;33m         \u001b[0mresult\u001b[0m \u001b[1;33m=\u001b[0m \u001b[0mImmediateResult\u001b[0m\u001b[1;33m(\u001b[0m\u001b[0mfunc\u001b[0m\u001b[1;33m)\u001b[0m\u001b[1;33m\u001b[0m\u001b[1;33m\u001b[0m\u001b[0m\n\u001b[0m\u001b[0;32m    209\u001b[0m         \u001b[1;32mif\u001b[0m \u001b[0mcallback\u001b[0m\u001b[1;33m:\u001b[0m\u001b[1;33m\u001b[0m\u001b[1;33m\u001b[0m\u001b[0m\n\u001b[0;32m    210\u001b[0m             \u001b[0mcallback\u001b[0m\u001b[1;33m(\u001b[0m\u001b[0mresult\u001b[0m\u001b[1;33m)\u001b[0m\u001b[1;33m\u001b[0m\u001b[1;33m\u001b[0m\u001b[0m\n",
      "\u001b[1;32mC:\\Program Files\\Python36\\lib\\site-packages\\joblib\\_parallel_backends.py\u001b[0m in \u001b[0;36m__init__\u001b[1;34m(self, batch)\u001b[0m\n\u001b[0;32m    570\u001b[0m         \u001b[1;31m# Don't delay the application, to avoid keeping the input\u001b[0m\u001b[1;33m\u001b[0m\u001b[1;33m\u001b[0m\u001b[1;33m\u001b[0m\u001b[0m\n\u001b[0;32m    571\u001b[0m         \u001b[1;31m# arguments in memory\u001b[0m\u001b[1;33m\u001b[0m\u001b[1;33m\u001b[0m\u001b[1;33m\u001b[0m\u001b[0m\n\u001b[1;32m--> 572\u001b[1;33m         \u001b[0mself\u001b[0m\u001b[1;33m.\u001b[0m\u001b[0mresults\u001b[0m \u001b[1;33m=\u001b[0m \u001b[0mbatch\u001b[0m\u001b[1;33m(\u001b[0m\u001b[1;33m)\u001b[0m\u001b[1;33m\u001b[0m\u001b[1;33m\u001b[0m\u001b[0m\n\u001b[0m\u001b[0;32m    573\u001b[0m \u001b[1;33m\u001b[0m\u001b[0m\n\u001b[0;32m    574\u001b[0m     \u001b[1;32mdef\u001b[0m \u001b[0mget\u001b[0m\u001b[1;33m(\u001b[0m\u001b[0mself\u001b[0m\u001b[1;33m)\u001b[0m\u001b[1;33m:\u001b[0m\u001b[1;33m\u001b[0m\u001b[1;33m\u001b[0m\u001b[0m\n",
      "\u001b[1;32mC:\\Program Files\\Python36\\lib\\site-packages\\joblib\\parallel.py\u001b[0m in \u001b[0;36m__call__\u001b[1;34m(self)\u001b[0m\n\u001b[0;32m    261\u001b[0m         \u001b[1;32mwith\u001b[0m \u001b[0mparallel_backend\u001b[0m\u001b[1;33m(\u001b[0m\u001b[0mself\u001b[0m\u001b[1;33m.\u001b[0m\u001b[0m_backend\u001b[0m\u001b[1;33m,\u001b[0m \u001b[0mn_jobs\u001b[0m\u001b[1;33m=\u001b[0m\u001b[0mself\u001b[0m\u001b[1;33m.\u001b[0m\u001b[0m_n_jobs\u001b[0m\u001b[1;33m)\u001b[0m\u001b[1;33m:\u001b[0m\u001b[1;33m\u001b[0m\u001b[1;33m\u001b[0m\u001b[0m\n\u001b[0;32m    262\u001b[0m             return [func(*args, **kwargs)\n\u001b[1;32m--> 263\u001b[1;33m                     for func, args, kwargs in self.items]\n\u001b[0m\u001b[0;32m    264\u001b[0m \u001b[1;33m\u001b[0m\u001b[0m\n\u001b[0;32m    265\u001b[0m     \u001b[1;32mdef\u001b[0m \u001b[0m__reduce__\u001b[0m\u001b[1;33m(\u001b[0m\u001b[0mself\u001b[0m\u001b[1;33m)\u001b[0m\u001b[1;33m:\u001b[0m\u001b[1;33m\u001b[0m\u001b[1;33m\u001b[0m\u001b[0m\n",
      "\u001b[1;32mC:\\Program Files\\Python36\\lib\\site-packages\\joblib\\parallel.py\u001b[0m in \u001b[0;36m<listcomp>\u001b[1;34m(.0)\u001b[0m\n\u001b[0;32m    261\u001b[0m         \u001b[1;32mwith\u001b[0m \u001b[0mparallel_backend\u001b[0m\u001b[1;33m(\u001b[0m\u001b[0mself\u001b[0m\u001b[1;33m.\u001b[0m\u001b[0m_backend\u001b[0m\u001b[1;33m,\u001b[0m \u001b[0mn_jobs\u001b[0m\u001b[1;33m=\u001b[0m\u001b[0mself\u001b[0m\u001b[1;33m.\u001b[0m\u001b[0m_n_jobs\u001b[0m\u001b[1;33m)\u001b[0m\u001b[1;33m:\u001b[0m\u001b[1;33m\u001b[0m\u001b[1;33m\u001b[0m\u001b[0m\n\u001b[0;32m    262\u001b[0m             return [func(*args, **kwargs)\n\u001b[1;32m--> 263\u001b[1;33m                     for func, args, kwargs in self.items]\n\u001b[0m\u001b[0;32m    264\u001b[0m \u001b[1;33m\u001b[0m\u001b[0m\n\u001b[0;32m    265\u001b[0m     \u001b[1;32mdef\u001b[0m \u001b[0m__reduce__\u001b[0m\u001b[1;33m(\u001b[0m\u001b[0mself\u001b[0m\u001b[1;33m)\u001b[0m\u001b[1;33m:\u001b[0m\u001b[1;33m\u001b[0m\u001b[1;33m\u001b[0m\u001b[0m\n",
      "\u001b[1;32mC:\\Program Files\\Python36\\lib\\site-packages\\sklearn\\utils\\fixes.py\u001b[0m in \u001b[0;36m__call__\u001b[1;34m(self, *args, **kwargs)\u001b[0m\n\u001b[0;32m    220\u001b[0m     \u001b[1;32mdef\u001b[0m \u001b[0m__call__\u001b[0m\u001b[1;33m(\u001b[0m\u001b[0mself\u001b[0m\u001b[1;33m,\u001b[0m \u001b[1;33m*\u001b[0m\u001b[0margs\u001b[0m\u001b[1;33m,\u001b[0m \u001b[1;33m**\u001b[0m\u001b[0mkwargs\u001b[0m\u001b[1;33m)\u001b[0m\u001b[1;33m:\u001b[0m\u001b[1;33m\u001b[0m\u001b[1;33m\u001b[0m\u001b[0m\n\u001b[0;32m    221\u001b[0m         \u001b[1;32mwith\u001b[0m \u001b[0mconfig_context\u001b[0m\u001b[1;33m(\u001b[0m\u001b[1;33m**\u001b[0m\u001b[0mself\u001b[0m\u001b[1;33m.\u001b[0m\u001b[0mconfig\u001b[0m\u001b[1;33m)\u001b[0m\u001b[1;33m:\u001b[0m\u001b[1;33m\u001b[0m\u001b[1;33m\u001b[0m\u001b[0m\n\u001b[1;32m--> 222\u001b[1;33m             \u001b[1;32mreturn\u001b[0m \u001b[0mself\u001b[0m\u001b[1;33m.\u001b[0m\u001b[0mfunction\u001b[0m\u001b[1;33m(\u001b[0m\u001b[1;33m*\u001b[0m\u001b[0margs\u001b[0m\u001b[1;33m,\u001b[0m \u001b[1;33m**\u001b[0m\u001b[0mkwargs\u001b[0m\u001b[1;33m)\u001b[0m\u001b[1;33m\u001b[0m\u001b[1;33m\u001b[0m\u001b[0m\n\u001b[0m",
      "\u001b[1;32mC:\\Program Files\\Python36\\lib\\site-packages\\sklearn\\ensemble\\_forest.py\u001b[0m in \u001b[0;36m_parallel_build_trees\u001b[1;34m(tree, forest, X, y, sample_weight, tree_idx, n_trees, verbose, class_weight, n_samples_bootstrap)\u001b[0m\n\u001b[0;32m    167\u001b[0m                                                         indices=indices)\n\u001b[0;32m    168\u001b[0m \u001b[1;33m\u001b[0m\u001b[0m\n\u001b[1;32m--> 169\u001b[1;33m         \u001b[0mtree\u001b[0m\u001b[1;33m.\u001b[0m\u001b[0mfit\u001b[0m\u001b[1;33m(\u001b[0m\u001b[0mX\u001b[0m\u001b[1;33m,\u001b[0m \u001b[0my\u001b[0m\u001b[1;33m,\u001b[0m \u001b[0msample_weight\u001b[0m\u001b[1;33m=\u001b[0m\u001b[0mcurr_sample_weight\u001b[0m\u001b[1;33m,\u001b[0m \u001b[0mcheck_input\u001b[0m\u001b[1;33m=\u001b[0m\u001b[1;32mFalse\u001b[0m\u001b[1;33m)\u001b[0m\u001b[1;33m\u001b[0m\u001b[1;33m\u001b[0m\u001b[0m\n\u001b[0m\u001b[0;32m    170\u001b[0m     \u001b[1;32melse\u001b[0m\u001b[1;33m:\u001b[0m\u001b[1;33m\u001b[0m\u001b[1;33m\u001b[0m\u001b[0m\n\u001b[0;32m    171\u001b[0m         \u001b[0mtree\u001b[0m\u001b[1;33m.\u001b[0m\u001b[0mfit\u001b[0m\u001b[1;33m(\u001b[0m\u001b[0mX\u001b[0m\u001b[1;33m,\u001b[0m \u001b[0my\u001b[0m\u001b[1;33m,\u001b[0m \u001b[0msample_weight\u001b[0m\u001b[1;33m=\u001b[0m\u001b[0msample_weight\u001b[0m\u001b[1;33m,\u001b[0m \u001b[0mcheck_input\u001b[0m\u001b[1;33m=\u001b[0m\u001b[1;32mFalse\u001b[0m\u001b[1;33m)\u001b[0m\u001b[1;33m\u001b[0m\u001b[1;33m\u001b[0m\u001b[0m\n",
      "\u001b[1;32mC:\\Program Files\\Python36\\lib\\site-packages\\sklearn\\tree\\_classes.py\u001b[0m in \u001b[0;36mfit\u001b[1;34m(self, X, y, sample_weight, check_input, X_idx_sorted)\u001b[0m\n\u001b[0;32m    900\u001b[0m             \u001b[0msample_weight\u001b[0m\u001b[1;33m=\u001b[0m\u001b[0msample_weight\u001b[0m\u001b[1;33m,\u001b[0m\u001b[1;33m\u001b[0m\u001b[1;33m\u001b[0m\u001b[0m\n\u001b[0;32m    901\u001b[0m             \u001b[0mcheck_input\u001b[0m\u001b[1;33m=\u001b[0m\u001b[0mcheck_input\u001b[0m\u001b[1;33m,\u001b[0m\u001b[1;33m\u001b[0m\u001b[1;33m\u001b[0m\u001b[0m\n\u001b[1;32m--> 902\u001b[1;33m             X_idx_sorted=X_idx_sorted)\n\u001b[0m\u001b[0;32m    903\u001b[0m         \u001b[1;32mreturn\u001b[0m \u001b[0mself\u001b[0m\u001b[1;33m\u001b[0m\u001b[1;33m\u001b[0m\u001b[0m\n\u001b[0;32m    904\u001b[0m \u001b[1;33m\u001b[0m\u001b[0m\n",
      "\u001b[1;32mC:\\Program Files\\Python36\\lib\\site-packages\\sklearn\\tree\\_classes.py\u001b[0m in \u001b[0;36mfit\u001b[1;34m(self, X, y, sample_weight, check_input, X_idx_sorted)\u001b[0m\n\u001b[0;32m    387\u001b[0m                                            min_impurity_split)\n\u001b[0;32m    388\u001b[0m \u001b[1;33m\u001b[0m\u001b[0m\n\u001b[1;32m--> 389\u001b[1;33m         \u001b[0mbuilder\u001b[0m\u001b[1;33m.\u001b[0m\u001b[0mbuild\u001b[0m\u001b[1;33m(\u001b[0m\u001b[0mself\u001b[0m\u001b[1;33m.\u001b[0m\u001b[0mtree_\u001b[0m\u001b[1;33m,\u001b[0m \u001b[0mX\u001b[0m\u001b[1;33m,\u001b[0m \u001b[0my\u001b[0m\u001b[1;33m,\u001b[0m \u001b[0msample_weight\u001b[0m\u001b[1;33m)\u001b[0m\u001b[1;33m\u001b[0m\u001b[1;33m\u001b[0m\u001b[0m\n\u001b[0m\u001b[0;32m    390\u001b[0m \u001b[1;33m\u001b[0m\u001b[0m\n\u001b[0;32m    391\u001b[0m         \u001b[1;32mif\u001b[0m \u001b[0mself\u001b[0m\u001b[1;33m.\u001b[0m\u001b[0mn_outputs_\u001b[0m \u001b[1;33m==\u001b[0m \u001b[1;36m1\u001b[0m \u001b[1;32mand\u001b[0m \u001b[0mis_classifier\u001b[0m\u001b[1;33m(\u001b[0m\u001b[0mself\u001b[0m\u001b[1;33m)\u001b[0m\u001b[1;33m:\u001b[0m\u001b[1;33m\u001b[0m\u001b[1;33m\u001b[0m\u001b[0m\n",
      "\u001b[1;31mKeyboardInterrupt\u001b[0m: "
     ]
    }
   ],
   "source": [
    "model = cfr.fit(x_train,y_train)"
   ]
  },
  {
   "cell_type": "code",
   "execution_count": null,
   "id": "ff45e740",
   "metadata": {},
   "outputs": [],
   "source": [
    "pred = model.predict(x_test)"
   ]
  },
  {
   "cell_type": "code",
   "execution_count": null,
   "id": "70e1b4d7",
   "metadata": {},
   "outputs": [],
   "source": [
    "model.predict(x_test)"
   ]
  },
  {
   "cell_type": "code",
   "execution_count": null,
   "id": "451a337c",
   "metadata": {},
   "outputs": [],
   "source": [
    "X[:3]"
   ]
  },
  {
   "cell_type": "code",
   "execution_count": null,
   "id": "2540d58f",
   "metadata": {},
   "outputs": [],
   "source": [
    "model.score(x_test,y_test)"
   ]
  },
  {
   "cell_type": "code",
   "execution_count": null,
   "id": "caa45c66",
   "metadata": {},
   "outputs": [],
   "source": [
    "accuracy_score(y_test,pred)"
   ]
  },
  {
   "cell_type": "code",
   "execution_count": null,
   "id": "c050890b",
   "metadata": {
    "scrolled": false
   },
   "outputs": [],
   "source": [
    "cm = confusion_matrix(y_test,pred)\n",
    "cm"
   ]
  },
  {
   "cell_type": "code",
   "execution_count": null,
   "id": "b6b7d0d8",
   "metadata": {},
   "outputs": [],
   "source": [
    "clsr= classification_report(y_test,pred)\n",
    "print(clsr)"
   ]
  },
  {
   "cell_type": "code",
   "execution_count": null,
   "id": "96dccdce",
   "metadata": {},
   "outputs": [],
   "source": [
    "sns.heatmap(cm, annot=True)"
   ]
  },
  {
   "cell_type": "code",
   "execution_count": null,
   "id": "07df1511",
   "metadata": {},
   "outputs": [],
   "source": [
    "precision_score(y_test,pred,average = 'weighted')"
   ]
  },
  {
   "cell_type": "code",
   "execution_count": null,
   "id": "58c53bda",
   "metadata": {},
   "outputs": [],
   "source": [
    "recall_score(y_test,pred,average = 'micro')"
   ]
  },
  {
   "cell_type": "code",
   "execution_count": null,
   "id": "d6dd66a9",
   "metadata": {},
   "outputs": [],
   "source": [
    "f1_score(y_test,pred,average ='weighted')"
   ]
  },
  {
   "cell_type": "code",
   "execution_count": null,
   "id": "08885cea",
   "metadata": {},
   "outputs": [],
   "source": [
    "fpr,tpr,t = roc_curve(y_true = y_test,y_score = pred,pos_label =2)"
   ]
  },
  {
   "cell_type": "code",
   "execution_count": null,
   "id": "9857bfb0",
   "metadata": {},
   "outputs": [],
   "source": [
    "print(fpr,tpr,t)"
   ]
  },
  {
   "cell_type": "code",
   "execution_count": null,
   "id": "d4f0fd56",
   "metadata": {},
   "outputs": [],
   "source": [
    "plt.plot(fpr,tpr)\n",
    "plt.plot([0,1],[0,1],'--')\n",
    "plt.scatter(fpr,tpr)\n",
    "plt.title('ROC CURVE')\n",
    "plt.xlabel('False Positive Rate',color = 'black')\n",
    "plt.ylabel('True Positive Rate',color = 'black')\n",
    "plt.show()"
   ]
  },
  {
   "cell_type": "code",
   "execution_count": null,
   "id": "5d86c1e6",
   "metadata": {},
   "outputs": [],
   "source": [
    "model.feature_importances_"
   ]
  },
  {
   "cell_type": "code",
   "execution_count": null,
   "id": "80999e99",
   "metadata": {},
   "outputs": [],
   "source": [
    "fi = pd.DataFrame(model.feature_importances_, index= x_train.columns,columns=['importance']).sort_values('importance',ascending=False)"
   ]
  },
  {
   "cell_type": "code",
   "execution_count": null,
   "id": "ef5b3fd7",
   "metadata": {},
   "outputs": [],
   "source": [
    "feature_importances = pd.DataFrame(model.feature_importances_, index =x_train.columns,  columns=['importance']).sort_values('importance', ascending=False)"
   ]
  },
  {
   "cell_type": "code",
   "execution_count": null,
   "id": "88261953",
   "metadata": {},
   "outputs": [],
   "source": [
    "fi"
   ]
  },
  {
   "cell_type": "code",
   "execution_count": null,
   "id": "7872731e",
   "metadata": {},
   "outputs": [],
   "source": [
    "accuracy_score(y_test,pred)"
   ]
  },
  {
   "cell_type": "code",
   "execution_count": null,
   "id": "ff1552c3",
   "metadata": {},
   "outputs": [],
   "source": [
    "sns.heatmap(confusion_matrix(y_test,pred),annot= True)"
   ]
  },
  {
   "cell_type": "code",
   "execution_count": null,
   "id": "b179597c",
   "metadata": {},
   "outputs": [],
   "source": [
    "# type(x_train),type(y_train)"
   ]
  },
  {
   "cell_type": "code",
   "execution_count": null,
   "id": "eb6af24d",
   "metadata": {},
   "outputs": [],
   "source": [
    "# (x_train[0][1])"
   ]
  },
  {
   "cell_type": "markdown",
   "id": "3708f625",
   "metadata": {},
   "source": [
    "### Extreme Gradient Boosting (XGBoost) Classifier"
   ]
  },
  {
   "cell_type": "code",
   "execution_count": null,
   "id": "d02aaf74",
   "metadata": {},
   "outputs": [],
   "source": [
    "import xgboost as xgb"
   ]
  },
  {
   "cell_type": "code",
   "execution_count": null,
   "id": "73819843",
   "metadata": {},
   "outputs": [],
   "source": [
    "xgc = xgb.XGBClassifier()"
   ]
  },
  {
   "cell_type": "code",
   "execution_count": null,
   "id": "01ed422e",
   "metadata": {},
   "outputs": [],
   "source": [
    "model1 = xgc.fit(x_train,y_train)"
   ]
  },
  {
   "cell_type": "code",
   "execution_count": null,
   "id": "ba88edd6",
   "metadata": {},
   "outputs": [],
   "source": [
    "pred = model1.predict(x_test)"
   ]
  },
  {
   "cell_type": "code",
   "execution_count": null,
   "id": "0680f09e",
   "metadata": {},
   "outputs": [],
   "source": [
    "accuracy_score(y_test,pred)"
   ]
  },
  {
   "cell_type": "code",
   "execution_count": null,
   "id": "7731b4e1",
   "metadata": {},
   "outputs": [],
   "source": [
    "precision_score(y_test,pred,average = 'macro')"
   ]
  },
  {
   "cell_type": "code",
   "execution_count": null,
   "id": "9502b8a4",
   "metadata": {},
   "outputs": [],
   "source": [
    "recall_score(y_test,pred,average = 'weighted')"
   ]
  },
  {
   "cell_type": "code",
   "execution_count": null,
   "id": "48e0e2fb",
   "metadata": {},
   "outputs": [],
   "source": [
    "f1_score(y_test,pred,average='micro')"
   ]
  },
  {
   "cell_type": "code",
   "execution_count": null,
   "id": "f558477c",
   "metadata": {},
   "outputs": [],
   "source": [
    "sns.heatmap(confusion_matrix(y_test,pred),annot = True)"
   ]
  },
  {
   "cell_type": "code",
   "execution_count": null,
   "id": "3ba9380a",
   "metadata": {},
   "outputs": [],
   "source": [
    "fpr,tpr,t = roc_curve(y_true = y_test,y_score = pred,pos_label =2)"
   ]
  },
  {
   "cell_type": "code",
   "execution_count": null,
   "id": "c66570c3",
   "metadata": {},
   "outputs": [],
   "source": [
    "print(fpr,tpr,t)"
   ]
  },
  {
   "cell_type": "code",
   "execution_count": null,
   "id": "52620dfb",
   "metadata": {},
   "outputs": [],
   "source": [
    "plt.plot(fpr,tpr)\n",
    "plt.plot([0,1],[0,1],'--')\n",
    "plt.scatter(fpr,tpr)\n",
    "plt.title('ROC CURVE')\n",
    "plt.xlabel('False Positive Rate',color = 'black')\n",
    "plt.ylabel('True Positive Rate',color = 'black')\n",
    "plt.show()"
   ]
  },
  {
   "cell_type": "code",
   "execution_count": null,
   "id": "cb2292c9",
   "metadata": {},
   "outputs": [],
   "source": [
    "roc_auc_score(y_test,pred,multi_class = 'ovo')"
   ]
  },
  {
   "cell_type": "markdown",
   "id": "94ec9d3a",
   "metadata": {},
   "source": [
    "### Light Gradient Boosting Machine"
   ]
  },
  {
   "cell_type": "code",
   "execution_count": null,
   "id": "97e4a7c7",
   "metadata": {},
   "outputs": [],
   "source": [
    "import lightgbm as lgb"
   ]
  },
  {
   "cell_type": "code",
   "execution_count": null,
   "id": "81d9dcd2",
   "metadata": {},
   "outputs": [],
   "source": [
    "lgb1 = lgb.LGBMClassifier()"
   ]
  },
  {
   "cell_type": "code",
   "execution_count": null,
   "id": "fb3dba0f",
   "metadata": {},
   "outputs": [],
   "source": [
    "model2 = lgb1.fit(x_train,y_train)"
   ]
  },
  {
   "cell_type": "code",
   "execution_count": null,
   "id": "0e50ce8f",
   "metadata": {},
   "outputs": [],
   "source": [
    "pred2 = model2.predict(x_test)"
   ]
  },
  {
   "cell_type": "code",
   "execution_count": null,
   "id": "d53c701a",
   "metadata": {},
   "outputs": [],
   "source": [
    "print(classification_report(y_test,pred2))"
   ]
  },
  {
   "cell_type": "code",
   "execution_count": null,
   "id": "d0b379b3",
   "metadata": {},
   "outputs": [],
   "source": [
    "accuracy_score(y_test,pred2)"
   ]
  },
  {
   "cell_type": "code",
   "execution_count": null,
   "id": "fc41a62b",
   "metadata": {},
   "outputs": [],
   "source": [
    "precision_score(y_test,pred2,average = 'macro')"
   ]
  },
  {
   "cell_type": "code",
   "execution_count": null,
   "id": "184b97e6",
   "metadata": {},
   "outputs": [],
   "source": [
    "recall_score(y_test,pred2,average = 'weighted')"
   ]
  },
  {
   "cell_type": "code",
   "execution_count": null,
   "id": "8685c35f",
   "metadata": {},
   "outputs": [],
   "source": [
    "confusion_matrix(y_test,pred2)"
   ]
  },
  {
   "cell_type": "code",
   "execution_count": null,
   "id": "48a64b17",
   "metadata": {},
   "outputs": [],
   "source": [
    "sns.heatmap(confusion_matrix(y_test,pred2),annot = True)"
   ]
  },
  {
   "cell_type": "code",
   "execution_count": null,
   "id": "d59a05a2",
   "metadata": {},
   "outputs": [],
   "source": [
    "fpr,tpr,t = roc_curve(y_true = y_test,y_score = pred2,pos_label =2)\n",
    "\n",
    "print(fpr,tpr,t)\n",
    "\n",
    "plt.plot(fpr,tpr)\n",
    "plt.plot([0,1],[0,1],'--')\n",
    "plt.scatter(fpr,tpr)\n",
    "plt.title('ROC CURVE')\n",
    "plt.xlabel('False Positive Rate',color = 'black')\n",
    "plt.ylabel('True Positive Rate',color = 'black')\n",
    "plt.show()"
   ]
  },
  {
   "cell_type": "markdown",
   "id": "3cd8e3d9",
   "metadata": {},
   "source": [
    "### K Nearest Neighbors"
   ]
  },
  {
   "cell_type": "code",
   "execution_count": null,
   "id": "ae39a772",
   "metadata": {},
   "outputs": [],
   "source": [
    "from sklearn.neighbors import KNeighborsClassifier"
   ]
  },
  {
   "cell_type": "code",
   "execution_count": null,
   "id": "0cc78ef6",
   "metadata": {},
   "outputs": [],
   "source": [
    "model3 = KNeighborsClassifier()"
   ]
  },
  {
   "cell_type": "code",
   "execution_count": null,
   "id": "13a90529",
   "metadata": {},
   "outputs": [],
   "source": [
    "model3.fit(x_train,y_train)"
   ]
  },
  {
   "cell_type": "code",
   "execution_count": null,
   "id": "90d4815e",
   "metadata": {},
   "outputs": [],
   "source": [
    "pred3 = model3.predict(x_test)"
   ]
  },
  {
   "cell_type": "code",
   "execution_count": null,
   "id": "02531a61",
   "metadata": {},
   "outputs": [],
   "source": [
    "accuracy_score(y_test,pred3)"
   ]
  },
  {
   "cell_type": "code",
   "execution_count": null,
   "id": "111c945f",
   "metadata": {},
   "outputs": [],
   "source": [
    "model3.score(x_train,y_train)"
   ]
  },
  {
   "cell_type": "code",
   "execution_count": null,
   "id": "5e13748c",
   "metadata": {},
   "outputs": [],
   "source": [
    "precision_score(y_test,pred3,average = 'macro')"
   ]
  },
  {
   "cell_type": "code",
   "execution_count": null,
   "id": "430d6b13",
   "metadata": {},
   "outputs": [],
   "source": [
    "recall_score(y_test,pred3,average = 'micro')"
   ]
  },
  {
   "cell_type": "code",
   "execution_count": null,
   "id": "ab412299",
   "metadata": {},
   "outputs": [],
   "source": [
    "f1_score(y_test,pred3,average = 'weighted')"
   ]
  },
  {
   "cell_type": "code",
   "execution_count": null,
   "id": "0a23b62b",
   "metadata": {},
   "outputs": [],
   "source": [
    "print(classification_report(y_test,pred3))"
   ]
  },
  {
   "cell_type": "code",
   "execution_count": null,
   "id": "8e5234c4",
   "metadata": {},
   "outputs": [],
   "source": [
    "confusion_matrix(y_test,pred3)"
   ]
  },
  {
   "cell_type": "code",
   "execution_count": null,
   "id": "4cfda910",
   "metadata": {},
   "outputs": [],
   "source": [
    "sns.heatmap(confusion_matrix(y_test,pred3),annot = True)"
   ]
  },
  {
   "cell_type": "code",
   "execution_count": null,
   "id": "09ea6ea1",
   "metadata": {},
   "outputs": [],
   "source": [
    "fpr,tpr,t = roc_curve(y_true = y_test,y_score = pred3,pos_label =2)\n",
    "\n",
    "print(fpr,tpr,t)\n",
    "\n",
    "plt.plot(fpr,tpr)\n",
    "plt.plot([0,1],[0,1],'--')\n",
    "plt.scatter(fpr,tpr)\n",
    "plt.title('ROC CURVE')\n",
    "plt.xlabel('False Positive Rate',color = 'black')\n",
    "plt.ylabel('True Positive Rate',color = 'black')\n",
    "plt.show()"
   ]
  },
  {
   "cell_type": "markdown",
   "id": "7323da5e",
   "metadata": {},
   "source": [
    "### Support Vector machines"
   ]
  },
  {
   "cell_type": "code",
   "execution_count": null,
   "id": "b45925d4",
   "metadata": {},
   "outputs": [],
   "source": [
    "model4 = SVC()"
   ]
  },
  {
   "cell_type": "code",
   "execution_count": null,
   "id": "c7a14205",
   "metadata": {},
   "outputs": [],
   "source": [
    "model4.fit(x_train[:10000],y_train[:10000])\n"
   ]
  },
  {
   "cell_type": "code",
   "execution_count": null,
   "id": "7ddfef6b",
   "metadata": {},
   "outputs": [],
   "source": [
    "pred4 = model4.predict(x_test)"
   ]
  },
  {
   "cell_type": "code",
   "execution_count": null,
   "id": "920a7404",
   "metadata": {},
   "outputs": [],
   "source": [
    "accuracy_score(y_test,pred4)"
   ]
  },
  {
   "cell_type": "code",
   "execution_count": null,
   "id": "49361fe6",
   "metadata": {},
   "outputs": [],
   "source": [
    "precision_score(y_test,pred4,average = 'micro')"
   ]
  },
  {
   "cell_type": "code",
   "execution_count": null,
   "id": "5538fb9a",
   "metadata": {},
   "outputs": [],
   "source": [
    "recall_score(y_test,pred4,average = 'micro')"
   ]
  },
  {
   "cell_type": "code",
   "execution_count": null,
   "id": "d2b9aff1",
   "metadata": {},
   "outputs": [],
   "source": [
    "f1_score(y_test,pred4,average = 'weighted')"
   ]
  },
  {
   "cell_type": "code",
   "execution_count": null,
   "id": "f7226142",
   "metadata": {},
   "outputs": [],
   "source": [
    "sns.heatmap(confusion_matrix(y_test,pred4),annot = True)"
   ]
  },
  {
   "cell_type": "code",
   "execution_count": null,
   "id": "51493332",
   "metadata": {},
   "outputs": [],
   "source": [
    "fpr,tpr,t = roc_curve(y_true = y_test,y_score = pred4,pos_label =2)\n",
    "\n",
    "print(fpr,tpr,t)\n",
    "\n",
    "plt.plot(fpr,tpr)\n",
    "plt.plot([0,1],[0,1],'--')\n",
    "plt.scatter(fpr,tpr)\n",
    "plt.title('ROC CURVE')\n",
    "plt.xlabel('False Positive Rate',color = 'black')\n",
    "plt.ylabel('True Positive Rate',color = 'black')\n",
    "plt.show()"
   ]
  },
  {
   "cell_type": "code",
   "execution_count": null,
   "id": "22207604",
   "metadata": {},
   "outputs": [],
   "source": []
  },
  {
   "cell_type": "code",
   "execution_count": 48,
   "id": "61974fa6",
   "metadata": {},
   "outputs": [],
   "source": [
    "from tensorflow.keras.models import Sequential\n",
    "from tensorflow.keras.layers import Dense\n",
    "import tensorflow as tf"
   ]
  },
  {
   "cell_type": "code",
   "execution_count": 49,
   "id": "5d9c30d8",
   "metadata": {},
   "outputs": [],
   "source": [
    "x_train = tf.convert_to_tensor(x_train, dtype=tf.float32)\n",
    "y_train = tf.convert_to_tensor(y_train, dtype=tf.float32)\n",
    "x_test = tf.convert_to_tensor(x_test, dtype=tf.float32)\n",
    "y_test = tf.convert_to_tensor(y_test, dtype=tf.float32)\n",
    "model = Sequential()\n",
    "model.add(Dense(30, activation='relu'))\n",
    "model.add(Dense(20, activation='relu'))\n",
    "model.add(Dense(1, activation='softmax'))\n",
    "model.compile(optimizer='adam', loss='binary_crossentropy', metrics=['accuracy']) "
   ]
  },
  {
   "cell_type": "code",
   "execution_count": 51,
   "id": "2eee7fa8",
   "metadata": {},
   "outputs": [
    {
     "name": "stdout",
     "output_type": "stream",
     "text": [
      "Epoch 1/150\n",
      "100/100 [==============================] - 6s 64ms/step - loss: -34396288.0000 - accuracy: 0.3340 - val_loss: -35262152.0000 - val_accuracy: 0.3334\n",
      "Epoch 2/150\n",
      "100/100 [==============================] - 6s 65ms/step - loss: -35180604.0000 - accuracy: 0.3340 - val_loss: -36043028.0000 - val_accuracy: 0.3334\n",
      "Epoch 3/150\n",
      "100/100 [==============================] - 6s 64ms/step - loss: -35971100.0000 - accuracy: 0.3340 - val_loss: -36824424.0000 - val_accuracy: 0.3334\n",
      "Epoch 4/150\n",
      "100/100 [==============================] - 6s 63ms/step - loss: -36450800.0000 - accuracy: 0.3340 - val_loss: -37514260.0000 - val_accuracy: 0.3334\n",
      "Epoch 5/150\n",
      "100/100 [==============================] - 6s 64ms/step - loss: -37350464.0000 - accuracy: 0.3340 - val_loss: -38284428.0000 - val_accuracy: 0.3334\n",
      "Epoch 6/150\n",
      "100/100 [==============================] - 6s 63ms/step - loss: -37561096.0000 - accuracy: 0.3340 - val_loss: -39050400.0000 - val_accuracy: 0.3334\n",
      "Epoch 7/150\n",
      "100/100 [==============================] - 6s 63ms/step - loss: -36812700.0000 - accuracy: 0.3340 - val_loss: -39638596.0000 - val_accuracy: 0.3334\n",
      "Epoch 8/150\n",
      "100/100 [==============================] - 6s 65ms/step - loss: -39506036.0000 - accuracy: 0.3340 - val_loss: -40657032.0000 - val_accuracy: 0.3334\n",
      "Epoch 9/150\n",
      "100/100 [==============================] - 6s 64ms/step - loss: -40134572.0000 - accuracy: 0.3340 - val_loss: -41405252.0000 - val_accuracy: 0.3334\n",
      "Epoch 10/150\n",
      "100/100 [==============================] - 6s 63ms/step - loss: -41151976.0000 - accuracy: 0.3340 - val_loss: -42241604.0000 - val_accuracy: 0.3334\n",
      "Epoch 11/150\n",
      "100/100 [==============================] - 6s 65ms/step - loss: -41187912.0000 - accuracy: 0.3340 - val_loss: -41491112.0000 - val_accuracy: 0.3334\n",
      "Epoch 12/150\n",
      "100/100 [==============================] - 7s 67ms/step - loss: -44335528.0000 - accuracy: 0.3340 - val_loss: -41697752.0000 - val_accuracy: 0.3334\n",
      "Epoch 13/150\n",
      "100/100 [==============================] - 7s 66ms/step - loss: -46769416.0000 - accuracy: 0.3340 - val_loss: -42105824.0000 - val_accuracy: 0.3334\n",
      "Epoch 14/150\n",
      "100/100 [==============================] - 6s 65ms/step - loss: -48188980.0000 - accuracy: 0.3340 - val_loss: -42062196.0000 - val_accuracy: 0.3334\n",
      "Epoch 15/150\n",
      "100/100 [==============================] - 6s 64ms/step - loss: -50190176.0000 - accuracy: 0.3340 - val_loss: -42518036.0000 - val_accuracy: 0.3334\n",
      "Epoch 16/150\n",
      "100/100 [==============================] - 7s 71ms/step - loss: -51783260.0000 - accuracy: 0.3340 - val_loss: -42821180.0000 - val_accuracy: 0.3334\n",
      "Epoch 17/150\n",
      "100/100 [==============================] - 7s 72ms/step - loss: -53926708.0000 - accuracy: 0.3340 - val_loss: -42873952.0000 - val_accuracy: 0.3334\n",
      "Epoch 18/150\n",
      "100/100 [==============================] - 7s 73ms/step - loss: -53173104.0000 - accuracy: 0.3340 - val_loss: -42915792.0000 - val_accuracy: 0.3334\n",
      "Epoch 19/150\n",
      "100/100 [==============================] - 6s 62ms/step - loss: -57031788.0000 - accuracy: 0.3340 - val_loss: -43678044.0000 - val_accuracy: 0.3334\n",
      "Epoch 20/150\n",
      "100/100 [==============================] - 6s 62ms/step - loss: -58612948.0000 - accuracy: 0.3340 - val_loss: -43823304.0000 - val_accuracy: 0.3334\n",
      "Epoch 21/150\n",
      "100/100 [==============================] - 6s 64ms/step - loss: -60495116.0000 - accuracy: 0.3340 - val_loss: -44262560.0000 - val_accuracy: 0.3334\n",
      "Epoch 22/150\n",
      "100/100 [==============================] - 6s 63ms/step - loss: -60987060.0000 - accuracy: 0.3340 - val_loss: -44342432.0000 - val_accuracy: 0.3334\n",
      "Epoch 23/150\n",
      "100/100 [==============================] - 6s 63ms/step - loss: -63245228.0000 - accuracy: 0.3340 - val_loss: -44837420.0000 - val_accuracy: 0.3334\n",
      "Epoch 24/150\n",
      "100/100 [==============================] - 6s 63ms/step - loss: -64506700.0000 - accuracy: 0.3340 - val_loss: -45183488.0000 - val_accuracy: 0.3334\n",
      "Epoch 25/150\n",
      "100/100 [==============================] - 6s 63ms/step - loss: -66279232.0000 - accuracy: 0.3340 - val_loss: -45491556.0000 - val_accuracy: 0.3334\n",
      "Epoch 26/150\n",
      "100/100 [==============================] - 6s 64ms/step - loss: -67606352.0000 - accuracy: 0.3340 - val_loss: -46057244.0000 - val_accuracy: 0.3334\n",
      "Epoch 27/150\n",
      "100/100 [==============================] - 6s 63ms/step - loss: -69272920.0000 - accuracy: 0.3340 - val_loss: -46305288.0000 - val_accuracy: 0.3334\n",
      "Epoch 28/150\n",
      "100/100 [==============================] - 6s 62ms/step - loss: -71386880.0000 - accuracy: 0.3340 - val_loss: -46547352.0000 - val_accuracy: 0.3334\n",
      "Epoch 29/150\n",
      "100/100 [==============================] - 6s 63ms/step - loss: -73126520.0000 - accuracy: 0.3340 - val_loss: -46766116.0000 - val_accuracy: 0.3334\n",
      "Epoch 30/150\n",
      "100/100 [==============================] - 6s 64ms/step - loss: -75021056.0000 - accuracy: 0.3340 - val_loss: -47149092.0000 - val_accuracy: 0.3334\n",
      "Epoch 31/150\n",
      "100/100 [==============================] - 6s 64ms/step - loss: -75720848.0000 - accuracy: 0.3340 - val_loss: -48120508.0000 - val_accuracy: 0.3334\n",
      "Epoch 32/150\n",
      "100/100 [==============================] - 6s 63ms/step - loss: -77596368.0000 - accuracy: 0.3340 - val_loss: -47604580.0000 - val_accuracy: 0.3334\n",
      "Epoch 33/150\n",
      "100/100 [==============================] - 6s 63ms/step - loss: -79565576.0000 - accuracy: 0.3340 - val_loss: -48112012.0000 - val_accuracy: 0.3334\n",
      "Epoch 34/150\n",
      "100/100 [==============================] - 6s 63ms/step - loss: -81324576.0000 - accuracy: 0.3340 - val_loss: -48361144.0000 - val_accuracy: 0.3334\n",
      "Epoch 35/150\n",
      "100/100 [==============================] - 6s 63ms/step - loss: -82918312.0000 - accuracy: 0.3340 - val_loss: -48355724.0000 - val_accuracy: 0.3334\n",
      "Epoch 36/150\n",
      "100/100 [==============================] - 6s 63ms/step - loss: -84826656.0000 - accuracy: 0.3340 - val_loss: -48806520.0000 - val_accuracy: 0.3334\n",
      "Epoch 37/150\n",
      "100/100 [==============================] - 6s 64ms/step - loss: -85711576.0000 - accuracy: 0.3340 - val_loss: -50283912.0000 - val_accuracy: 0.3334\n",
      "Epoch 38/150\n",
      "100/100 [==============================] - 6s 64ms/step - loss: -84211824.0000 - accuracy: 0.3340 - val_loss: -49668540.0000 - val_accuracy: 0.3334\n",
      "Epoch 39/150\n",
      "100/100 [==============================] - 6s 65ms/step - loss: -89804328.0000 - accuracy: 0.3340 - val_loss: -49921636.0000 - val_accuracy: 0.3334\n",
      "Epoch 40/150\n",
      "100/100 [==============================] - 6s 64ms/step - loss: -91473304.0000 - accuracy: 0.3340 - val_loss: -50171152.0000 - val_accuracy: 0.3334\n",
      "Epoch 41/150\n",
      "100/100 [==============================] - 7s 67ms/step - loss: -92579104.0000 - accuracy: 0.3340 - val_loss: -50471532.0000 - val_accuracy: 0.3334\n",
      "Epoch 42/150\n",
      "100/100 [==============================] - 7s 66ms/step - loss: -95187328.0000 - accuracy: 0.3340 - val_loss: -50713468.0000 - val_accuracy: 0.3334\n",
      "Epoch 43/150\n",
      "100/100 [==============================] - 6s 63ms/step - loss: -96568072.0000 - accuracy: 0.3340 - val_loss: -51163964.0000 - val_accuracy: 0.3334\n",
      "Epoch 44/150\n",
      "100/100 [==============================] - 6s 65ms/step - loss: -97748968.0000 - accuracy: 0.3340 - val_loss: -51477356.0000 - val_accuracy: 0.3334\n",
      "Epoch 45/150\n",
      "100/100 [==============================] - 7s 71ms/step - loss: -100368368.0000 - accuracy: 0.3340 - val_loss: -51987560.0000 - val_accuracy: 0.3334\n",
      "Epoch 46/150\n",
      "100/100 [==============================] - 6s 61ms/step - loss: -101975952.0000 - accuracy: 0.3340 - val_loss: -52460848.0000 - val_accuracy: 0.3334\n",
      "Epoch 47/150\n",
      "100/100 [==============================] - 6s 63ms/step - loss: -103423496.0000 - accuracy: 0.3340 - val_loss: -52611136.0000 - val_accuracy: 0.3334\n",
      "Epoch 48/150\n",
      "100/100 [==============================] - 6s 63ms/step - loss: -105445632.0000 - accuracy: 0.3340 - val_loss: -52769412.0000 - val_accuracy: 0.3334\n",
      "Epoch 49/150\n",
      "100/100 [==============================] - 6s 63ms/step - loss: -106075112.0000 - accuracy: 0.3340 - val_loss: -53238044.0000 - val_accuracy: 0.3334\n",
      "Epoch 50/150\n",
      "100/100 [==============================] - 6s 63ms/step - loss: -108481896.0000 - accuracy: 0.3340 - val_loss: -53563820.0000 - val_accuracy: 0.3334\n",
      "Epoch 51/150\n",
      "100/100 [==============================] - 6s 64ms/step - loss: -110700448.0000 - accuracy: 0.3340 - val_loss: -54116068.0000 - val_accuracy: 0.3334\n"
     ]
    },
    {
     "name": "stdout",
     "output_type": "stream",
     "text": [
      "Epoch 52/150\n",
      "100/100 [==============================] - 6s 63ms/step - loss: -111663976.0000 - accuracy: 0.3340 - val_loss: -54627516.0000 - val_accuracy: 0.3334\n",
      "Epoch 53/150\n",
      "100/100 [==============================] - 6s 63ms/step - loss: -113749656.0000 - accuracy: 0.3340 - val_loss: -54820692.0000 - val_accuracy: 0.3334\n",
      "Epoch 54/150\n",
      "100/100 [==============================] - 6s 63ms/step - loss: -115491416.0000 - accuracy: 0.3340 - val_loss: -55224024.0000 - val_accuracy: 0.3334\n",
      "Epoch 55/150\n",
      "100/100 [==============================] - 6s 63ms/step - loss: -117923816.0000 - accuracy: 0.3340 - val_loss: -55505572.0000 - val_accuracy: 0.3334\n",
      "Epoch 56/150\n",
      "100/100 [==============================] - 6s 63ms/step - loss: -119758584.0000 - accuracy: 0.3340 - val_loss: -55942728.0000 - val_accuracy: 0.3334\n",
      "Epoch 57/150\n",
      "100/100 [==============================] - 6s 63ms/step - loss: -121640752.0000 - accuracy: 0.3340 - val_loss: -56411160.0000 - val_accuracy: 0.3334\n",
      "Epoch 58/150\n",
      "100/100 [==============================] - 6s 63ms/step - loss: -123093240.0000 - accuracy: 0.3340 - val_loss: -56913620.0000 - val_accuracy: 0.3334\n",
      "Epoch 59/150\n",
      "100/100 [==============================] - 6s 65ms/step - loss: -124667248.0000 - accuracy: 0.3340 - val_loss: -57657396.0000 - val_accuracy: 0.3334\n",
      "Epoch 60/150\n",
      "100/100 [==============================] - 6s 63ms/step - loss: -126975696.0000 - accuracy: 0.3340 - val_loss: -57492300.0000 - val_accuracy: 0.3334\n",
      "Epoch 61/150\n",
      "100/100 [==============================] - 6s 63ms/step - loss: -128998936.0000 - accuracy: 0.3340 - val_loss: -58286964.0000 - val_accuracy: 0.3334\n",
      "Epoch 62/150\n",
      "100/100 [==============================] - 6s 63ms/step - loss: -130629160.0000 - accuracy: 0.3340 - val_loss: -57969352.0000 - val_accuracy: 0.3334\n",
      "Epoch 63/150\n",
      "100/100 [==============================] - 6s 64ms/step - loss: -133470320.0000 - accuracy: 0.3340 - val_loss: -58764604.0000 - val_accuracy: 0.3334\n",
      "Epoch 64/150\n",
      "100/100 [==============================] - 6s 64ms/step - loss: -134247488.0000 - accuracy: 0.3340 - val_loss: -59203360.0000 - val_accuracy: 0.3334\n",
      "Epoch 65/150\n",
      "100/100 [==============================] - 6s 63ms/step - loss: -137178752.0000 - accuracy: 0.3340 - val_loss: -59690700.0000 - val_accuracy: 0.3334\n",
      "Epoch 66/150\n",
      "100/100 [==============================] - 6s 62ms/step - loss: -137754800.0000 - accuracy: 0.3340 - val_loss: -60371040.0000 - val_accuracy: 0.3334\n",
      "Epoch 67/150\n",
      "100/100 [==============================] - 6s 63ms/step - loss: -139802976.0000 - accuracy: 0.3340 - val_loss: -60341772.0000 - val_accuracy: 0.3334\n",
      "Epoch 68/150\n",
      "100/100 [==============================] - 6s 63ms/step - loss: -142741312.0000 - accuracy: 0.3340 - val_loss: -60988900.0000 - val_accuracy: 0.3334\n",
      "Epoch 69/150\n",
      "100/100 [==============================] - 6s 64ms/step - loss: -144909344.0000 - accuracy: 0.3340 - val_loss: -61580772.0000 - val_accuracy: 0.3334\n",
      "Epoch 70/150\n",
      "100/100 [==============================] - 6s 63ms/step - loss: -145555136.0000 - accuracy: 0.3340 - val_loss: -62146444.0000 - val_accuracy: 0.3334\n",
      "Epoch 71/150\n",
      "100/100 [==============================] - 6s 63ms/step - loss: -147738784.0000 - accuracy: 0.3340 - val_loss: -62492168.0000 - val_accuracy: 0.3334\n",
      "Epoch 72/150\n",
      "100/100 [==============================] - 6s 63ms/step - loss: -149967744.0000 - accuracy: 0.3340 - val_loss: -62544480.0000 - val_accuracy: 0.3334\n",
      "Epoch 73/150\n",
      "100/100 [==============================] - 7s 67ms/step - loss: -152117360.0000 - accuracy: 0.3340 - val_loss: -63053936.0000 - val_accuracy: 0.3334\n",
      "Epoch 74/150\n",
      "100/100 [==============================] - 6s 63ms/step - loss: -154220448.0000 - accuracy: 0.3340 - val_loss: -64006576.0000 - val_accuracy: 0.3334\n",
      "Epoch 75/150\n",
      "100/100 [==============================] - 6s 63ms/step - loss: -155133360.0000 - accuracy: 0.3340 - val_loss: -63728932.0000 - val_accuracy: 0.3334\n",
      "Epoch 76/150\n",
      "100/100 [==============================] - 6s 63ms/step - loss: -158281408.0000 - accuracy: 0.3340 - val_loss: -64948176.0000 - val_accuracy: 0.3334\n",
      "Epoch 77/150\n",
      "100/100 [==============================] - 6s 63ms/step - loss: -160655216.0000 - accuracy: 0.3340 - val_loss: -65043508.0000 - val_accuracy: 0.3334\n",
      "Epoch 78/150\n",
      "100/100 [==============================] - 6s 64ms/step - loss: -162519200.0000 - accuracy: 0.3340 - val_loss: -65107508.0000 - val_accuracy: 0.3334\n",
      "Epoch 79/150\n",
      "100/100 [==============================] - 6s 63ms/step - loss: -164567216.0000 - accuracy: 0.3340 - val_loss: -65840192.0000 - val_accuracy: 0.3334\n",
      "Epoch 80/150\n",
      "100/100 [==============================] - 6s 63ms/step - loss: -166123504.0000 - accuracy: 0.3340 - val_loss: -66413168.0000 - val_accuracy: 0.3334\n",
      "Epoch 81/150\n",
      "100/100 [==============================] - 6s 63ms/step - loss: -168772016.0000 - accuracy: 0.3340 - val_loss: -67533456.0000 - val_accuracy: 0.3334\n",
      "Epoch 82/150\n",
      "100/100 [==============================] - 6s 62ms/step - loss: -168953472.0000 - accuracy: 0.3340 - val_loss: -68170424.0000 - val_accuracy: 0.3334\n",
      "Epoch 83/150\n",
      "100/100 [==============================] - 6s 63ms/step - loss: -173475792.0000 - accuracy: 0.3340 - val_loss: -68293448.0000 - val_accuracy: 0.3334\n",
      "Epoch 84/150\n",
      "100/100 [==============================] - 6s 62ms/step - loss: -175250608.0000 - accuracy: 0.3340 - val_loss: -68858432.0000 - val_accuracy: 0.3334\n",
      "Epoch 85/150\n",
      "100/100 [==============================] - 6s 63ms/step - loss: -176236992.0000 - accuracy: 0.3340 - val_loss: -70444232.0000 - val_accuracy: 0.3334\n",
      "Epoch 86/150\n",
      "100/100 [==============================] - 6s 63ms/step - loss: -173184800.0000 - accuracy: 0.3340 - val_loss: -70458976.0000 - val_accuracy: 0.3334\n",
      "Epoch 87/150\n",
      "100/100 [==============================] - 6s 63ms/step - loss: -178899104.0000 - accuracy: 0.3340 - val_loss: -70999760.0000 - val_accuracy: 0.3334\n",
      "Epoch 88/150\n",
      "100/100 [==============================] - 6s 64ms/step - loss: -183374080.0000 - accuracy: 0.3340 - val_loss: -70366584.0000 - val_accuracy: 0.3334\n",
      "Epoch 89/150\n",
      "100/100 [==============================] - 6s 65ms/step - loss: -186883328.0000 - accuracy: 0.3340 - val_loss: -71371792.0000 - val_accuracy: 0.3334\n",
      "Epoch 90/150\n",
      "100/100 [==============================] - 6s 63ms/step - loss: -188600992.0000 - accuracy: 0.3340 - val_loss: -71868248.0000 - val_accuracy: 0.3334\n",
      "Epoch 91/150\n",
      "100/100 [==============================] - 6s 63ms/step - loss: -191309648.0000 - accuracy: 0.3340 - val_loss: -72482920.0000 - val_accuracy: 0.3334\n",
      "Epoch 92/150\n",
      "100/100 [==============================] - 6s 63ms/step - loss: -193081712.0000 - accuracy: 0.3340 - val_loss: -73093872.0000 - val_accuracy: 0.3334\n",
      "Epoch 93/150\n",
      "100/100 [==============================] - 6s 64ms/step - loss: -195354976.0000 - accuracy: 0.3340 - val_loss: -73623120.0000 - val_accuracy: 0.3334\n",
      "Epoch 94/150\n",
      "100/100 [==============================] - 6s 63ms/step - loss: -197724752.0000 - accuracy: 0.3340 - val_loss: -74220384.0000 - val_accuracy: 0.3334\n",
      "Epoch 95/150\n",
      "100/100 [==============================] - 6s 63ms/step - loss: -199732064.0000 - accuracy: 0.3340 - val_loss: -74431664.0000 - val_accuracy: 0.3334\n",
      "Epoch 96/150\n",
      "100/100 [==============================] - 6s 63ms/step - loss: -202349328.0000 - accuracy: 0.3340 - val_loss: -75136088.0000 - val_accuracy: 0.3334\n",
      "Epoch 97/150\n",
      "100/100 [==============================] - 6s 63ms/step - loss: -204242608.0000 - accuracy: 0.3340 - val_loss: -75649664.0000 - val_accuracy: 0.3334\n",
      "Epoch 98/150\n",
      "100/100 [==============================] - 6s 63ms/step - loss: -206949072.0000 - accuracy: 0.3340 - val_loss: -76708688.0000 - val_accuracy: 0.3334\n",
      "Epoch 99/150\n",
      "100/100 [==============================] - 6s 63ms/step - loss: -209328976.0000 - accuracy: 0.3340 - val_loss: -77132088.0000 - val_accuracy: 0.3334\n",
      "Epoch 100/150\n",
      "100/100 [==============================] - 6s 63ms/step - loss: -209726112.0000 - accuracy: 0.3340 - val_loss: -77315064.0000 - val_accuracy: 0.3334\n",
      "Epoch 101/150\n",
      "100/100 [==============================] - 6s 63ms/step - loss: -214218224.0000 - accuracy: 0.3340 - val_loss: -77902120.0000 - val_accuracy: 0.3334\n",
      "Epoch 102/150\n"
     ]
    },
    {
     "name": "stdout",
     "output_type": "stream",
     "text": [
      "100/100 [==============================] - 6s 63ms/step - loss: -215925472.0000 - accuracy: 0.3340 - val_loss: -78714792.0000 - val_accuracy: 0.3334\n",
      "Epoch 103/150\n",
      "100/100 [==============================] - 6s 62ms/step - loss: -219035648.0000 - accuracy: 0.3340 - val_loss: -79086032.0000 - val_accuracy: 0.3334\n",
      "Epoch 104/150\n",
      "100/100 [==============================] - 6s 62ms/step - loss: -220798336.0000 - accuracy: 0.3340 - val_loss: -79935104.0000 - val_accuracy: 0.3334\n",
      "Epoch 105/150\n",
      "100/100 [==============================] - 6s 63ms/step - loss: -223129712.0000 - accuracy: 0.3340 - val_loss: -81324408.0000 - val_accuracy: 0.3334\n",
      "Epoch 106/150\n",
      "100/100 [==============================] - 6s 63ms/step - loss: -225327152.0000 - accuracy: 0.3340 - val_loss: -80771968.0000 - val_accuracy: 0.3334\n",
      "Epoch 107/150\n",
      "100/100 [==============================] - 6s 63ms/step - loss: -228720272.0000 - accuracy: 0.3340 - val_loss: -81543808.0000 - val_accuracy: 0.3334\n",
      "Epoch 108/150\n",
      "100/100 [==============================] - 6s 63ms/step - loss: -231374352.0000 - accuracy: 0.3340 - val_loss: -82365424.0000 - val_accuracy: 0.3334\n",
      "Epoch 109/150\n",
      "100/100 [==============================] - 6s 63ms/step - loss: -232768176.0000 - accuracy: 0.3340 - val_loss: -83442400.0000 - val_accuracy: 0.3334\n",
      "Epoch 110/150\n",
      "100/100 [==============================] - 6s 64ms/step - loss: -236486544.0000 - accuracy: 0.3340 - val_loss: -83311160.0000 - val_accuracy: 0.3334\n",
      "Epoch 111/150\n",
      "100/100 [==============================] - 6s 64ms/step - loss: -237914400.0000 - accuracy: 0.3340 - val_loss: -83818040.0000 - val_accuracy: 0.3334\n",
      "Epoch 112/150\n",
      "100/100 [==============================] - 6s 62ms/step - loss: -241340624.0000 - accuracy: 0.3340 - val_loss: -84420120.0000 - val_accuracy: 0.3334\n",
      "Epoch 113/150\n",
      "100/100 [==============================] - 6s 63ms/step - loss: -243692128.0000 - accuracy: 0.3340 - val_loss: -85442064.0000 - val_accuracy: 0.3334\n",
      "Epoch 114/150\n",
      "100/100 [==============================] - 6s 63ms/step - loss: -246642112.0000 - accuracy: 0.3340 - val_loss: -85923408.0000 - val_accuracy: 0.3334\n",
      "Epoch 115/150\n",
      "100/100 [==============================] - 6s 62ms/step - loss: -249409440.0000 - accuracy: 0.3340 - val_loss: -86356176.0000 - val_accuracy: 0.3334\n",
      "Epoch 116/150\n",
      "100/100 [==============================] - 6s 63ms/step - loss: -251181760.0000 - accuracy: 0.3340 - val_loss: -87155344.0000 - val_accuracy: 0.3334\n",
      "Epoch 117/150\n",
      "100/100 [==============================] - 6s 63ms/step - loss: -253990816.0000 - accuracy: 0.3340 - val_loss: -87856048.0000 - val_accuracy: 0.3334\n",
      "Epoch 118/150\n",
      "100/100 [==============================] - 6s 63ms/step - loss: -256759568.0000 - accuracy: 0.3340 - val_loss: -88810624.0000 - val_accuracy: 0.3334\n",
      "Epoch 119/150\n",
      "100/100 [==============================] - 6s 63ms/step - loss: -259663120.0000 - accuracy: 0.3340 - val_loss: -89021448.0000 - val_accuracy: 0.3334\n",
      "Epoch 120/150\n",
      "100/100 [==============================] - 6s 63ms/step - loss: -261677904.0000 - accuracy: 0.3340 - val_loss: -89972616.0000 - val_accuracy: 0.3334\n",
      "Epoch 121/150\n",
      "100/100 [==============================] - 6s 63ms/step - loss: -264023280.0000 - accuracy: 0.3340 - val_loss: -90421208.0000 - val_accuracy: 0.3334\n",
      "Epoch 122/150\n",
      "100/100 [==============================] - 6s 63ms/step - loss: -267250192.0000 - accuracy: 0.3340 - val_loss: -91292120.0000 - val_accuracy: 0.3334\n",
      "Epoch 123/150\n",
      "100/100 [==============================] - 6s 63ms/step - loss: -269655584.0000 - accuracy: 0.3340 - val_loss: -91818760.0000 - val_accuracy: 0.3334\n",
      "Epoch 124/150\n",
      "100/100 [==============================] - 6s 63ms/step - loss: -273646400.0000 - accuracy: 0.3340 - val_loss: -92664936.0000 - val_accuracy: 0.3334\n",
      "Epoch 125/150\n",
      "100/100 [==============================] - 6s 63ms/step - loss: -276267840.0000 - accuracy: 0.3340 - val_loss: -93405656.0000 - val_accuracy: 0.3334\n",
      "Epoch 126/150\n",
      "100/100 [==============================] - 6s 63ms/step - loss: -278715552.0000 - accuracy: 0.3340 - val_loss: -94431568.0000 - val_accuracy: 0.3334\n",
      "Epoch 127/150\n",
      "100/100 [==============================] - 6s 62ms/step - loss: -281068160.0000 - accuracy: 0.3340 - val_loss: -94449104.0000 - val_accuracy: 0.3334\n",
      "Epoch 128/150\n",
      "100/100 [==============================] - 6s 63ms/step - loss: -284182112.0000 - accuracy: 0.3340 - val_loss: -95259520.0000 - val_accuracy: 0.3334\n",
      "Epoch 129/150\n",
      "100/100 [==============================] - 6s 63ms/step - loss: -287565920.0000 - accuracy: 0.3340 - val_loss: -96272752.0000 - val_accuracy: 0.3334\n",
      "Epoch 130/150\n",
      "100/100 [==============================] - 6s 63ms/step - loss: -285916576.0000 - accuracy: 0.3340 - val_loss: -96318080.0000 - val_accuracy: 0.3334\n",
      "Epoch 131/150\n",
      "100/100 [==============================] - 6s 64ms/step - loss: -290760096.0000 - accuracy: 0.3340 - val_loss: -97824744.0000 - val_accuracy: 0.3334\n",
      "Epoch 132/150\n",
      "100/100 [==============================] - 6s 63ms/step - loss: -296143616.0000 - accuracy: 0.3340 - val_loss: -97981488.0000 - val_accuracy: 0.3334\n",
      "Epoch 133/150\n",
      "100/100 [==============================] - 6s 63ms/step - loss: -297872992.0000 - accuracy: 0.3340 - val_loss: -98829848.0000 - val_accuracy: 0.3334\n",
      "Epoch 134/150\n",
      "100/100 [==============================] - 6s 63ms/step - loss: -301447072.0000 - accuracy: 0.3340 - val_loss: -99784256.0000 - val_accuracy: 0.3334\n",
      "Epoch 135/150\n",
      "100/100 [==============================] - 6s 64ms/step - loss: -304721280.0000 - accuracy: 0.3340 - val_loss: -100480408.0000 - val_accuracy: 0.3334\n",
      "Epoch 136/150\n",
      "100/100 [==============================] - 6s 63ms/step - loss: -307235296.0000 - accuracy: 0.3340 - val_loss: -101913248.0000 - val_accuracy: 0.3334\n",
      "Epoch 137/150\n",
      "100/100 [==============================] - 6s 63ms/step - loss: -310000736.0000 - accuracy: 0.3340 - val_loss: -101871816.0000 - val_accuracy: 0.3334\n",
      "Epoch 138/150\n",
      "100/100 [==============================] - 6s 63ms/step - loss: -313620448.0000 - accuracy: 0.3340 - val_loss: -102836160.0000 - val_accuracy: 0.3334\n",
      "Epoch 139/150\n",
      "100/100 [==============================] - 6s 63ms/step - loss: -314054528.0000 - accuracy: 0.3340 - val_loss: -103500880.0000 - val_accuracy: 0.3334\n",
      "Epoch 140/150\n",
      "100/100 [==============================] - 6s 63ms/step - loss: -318742112.0000 - accuracy: 0.3340 - val_loss: -103867464.0000 - val_accuracy: 0.3334\n",
      "Epoch 141/150\n",
      "100/100 [==============================] - 6s 63ms/step - loss: -322893696.0000 - accuracy: 0.3340 - val_loss: -104983168.0000 - val_accuracy: 0.3334\n",
      "Epoch 142/150\n",
      "100/100 [==============================] - 6s 62ms/step - loss: -324460480.0000 - accuracy: 0.3340 - val_loss: -105173152.0000 - val_accuracy: 0.3334\n",
      "Epoch 143/150\n",
      "100/100 [==============================] - 6s 63ms/step - loss: -328857600.0000 - accuracy: 0.3340 - val_loss: -106629888.0000 - val_accuracy: 0.3334\n",
      "Epoch 144/150\n",
      "100/100 [==============================] - 6s 63ms/step - loss: -330438816.0000 - accuracy: 0.3340 - val_loss: -107064088.0000 - val_accuracy: 0.3334\n",
      "Epoch 145/150\n",
      "100/100 [==============================] - 6s 63ms/step - loss: -333353664.0000 - accuracy: 0.3340 - val_loss: -108373024.0000 - val_accuracy: 0.3334\n",
      "Epoch 146/150\n",
      "100/100 [==============================] - 6s 63ms/step - loss: -336460032.0000 - accuracy: 0.3340 - val_loss: -109757688.0000 - val_accuracy: 0.3334\n",
      "Epoch 147/150\n",
      "100/100 [==============================] - 6s 63ms/step - loss: -337893728.0000 - accuracy: 0.3340 - val_loss: -111044584.0000 - val_accuracy: 0.3334\n",
      "Epoch 148/150\n",
      "100/100 [==============================] - 6s 63ms/step - loss: -341916736.0000 - accuracy: 0.3340 - val_loss: -110767904.0000 - val_accuracy: 0.3334\n",
      "Epoch 149/150\n",
      "100/100 [==============================] - 6s 63ms/step - loss: -345324512.0000 - accuracy: 0.3340 - val_loss: -111314712.0000 - val_accuracy: 0.3334\n",
      "Epoch 150/150\n",
      "100/100 [==============================] - 6s 63ms/step - loss: -348716704.0000 - accuracy: 0.3340 - val_loss: -112388264.0000 - val_accuracy: 0.3334\n"
     ]
    },
    {
     "data": {
      "text/plain": [
       "<keras.callbacks.History at 0x2808d5b59e8>"
      ]
     },
     "execution_count": 51,
     "metadata": {},
     "output_type": "execute_result"
    }
   ],
   "source": [
    "model.fit(x_train[:5000], y_train[:5000], batch_size=50, epochs=150, validation_data=(x_test, y_test))"
   ]
  },
  {
   "cell_type": "code",
   "execution_count": 52,
   "id": "7fab6915",
   "metadata": {},
   "outputs": [],
   "source": [
    "model.save('ANN.h5')"
   ]
  },
  {
   "cell_type": "code",
   "execution_count": null,
   "id": "d05b99a8",
   "metadata": {},
   "outputs": [],
   "source": []
  },
  {
   "cell_type": "markdown",
   "id": "991b7d1b",
   "metadata": {},
   "source": [
    "### Predictions"
   ]
  },
  {
   "cell_type": "code",
   "execution_count": null,
   "id": "fb34384c",
   "metadata": {},
   "outputs": [],
   "source": [
    "ex = [[1,0.7,0.538,0.01,2008.0,2008.0,1,0,52,1855,49,23,85]]"
   ]
  },
  {
   "cell_type": "code",
   "execution_count": null,
   "id": "990814c2",
   "metadata": {},
   "outputs": [],
   "source": [
    "model.predict(ex)"
   ]
  },
  {
   "cell_type": "code",
   "execution_count": null,
   "id": "0659f45f",
   "metadata": {},
   "outputs": [],
   "source": [
    "val = pd.DataFrame(ex,columns= X.columns)\n",
    "val"
   ]
  },
  {
   "cell_type": "code",
   "execution_count": null,
   "id": "2f363541",
   "metadata": {},
   "outputs": [],
   "source": [
    "model1.predict(val)"
   ]
  },
  {
   "cell_type": "code",
   "execution_count": null,
   "id": "f788c70d",
   "metadata": {},
   "outputs": [],
   "source": [
    "model2.predict(ex)"
   ]
  },
  {
   "cell_type": "code",
   "execution_count": null,
   "id": "a3b76491",
   "metadata": {},
   "outputs": [],
   "source": [
    "ex1 = [[1,0.7,0.538,0.01,2008.0,2008.0,1,0,52,1855,49,3,859]]"
   ]
  },
  {
   "cell_type": "code",
   "execution_count": null,
   "id": "9bfd801c",
   "metadata": {},
   "outputs": [],
   "source": [
    "model2.predict(ex1)"
   ]
  },
  {
   "cell_type": "code",
   "execution_count": null,
   "id": "3fd41155",
   "metadata": {},
   "outputs": [],
   "source": [
    "val1 = pd.DataFrame(ex,columns = X.columns)"
   ]
  },
  {
   "cell_type": "code",
   "execution_count": null,
   "id": "f1ff5a15",
   "metadata": {},
   "outputs": [],
   "source": [
    "model1.predict(val1)"
   ]
  },
  {
   "cell_type": "code",
   "execution_count": null,
   "id": "e5bb0ec2",
   "metadata": {},
   "outputs": [],
   "source": [
    "model.predict(ex1)"
   ]
  },
  {
   "cell_type": "code",
   "execution_count": null,
   "id": "fb6c0d19",
   "metadata": {
    "scrolled": true
   },
   "outputs": [],
   "source": [
    "x_test[10:20]"
   ]
  },
  {
   "cell_type": "code",
   "execution_count": null,
   "id": "7d31e658",
   "metadata": {},
   "outputs": [],
   "source": [
    "y_test[10:20]"
   ]
  },
  {
   "cell_type": "code",
   "execution_count": null,
   "id": "bb7bccfe",
   "metadata": {},
   "outputs": [],
   "source": [
    "p = [[6524,0.499,0.769,0.01,2018.0,2018.0,1,17605,464,20458,73,23,0]]"
   ]
  },
  {
   "cell_type": "code",
   "execution_count": null,
   "id": "29649b3b",
   "metadata": {},
   "outputs": [],
   "source": [
    "model.predict(p)"
   ]
  },
  {
   "cell_type": "code",
   "execution_count": null,
   "id": "cb7eabf0",
   "metadata": {},
   "outputs": [],
   "source": [
    "p1 = [[4038,0.568,0.692,0.10,2013.0,2017.0,0,10315,5467,27685,49,15,850]]"
   ]
  },
  {
   "cell_type": "code",
   "execution_count": null,
   "id": "6d8bc8a5",
   "metadata": {},
   "outputs": [],
   "source": [
    "model.predict(p1)"
   ]
  },
  {
   "cell_type": "code",
   "execution_count": null,
   "id": "64f80ae7",
   "metadata": {},
   "outputs": [],
   "source": [
    "p3 = [[6558,0.552,0.808,0.03,2010.0,2019.0,3,17303,2898,6027,212,11,0]]"
   ]
  },
  {
   "cell_type": "code",
   "execution_count": null,
   "id": "e36825da",
   "metadata": {},
   "outputs": [],
   "source": [
    "model.predict(p3)"
   ]
  },
  {
   "cell_type": "code",
   "execution_count": null,
   "id": "6746a721",
   "metadata": {},
   "outputs": [],
   "source": []
  }
 ],
 "metadata": {
  "kernelspec": {
   "display_name": "Python 3",
   "language": "python",
   "name": "python3"
  },
  "language_info": {
   "codemirror_mode": {
    "name": "ipython",
    "version": 3
   },
   "file_extension": ".py",
   "mimetype": "text/x-python",
   "name": "python",
   "nbconvert_exporter": "python",
   "pygments_lexer": "ipython3",
   "version": "3.6.8"
  }
 },
 "nbformat": 4,
 "nbformat_minor": 5
}
