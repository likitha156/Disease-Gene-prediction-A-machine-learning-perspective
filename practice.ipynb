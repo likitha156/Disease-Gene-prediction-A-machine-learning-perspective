{
 "cells": [
  {
   "cell_type": "code",
   "execution_count": 2,
   "metadata": {},
   "outputs": [],
   "source": [
    "import pandas as pd\n",
    "import numpy as np\n",
    "import seaborn as sns\n",
    "import matplotlib.pyplot as plt\n",
    "from sklearn.model_selection import train_test_split\n",
    "from sklearn.ensemble import RandomForestClassifier\n",
    "from sklearn.preprocessing import LabelEncoder\n",
    "from sklearn.metrics import accuracy_score, precision_score,recall_score,f1_score,classification_report, confusion_matrix\n",
    "from scipy.linalg import pinv\n",
    "from sklearn.preprocessing import MinMaxScaler\n",
    "from sklearn.preprocessing import StandardScaler, OneHotEncoder\n",
    "from sklearn.svm import SVC\n",
    "from sklearn.metrics import roc_auc_score\n",
    "from sklearn.metrics import roc_curve"
   ]
  },
  {
   "cell_type": "code",
   "execution_count": 3,
   "metadata": {},
   "outputs": [],
   "source": [
    "df = pd.read_csv('data.tsv',sep='\\t')"
   ]
  },
  {
   "cell_type": "code",
   "execution_count": 4,
   "metadata": {},
   "outputs": [
    {
     "data": {
      "text/html": [
       "<div>\n",
       "<style scoped>\n",
       "    .dataframe tbody tr th:only-of-type {\n",
       "        vertical-align: middle;\n",
       "    }\n",
       "\n",
       "    .dataframe tbody tr th {\n",
       "        vertical-align: top;\n",
       "    }\n",
       "\n",
       "    .dataframe thead th {\n",
       "        text-align: right;\n",
       "    }\n",
       "</style>\n",
       "<table border=\"1\" class=\"dataframe\">\n",
       "  <thead>\n",
       "    <tr style=\"text-align: right;\">\n",
       "      <th></th>\n",
       "      <th>geneId</th>\n",
       "      <th>geneSymbol</th>\n",
       "      <th>DSI</th>\n",
       "      <th>DPI</th>\n",
       "      <th>diseaseId</th>\n",
       "      <th>diseaseName</th>\n",
       "      <th>diseaseType</th>\n",
       "      <th>diseaseClass</th>\n",
       "      <th>diseaseSemanticType</th>\n",
       "      <th>score</th>\n",
       "      <th>EI</th>\n",
       "      <th>YearInitial</th>\n",
       "      <th>YearFinal</th>\n",
       "      <th>NofPmids</th>\n",
       "      <th>NofSnps</th>\n",
       "      <th>source</th>\n",
       "    </tr>\n",
       "  </thead>\n",
       "  <tbody>\n",
       "    <tr>\n",
       "      <th>0</th>\n",
       "      <td>1</td>\n",
       "      <td>A1BG</td>\n",
       "      <td>0.7</td>\n",
       "      <td>0.538</td>\n",
       "      <td>C0001418</td>\n",
       "      <td>Adenocarcinoma</td>\n",
       "      <td>group</td>\n",
       "      <td>C04</td>\n",
       "      <td>Neoplastic Process</td>\n",
       "      <td>0.01</td>\n",
       "      <td>1.0</td>\n",
       "      <td>2008.0</td>\n",
       "      <td>2008.0</td>\n",
       "      <td>1</td>\n",
       "      <td>0</td>\n",
       "      <td>LHGDN</td>\n",
       "    </tr>\n",
       "    <tr>\n",
       "      <th>1</th>\n",
       "      <td>1</td>\n",
       "      <td>A1BG</td>\n",
       "      <td>0.7</td>\n",
       "      <td>0.538</td>\n",
       "      <td>C0002736</td>\n",
       "      <td>Amyotrophic Lateral Sclerosis</td>\n",
       "      <td>disease</td>\n",
       "      <td>C18;C10</td>\n",
       "      <td>Disease or Syndrome</td>\n",
       "      <td>0.01</td>\n",
       "      <td>1.0</td>\n",
       "      <td>2008.0</td>\n",
       "      <td>2008.0</td>\n",
       "      <td>1</td>\n",
       "      <td>0</td>\n",
       "      <td>BEFREE</td>\n",
       "    </tr>\n",
       "    <tr>\n",
       "      <th>2</th>\n",
       "      <td>1</td>\n",
       "      <td>A1BG</td>\n",
       "      <td>0.7</td>\n",
       "      <td>0.538</td>\n",
       "      <td>C0003578</td>\n",
       "      <td>Apnea</td>\n",
       "      <td>phenotype</td>\n",
       "      <td>C23;C08</td>\n",
       "      <td>Sign or Symptom</td>\n",
       "      <td>0.01</td>\n",
       "      <td>1.0</td>\n",
       "      <td>2017.0</td>\n",
       "      <td>2017.0</td>\n",
       "      <td>1</td>\n",
       "      <td>0</td>\n",
       "      <td>BEFREE</td>\n",
       "    </tr>\n",
       "    <tr>\n",
       "      <th>3</th>\n",
       "      <td>1</td>\n",
       "      <td>A1BG</td>\n",
       "      <td>0.7</td>\n",
       "      <td>0.538</td>\n",
       "      <td>C0003864</td>\n",
       "      <td>Arthritis</td>\n",
       "      <td>disease</td>\n",
       "      <td>C05</td>\n",
       "      <td>Disease or Syndrome</td>\n",
       "      <td>0.01</td>\n",
       "      <td>1.0</td>\n",
       "      <td>2019.0</td>\n",
       "      <td>2019.0</td>\n",
       "      <td>1</td>\n",
       "      <td>0</td>\n",
       "      <td>BEFREE</td>\n",
       "    </tr>\n",
       "    <tr>\n",
       "      <th>4</th>\n",
       "      <td>1</td>\n",
       "      <td>A1BG</td>\n",
       "      <td>0.7</td>\n",
       "      <td>0.538</td>\n",
       "      <td>C0008373</td>\n",
       "      <td>Cholesteatoma</td>\n",
       "      <td>disease</td>\n",
       "      <td>C17</td>\n",
       "      <td>Disease or Syndrome</td>\n",
       "      <td>0.01</td>\n",
       "      <td>1.0</td>\n",
       "      <td>2020.0</td>\n",
       "      <td>2020.0</td>\n",
       "      <td>1</td>\n",
       "      <td>0</td>\n",
       "      <td>BEFREE</td>\n",
       "    </tr>\n",
       "  </tbody>\n",
       "</table>\n",
       "</div>"
      ],
      "text/plain": [
       "   geneId geneSymbol  DSI    DPI diseaseId                    diseaseName  \\\n",
       "0       1       A1BG  0.7  0.538  C0001418                 Adenocarcinoma   \n",
       "1       1       A1BG  0.7  0.538  C0002736  Amyotrophic Lateral Sclerosis   \n",
       "2       1       A1BG  0.7  0.538  C0003578                          Apnea   \n",
       "3       1       A1BG  0.7  0.538  C0003864                      Arthritis   \n",
       "4       1       A1BG  0.7  0.538  C0008373                  Cholesteatoma   \n",
       "\n",
       "  diseaseType diseaseClass  diseaseSemanticType  score   EI  YearInitial  \\\n",
       "0       group          C04   Neoplastic Process   0.01  1.0       2008.0   \n",
       "1     disease      C18;C10  Disease or Syndrome   0.01  1.0       2008.0   \n",
       "2   phenotype      C23;C08      Sign or Symptom   0.01  1.0       2017.0   \n",
       "3     disease          C05  Disease or Syndrome   0.01  1.0       2019.0   \n",
       "4     disease          C17  Disease or Syndrome   0.01  1.0       2020.0   \n",
       "\n",
       "   YearFinal  NofPmids  NofSnps  source  \n",
       "0     2008.0         1        0   LHGDN  \n",
       "1     2008.0         1        0  BEFREE  \n",
       "2     2017.0         1        0  BEFREE  \n",
       "3     2019.0         1        0  BEFREE  \n",
       "4     2020.0         1        0  BEFREE  "
      ]
     },
     "execution_count": 4,
     "metadata": {},
     "output_type": "execute_result"
    }
   ],
   "source": [
    "df.head()"
   ]
  },
  {
   "cell_type": "code",
   "execution_count": 5,
   "metadata": {},
   "outputs": [
    {
     "data": {
      "text/plain": [
       "array(['group', 'disease', 'phenotype'], dtype=object)"
      ]
     },
     "execution_count": 5,
     "metadata": {},
     "output_type": "execute_result"
    }
   ],
   "source": [
    "df['diseaseType'].unique()"
   ]
  },
  {
   "cell_type": "code",
   "execution_count": 6,
   "metadata": {},
   "outputs": [
    {
     "name": "stdout",
     "output_type": "stream",
     "text": [
      "<class 'pandas.core.frame.DataFrame'>\n",
      "RangeIndex: 1134942 entries, 0 to 1134941\n",
      "Data columns (total 16 columns):\n",
      " #   Column               Non-Null Count    Dtype  \n",
      "---  ------               --------------    -----  \n",
      " 0   geneId               1134942 non-null  int64  \n",
      " 1   geneSymbol           1134942 non-null  object \n",
      " 2   DSI                  1132358 non-null  float64\n",
      " 3   DPI                  1132060 non-null  float64\n",
      " 4   diseaseId            1134942 non-null  object \n",
      " 5   diseaseName          1134942 non-null  object \n",
      " 6   diseaseType          1134942 non-null  object \n",
      " 7   diseaseClass         978539 non-null   object \n",
      " 8   diseaseSemanticType  1134942 non-null  object \n",
      " 9   score                1134942 non-null  float64\n",
      " 10  EI                   967968 non-null   float64\n",
      " 11  YearInitial          967968 non-null   float64\n",
      " 12  YearFinal            967968 non-null   float64\n",
      " 13  NofPmids             1134942 non-null  int64  \n",
      " 14  NofSnps              1134942 non-null  int64  \n",
      " 15  source               1134942 non-null  object \n",
      "dtypes: float64(6), int64(3), object(7)\n",
      "memory usage: 138.5+ MB\n"
     ]
    }
   ],
   "source": [
    "df.info()"
   ]
  },
  {
   "cell_type": "code",
   "execution_count": 7,
   "metadata": {},
   "outputs": [],
   "source": [
    "num_var = df.select_dtypes(exclude='object')"
   ]
  },
  {
   "cell_type": "code",
   "execution_count": 8,
   "metadata": {},
   "outputs": [],
   "source": [
    "num_var.fillna(num_var.median(),inplace = True)"
   ]
  },
  {
   "cell_type": "code",
   "execution_count": 9,
   "metadata": {},
   "outputs": [],
   "source": [
    "cat_var = df.select_dtypes(include='object')"
   ]
  },
  {
   "cell_type": "code",
   "execution_count": 10,
   "metadata": {},
   "outputs": [],
   "source": [
    "cat_var = cat_var.apply(lambda x: x.fillna(x.value_counts().index[0]))"
   ]
  },
  {
   "cell_type": "code",
   "execution_count": 13,
   "metadata": {},
   "outputs": [
    {
     "data": {
      "text/html": [
       "<div>\n",
       "<style scoped>\n",
       "    .dataframe tbody tr th:only-of-type {\n",
       "        vertical-align: middle;\n",
       "    }\n",
       "\n",
       "    .dataframe tbody tr th {\n",
       "        vertical-align: top;\n",
       "    }\n",
       "\n",
       "    .dataframe thead th {\n",
       "        text-align: right;\n",
       "    }\n",
       "</style>\n",
       "<table border=\"1\" class=\"dataframe\">\n",
       "  <thead>\n",
       "    <tr style=\"text-align: right;\">\n",
       "      <th></th>\n",
       "      <th>geneSymbol</th>\n",
       "      <th>diseaseId</th>\n",
       "      <th>diseaseName</th>\n",
       "      <th>diseaseType</th>\n",
       "      <th>diseaseClass</th>\n",
       "      <th>diseaseSemanticType</th>\n",
       "      <th>source</th>\n",
       "    </tr>\n",
       "  </thead>\n",
       "  <tbody>\n",
       "    <tr>\n",
       "      <th>0</th>\n",
       "      <td>A1BG</td>\n",
       "      <td>C0001418</td>\n",
       "      <td>Adenocarcinoma</td>\n",
       "      <td>group</td>\n",
       "      <td>C04</td>\n",
       "      <td>Neoplastic Process</td>\n",
       "      <td>LHGDN</td>\n",
       "    </tr>\n",
       "    <tr>\n",
       "      <th>1</th>\n",
       "      <td>A1BG</td>\n",
       "      <td>C0002736</td>\n",
       "      <td>Amyotrophic Lateral Sclerosis</td>\n",
       "      <td>disease</td>\n",
       "      <td>C18;C10</td>\n",
       "      <td>Disease or Syndrome</td>\n",
       "      <td>BEFREE</td>\n",
       "    </tr>\n",
       "    <tr>\n",
       "      <th>2</th>\n",
       "      <td>A1BG</td>\n",
       "      <td>C0003578</td>\n",
       "      <td>Apnea</td>\n",
       "      <td>phenotype</td>\n",
       "      <td>C23;C08</td>\n",
       "      <td>Sign or Symptom</td>\n",
       "      <td>BEFREE</td>\n",
       "    </tr>\n",
       "    <tr>\n",
       "      <th>3</th>\n",
       "      <td>A1BG</td>\n",
       "      <td>C0003864</td>\n",
       "      <td>Arthritis</td>\n",
       "      <td>disease</td>\n",
       "      <td>C05</td>\n",
       "      <td>Disease or Syndrome</td>\n",
       "      <td>BEFREE</td>\n",
       "    </tr>\n",
       "    <tr>\n",
       "      <th>4</th>\n",
       "      <td>A1BG</td>\n",
       "      <td>C0008373</td>\n",
       "      <td>Cholesteatoma</td>\n",
       "      <td>disease</td>\n",
       "      <td>C17</td>\n",
       "      <td>Disease or Syndrome</td>\n",
       "      <td>BEFREE</td>\n",
       "    </tr>\n",
       "    <tr>\n",
       "      <th>...</th>\n",
       "      <td>...</td>\n",
       "      <td>...</td>\n",
       "      <td>...</td>\n",
       "      <td>...</td>\n",
       "      <td>...</td>\n",
       "      <td>...</td>\n",
       "      <td>...</td>\n",
       "    </tr>\n",
       "    <tr>\n",
       "      <th>1134937</th>\n",
       "      <td>CEROX1</td>\n",
       "      <td>C0005890</td>\n",
       "      <td>Body Height</td>\n",
       "      <td>phenotype</td>\n",
       "      <td>C04</td>\n",
       "      <td>Organism Attribute</td>\n",
       "      <td>GWASCAT</td>\n",
       "    </tr>\n",
       "    <tr>\n",
       "      <th>1134938</th>\n",
       "      <td>MIR223HG</td>\n",
       "      <td>C0023418</td>\n",
       "      <td>leukemia</td>\n",
       "      <td>disease</td>\n",
       "      <td>C04</td>\n",
       "      <td>Neoplastic Process</td>\n",
       "      <td>BEFREE</td>\n",
       "    </tr>\n",
       "    <tr>\n",
       "      <th>1134939</th>\n",
       "      <td>MIR223HG</td>\n",
       "      <td>C0023467</td>\n",
       "      <td>Leukemia, Myelocytic, Acute</td>\n",
       "      <td>disease</td>\n",
       "      <td>C04</td>\n",
       "      <td>Neoplastic Process</td>\n",
       "      <td>BEFREE</td>\n",
       "    </tr>\n",
       "    <tr>\n",
       "      <th>1134940</th>\n",
       "      <td>MIR223HG</td>\n",
       "      <td>C0598766</td>\n",
       "      <td>Leukemogenesis</td>\n",
       "      <td>disease</td>\n",
       "      <td>C23;C04</td>\n",
       "      <td>Neoplastic Process</td>\n",
       "      <td>BEFREE</td>\n",
       "    </tr>\n",
       "    <tr>\n",
       "      <th>1134941</th>\n",
       "      <td>MIR223HG</td>\n",
       "      <td>C1332977</td>\n",
       "      <td>Childhood Leukemia</td>\n",
       "      <td>disease</td>\n",
       "      <td>C04</td>\n",
       "      <td>Neoplastic Process</td>\n",
       "      <td>BEFREE</td>\n",
       "    </tr>\n",
       "  </tbody>\n",
       "</table>\n",
       "<p>1134942 rows × 7 columns</p>\n",
       "</div>"
      ],
      "text/plain": [
       "        geneSymbol diseaseId                    diseaseName diseaseType  \\\n",
       "0             A1BG  C0001418                 Adenocarcinoma       group   \n",
       "1             A1BG  C0002736  Amyotrophic Lateral Sclerosis     disease   \n",
       "2             A1BG  C0003578                          Apnea   phenotype   \n",
       "3             A1BG  C0003864                      Arthritis     disease   \n",
       "4             A1BG  C0008373                  Cholesteatoma     disease   \n",
       "...            ...       ...                            ...         ...   \n",
       "1134937     CEROX1  C0005890                    Body Height   phenotype   \n",
       "1134938   MIR223HG  C0023418                       leukemia     disease   \n",
       "1134939   MIR223HG  C0023467    Leukemia, Myelocytic, Acute     disease   \n",
       "1134940   MIR223HG  C0598766                 Leukemogenesis     disease   \n",
       "1134941   MIR223HG  C1332977             Childhood Leukemia     disease   \n",
       "\n",
       "        diseaseClass  diseaseSemanticType   source  \n",
       "0                C04   Neoplastic Process    LHGDN  \n",
       "1            C18;C10  Disease or Syndrome   BEFREE  \n",
       "2            C23;C08      Sign or Symptom   BEFREE  \n",
       "3                C05  Disease or Syndrome   BEFREE  \n",
       "4                C17  Disease or Syndrome   BEFREE  \n",
       "...              ...                  ...      ...  \n",
       "1134937          C04   Organism Attribute  GWASCAT  \n",
       "1134938          C04   Neoplastic Process   BEFREE  \n",
       "1134939          C04   Neoplastic Process   BEFREE  \n",
       "1134940      C23;C04   Neoplastic Process   BEFREE  \n",
       "1134941          C04   Neoplastic Process   BEFREE  \n",
       "\n",
       "[1134942 rows x 7 columns]"
      ]
     },
     "execution_count": 13,
     "metadata": {},
     "output_type": "execute_result"
    }
   ],
   "source": [
    "cat_var"
   ]
  },
  {
   "cell_type": "code",
   "execution_count": 24,
   "metadata": {},
   "outputs": [
    {
     "data": {
      "text/plain": [
       "source\n",
       "BEFREE                                        789377\n",
       "HPO                                           148643\n",
       "CTD_human                                      44786\n",
       "GWASCAT                                        34270\n",
       "CLINVAR                                        14326\n",
       "                                               ...  \n",
       "BEFREE;CLINGEN;CLINVAR;MGD                         1\n",
       "CGI;GENOMICS_ENGLAND;LHGDN                         1\n",
       "BEFREE;CLINGEN;CLINVAR;HPO                         1\n",
       "BEFREE;CGI;CLINVAR;CTD_human;HPO;LHGDN;RGD         1\n",
       "BEFREE;CLINGEN;LHGDN;ORPHANET                      1\n",
       "Name: count, Length: 878, dtype: int64"
      ]
     },
     "execution_count": 24,
     "metadata": {},
     "output_type": "execute_result"
    }
   ],
   "source": [
    "cat_var.source.value_counts()"
   ]
  },
  {
   "cell_type": "code",
   "execution_count": 25,
   "metadata": {},
   "outputs": [
    {
     "data": {
      "text/plain": [
       "878"
      ]
     },
     "execution_count": 25,
     "metadata": {},
     "output_type": "execute_result"
    }
   ],
   "source": [
    "cat_var.source.nunique()"
   ]
  },
  {
   "cell_type": "code",
   "execution_count": 22,
   "metadata": {},
   "outputs": [
    {
     "data": {
      "text/plain": [
       "diseaseSemanticType\n",
       "Disease or Syndrome                                    439266\n",
       "Neoplastic Process                                     426243\n",
       "Finding                                                 74835\n",
       "Mental or Behavioral Dysfunction                        55095\n",
       "Congenital Abnormality                                  42736\n",
       "Sign or Symptom                                         32147\n",
       "Anatomical Abnormality                                  12984\n",
       "Pathologic Function                                     12874\n",
       "Laboratory Procedure                                    12329\n",
       "Acquired Abnormality                                     5761\n",
       "Clinical Attribute                                       3408\n",
       "Organism Attribute                                       3159\n",
       "Experimental Model of Disease                            1957\n",
       "Injury or Poisoning                                      1802\n",
       "Mental Process                                           1735\n",
       "Laboratory or Test Result                                1734\n",
       "Neoplastic Process; Experimental Model of Disease        1342\n",
       "Diagnostic Procedure                                     1218\n",
       "Individual Behavior                                      1191\n",
       "Disease or Syndrome; Congenital Abnormality              1134\n",
       "Cell or Molecular Dysfunction                             698\n",
       "Organ or Tissue Function                                  640\n",
       "Organism Function                                         332\n",
       "Cell Function                                              79\n",
       "Body Substance                                             61\n",
       "Cell Component                                             52\n",
       "Temporal Concept                                           48\n",
       "Molecular Function                                         45\n",
       "Disease or Syndrome; Anatomical Abnormality                16\n",
       "Physiologic Function                                        9\n",
       "Social Behavior                                             9\n",
       "Classification                                              2\n",
       "Amino Acid, Peptide, or Protein; Immunologic Factor         1\n",
       "Name: count, dtype: int64"
      ]
     },
     "execution_count": 22,
     "metadata": {},
     "output_type": "execute_result"
    }
   ],
   "source": [
    "cat_var.diseaseSemanticType.value_counts()"
   ]
  },
  {
   "cell_type": "code",
   "execution_count": 23,
   "metadata": {},
   "outputs": [
    {
     "data": {
      "text/plain": [
       "33"
      ]
     },
     "execution_count": 23,
     "metadata": {},
     "output_type": "execute_result"
    }
   ],
   "source": [
    "cat_var.diseaseSemanticType.nunique()"
   ]
  },
  {
   "cell_type": "code",
   "execution_count": 14,
   "metadata": {},
   "outputs": [
    {
     "data": {
      "text/plain": [
       "geneSymbol\n",
       "TNF              2724\n",
       "TP53             2494\n",
       "IL6              2367\n",
       "VEGFA            1899\n",
       "IL1B             1801\n",
       "                 ... \n",
       "DEFB108C            1\n",
       "FBXO27              1\n",
       "H2AP                1\n",
       "DPRX                1\n",
       "ZNF559-ZNF177       1\n",
       "Name: count, Length: 21666, dtype: int64"
      ]
     },
     "execution_count": 14,
     "metadata": {},
     "output_type": "execute_result"
    }
   ],
   "source": [
    "cat_var.geneSymbol.value_counts()"
   ]
  },
  {
   "cell_type": "code",
   "execution_count": 15,
   "metadata": {},
   "outputs": [
    {
     "data": {
      "text/plain": [
       "21666"
      ]
     },
     "execution_count": 15,
     "metadata": {},
     "output_type": "execute_result"
    }
   ],
   "source": [
    "cat_var.geneSymbol.value_counts().count()"
   ]
  },
  {
   "cell_type": "code",
   "execution_count": 16,
   "metadata": {},
   "outputs": [
    {
     "data": {
      "text/plain": [
       "diseaseName\n",
       "Neoplasms                                              10161\n",
       "Malignant Neoplasms                                     8621\n",
       "Primary malignant neoplasm                              8221\n",
       "Malignant neoplasm of breast                            6941\n",
       "Breast Carcinoma                                        6776\n",
       "                                                       ...  \n",
       "Bilateral facial muscle weakness                           1\n",
       "EPIDERMOLYSIS BULLOSA SIMPLEX WITH NAIL DYSTROPHY          1\n",
       "Axial muscle atrophy                                       1\n",
       "Membranous conjunctivitis                                  1\n",
       "Thyroid Gland Follicular Carcinoma, Widely Invasive        1\n",
       "Name: count, Length: 30170, dtype: int64"
      ]
     },
     "execution_count": 16,
     "metadata": {},
     "output_type": "execute_result"
    }
   ],
   "source": [
    "cat_var.diseaseName.value_counts()"
   ]
  },
  {
   "cell_type": "code",
   "execution_count": 18,
   "metadata": {},
   "outputs": [
    {
     "data": {
      "text/plain": [
       "30170"
      ]
     },
     "execution_count": 18,
     "metadata": {},
     "output_type": "execute_result"
    }
   ],
   "source": [
    "cat_var.diseaseName.nunique()"
   ]
  },
  {
   "cell_type": "code",
   "execution_count": 19,
   "metadata": {},
   "outputs": [
    {
     "data": {
      "text/plain": [
       "diseaseType\n",
       "disease      781622\n",
       "phenotype    211293\n",
       "group        142027\n",
       "Name: count, dtype: int64"
      ]
     },
     "execution_count": 19,
     "metadata": {},
     "output_type": "execute_result"
    }
   ],
   "source": [
    "cat_var.diseaseType.value_counts()"
   ]
  },
  {
   "cell_type": "code",
   "execution_count": 20,
   "metadata": {},
   "outputs": [
    {
     "data": {
      "text/plain": [
       "diseaseClass\n",
       "C04                                        289130\n",
       "C06;C04                                     50706\n",
       "C14                                         33452\n",
       "C23                                         32747\n",
       "C23;C10                                     28039\n",
       "                                            ...  \n",
       "C23;C16;C17;C10;C19;F03;F01                     1\n",
       "C16;C13;C05;C10                                 1\n",
       "C04;C05;C20;C15;C14                             1\n",
       "C16;C05;C08                                     1\n",
       "C23;C16;C18;C13;C11;C05;C10;C19;F03;F01         1\n",
       "Name: count, Length: 1106, dtype: int64"
      ]
     },
     "execution_count": 20,
     "metadata": {},
     "output_type": "execute_result"
    }
   ],
   "source": [
    "cat_var.diseaseClass.value_counts()"
   ]
  },
  {
   "cell_type": "code",
   "execution_count": 21,
   "metadata": {},
   "outputs": [
    {
     "data": {
      "text/plain": [
       "1106"
      ]
     },
     "execution_count": 21,
     "metadata": {},
     "output_type": "execute_result"
    }
   ],
   "source": [
    "cat_var.diseaseClass.nunique()"
   ]
  },
  {
   "cell_type": "code",
   "execution_count": 26,
   "metadata": {},
   "outputs": [],
   "source": [
    "from sklearn.cluster import KMeans"
   ]
  },
  {
   "cell_type": "code",
   "execution_count": 32,
   "metadata": {},
   "outputs": [
    {
     "name": "stdout",
     "output_type": "stream",
     "text": [
      "cluster\n",
      "0    [Adenocarcinoma, Amyotrophic Lateral Sclerosis...\n",
      "1    [Meningioma, Mental disorders, Malignant Neopl...\n",
      "2    [Glioblastoma, Hepatomegaly, Liver neoplasms, ...\n",
      "3    [pathologic fistula, Schizophrenia, Truncus Ar...\n",
      "4    [Cholesteatoma, Diabetes Mellitus, Down Syndro...\n",
      "Name: diseaseName, dtype: object\n",
      "                     diseaseName  cluster                cluster_name\n",
      "0                 Adenocarcinoma        0        Respiratory Diseases\n",
      "1  Amyotrophic Lateral Sclerosis        0        Respiratory Diseases\n",
      "2                          Apnea        0        Respiratory Diseases\n",
      "3                      Arthritis        0        Respiratory Diseases\n",
      "4                  Cholesteatoma        4  Musculoskeletal Conditions\n"
     ]
    }
   ],
   "source": [
    "label_encoder = LabelEncoder()\n",
    "df['diseaseName_encoded'] = label_encoder.fit_transform(df['diseaseName'])\n",
    "disease_data = df['diseaseName_encoded'].values.reshape(-1, 1)\n",
    "kmeans = KMeans(n_clusters=5, random_state=42)\n",
    "df['cluster'] = kmeans.fit_predict(disease_data)\n",
    "cluster_summary = df.groupby('cluster')['diseaseName'].apply(lambda x: list(x)[:10])  # Example: get 10 items from each cluster\n",
    "print(cluster_summary)\n",
    "cluster_names = {\n",
    "    0: 'Respiratory Diseases',\n",
    "    1: 'Cardiovascular Diseases',\n",
    "    2: 'Neurological Disorders',\n",
    "    3: 'Digestive Disorders',\n",
    "    4: 'Musculoskeletal Conditions'\n",
    "}\n",
    "\n",
    "# Step 7: Map the cluster numbers to cluster names\n",
    "df['cluster_name'] = df['cluster'].map(cluster_names)\n",
    "\n",
    "# Step 8: Print the first few rows to see the cluster names\n",
    "print(df[['diseaseName', 'cluster', 'cluster_name']].head())"
   ]
  },
  {
   "cell_type": "code",
   "execution_count": 33,
   "metadata": {},
   "outputs": [
    {
     "data": {
      "text/html": [
       "<div>\n",
       "<style scoped>\n",
       "    .dataframe tbody tr th:only-of-type {\n",
       "        vertical-align: middle;\n",
       "    }\n",
       "\n",
       "    .dataframe tbody tr th {\n",
       "        vertical-align: top;\n",
       "    }\n",
       "\n",
       "    .dataframe thead th {\n",
       "        text-align: right;\n",
       "    }\n",
       "</style>\n",
       "<table border=\"1\" class=\"dataframe\">\n",
       "  <thead>\n",
       "    <tr style=\"text-align: right;\">\n",
       "      <th></th>\n",
       "      <th>geneId</th>\n",
       "      <th>geneSymbol</th>\n",
       "      <th>DSI</th>\n",
       "      <th>DPI</th>\n",
       "      <th>diseaseId</th>\n",
       "      <th>diseaseName</th>\n",
       "      <th>diseaseType</th>\n",
       "      <th>diseaseClass</th>\n",
       "      <th>diseaseSemanticType</th>\n",
       "      <th>score</th>\n",
       "      <th>EI</th>\n",
       "      <th>YearInitial</th>\n",
       "      <th>YearFinal</th>\n",
       "      <th>NofPmids</th>\n",
       "      <th>NofSnps</th>\n",
       "      <th>source</th>\n",
       "      <th>diseaseName_encoded</th>\n",
       "      <th>cluster</th>\n",
       "      <th>cluster_name</th>\n",
       "    </tr>\n",
       "  </thead>\n",
       "  <tbody>\n",
       "    <tr>\n",
       "      <th>0</th>\n",
       "      <td>1</td>\n",
       "      <td>A1BG</td>\n",
       "      <td>0.7</td>\n",
       "      <td>0.538</td>\n",
       "      <td>C0001418</td>\n",
       "      <td>Adenocarcinoma</td>\n",
       "      <td>group</td>\n",
       "      <td>C04</td>\n",
       "      <td>Neoplastic Process</td>\n",
       "      <td>0.01</td>\n",
       "      <td>1.0</td>\n",
       "      <td>2008.0</td>\n",
       "      <td>2008.0</td>\n",
       "      <td>1</td>\n",
       "      <td>0</td>\n",
       "      <td>LHGDN</td>\n",
       "      <td>1855</td>\n",
       "      <td>0</td>\n",
       "      <td>Respiratory Diseases</td>\n",
       "    </tr>\n",
       "    <tr>\n",
       "      <th>1</th>\n",
       "      <td>1</td>\n",
       "      <td>A1BG</td>\n",
       "      <td>0.7</td>\n",
       "      <td>0.538</td>\n",
       "      <td>C0002736</td>\n",
       "      <td>Amyotrophic Lateral Sclerosis</td>\n",
       "      <td>disease</td>\n",
       "      <td>C18;C10</td>\n",
       "      <td>Disease or Syndrome</td>\n",
       "      <td>0.01</td>\n",
       "      <td>1.0</td>\n",
       "      <td>2008.0</td>\n",
       "      <td>2008.0</td>\n",
       "      <td>1</td>\n",
       "      <td>0</td>\n",
       "      <td>BEFREE</td>\n",
       "      <td>2533</td>\n",
       "      <td>0</td>\n",
       "      <td>Respiratory Diseases</td>\n",
       "    </tr>\n",
       "    <tr>\n",
       "      <th>2</th>\n",
       "      <td>1</td>\n",
       "      <td>A1BG</td>\n",
       "      <td>0.7</td>\n",
       "      <td>0.538</td>\n",
       "      <td>C0003578</td>\n",
       "      <td>Apnea</td>\n",
       "      <td>phenotype</td>\n",
       "      <td>C23;C08</td>\n",
       "      <td>Sign or Symptom</td>\n",
       "      <td>0.01</td>\n",
       "      <td>1.0</td>\n",
       "      <td>2017.0</td>\n",
       "      <td>2017.0</td>\n",
       "      <td>1</td>\n",
       "      <td>0</td>\n",
       "      <td>BEFREE</td>\n",
       "      <td>3074</td>\n",
       "      <td>0</td>\n",
       "      <td>Respiratory Diseases</td>\n",
       "    </tr>\n",
       "    <tr>\n",
       "      <th>3</th>\n",
       "      <td>1</td>\n",
       "      <td>A1BG</td>\n",
       "      <td>0.7</td>\n",
       "      <td>0.538</td>\n",
       "      <td>C0003864</td>\n",
       "      <td>Arthritis</td>\n",
       "      <td>disease</td>\n",
       "      <td>C05</td>\n",
       "      <td>Disease or Syndrome</td>\n",
       "      <td>0.01</td>\n",
       "      <td>1.0</td>\n",
       "      <td>2019.0</td>\n",
       "      <td>2019.0</td>\n",
       "      <td>1</td>\n",
       "      <td>0</td>\n",
       "      <td>BEFREE</td>\n",
       "      <td>3209</td>\n",
       "      <td>0</td>\n",
       "      <td>Respiratory Diseases</td>\n",
       "    </tr>\n",
       "    <tr>\n",
       "      <th>4</th>\n",
       "      <td>1</td>\n",
       "      <td>A1BG</td>\n",
       "      <td>0.7</td>\n",
       "      <td>0.538</td>\n",
       "      <td>C0008373</td>\n",
       "      <td>Cholesteatoma</td>\n",
       "      <td>disease</td>\n",
       "      <td>C17</td>\n",
       "      <td>Disease or Syndrome</td>\n",
       "      <td>0.01</td>\n",
       "      <td>1.0</td>\n",
       "      <td>2020.0</td>\n",
       "      <td>2020.0</td>\n",
       "      <td>1</td>\n",
       "      <td>0</td>\n",
       "      <td>BEFREE</td>\n",
       "      <td>6371</td>\n",
       "      <td>4</td>\n",
       "      <td>Musculoskeletal Conditions</td>\n",
       "    </tr>\n",
       "  </tbody>\n",
       "</table>\n",
       "</div>"
      ],
      "text/plain": [
       "   geneId geneSymbol  DSI    DPI diseaseId                    diseaseName  \\\n",
       "0       1       A1BG  0.7  0.538  C0001418                 Adenocarcinoma   \n",
       "1       1       A1BG  0.7  0.538  C0002736  Amyotrophic Lateral Sclerosis   \n",
       "2       1       A1BG  0.7  0.538  C0003578                          Apnea   \n",
       "3       1       A1BG  0.7  0.538  C0003864                      Arthritis   \n",
       "4       1       A1BG  0.7  0.538  C0008373                  Cholesteatoma   \n",
       "\n",
       "  diseaseType diseaseClass  diseaseSemanticType  score   EI  YearInitial  \\\n",
       "0       group          C04   Neoplastic Process   0.01  1.0       2008.0   \n",
       "1     disease      C18;C10  Disease or Syndrome   0.01  1.0       2008.0   \n",
       "2   phenotype      C23;C08      Sign or Symptom   0.01  1.0       2017.0   \n",
       "3     disease          C05  Disease or Syndrome   0.01  1.0       2019.0   \n",
       "4     disease          C17  Disease or Syndrome   0.01  1.0       2020.0   \n",
       "\n",
       "   YearFinal  NofPmids  NofSnps  source  diseaseName_encoded  cluster  \\\n",
       "0     2008.0         1        0   LHGDN                 1855        0   \n",
       "1     2008.0         1        0  BEFREE                 2533        0   \n",
       "2     2017.0         1        0  BEFREE                 3074        0   \n",
       "3     2019.0         1        0  BEFREE                 3209        0   \n",
       "4     2020.0         1        0  BEFREE                 6371        4   \n",
       "\n",
       "                 cluster_name  \n",
       "0        Respiratory Diseases  \n",
       "1        Respiratory Diseases  \n",
       "2        Respiratory Diseases  \n",
       "3        Respiratory Diseases  \n",
       "4  Musculoskeletal Conditions  "
      ]
     },
     "execution_count": 33,
     "metadata": {},
     "output_type": "execute_result"
    }
   ],
   "source": [
    "df.head()"
   ]
  },
  {
   "cell_type": "code",
   "execution_count": 29,
   "metadata": {},
   "outputs": [
    {
     "data": {
      "text/plain": [
       "cluster\n",
       "1    283538\n",
       "4    238071\n",
       "3    227768\n",
       "2    220183\n",
       "0    165382\n",
       "Name: count, dtype: int64"
      ]
     },
     "execution_count": 29,
     "metadata": {},
     "output_type": "execute_result"
    }
   ],
   "source": [
    "df.cluster.value_counts()"
   ]
  },
  {
   "cell_type": "code",
   "execution_count": 28,
   "metadata": {},
   "outputs": [
    {
     "data": {
      "text/html": [
       "<div>\n",
       "<style scoped>\n",
       "    .dataframe tbody tr th:only-of-type {\n",
       "        vertical-align: middle;\n",
       "    }\n",
       "\n",
       "    .dataframe tbody tr th {\n",
       "        vertical-align: top;\n",
       "    }\n",
       "\n",
       "    .dataframe thead th {\n",
       "        text-align: right;\n",
       "    }\n",
       "</style>\n",
       "<table border=\"1\" class=\"dataframe\">\n",
       "  <thead>\n",
       "    <tr style=\"text-align: right;\">\n",
       "      <th></th>\n",
       "      <th>geneId</th>\n",
       "      <th>geneSymbol</th>\n",
       "      <th>DSI</th>\n",
       "      <th>DPI</th>\n",
       "      <th>diseaseId</th>\n",
       "      <th>diseaseName</th>\n",
       "      <th>diseaseType</th>\n",
       "      <th>diseaseClass</th>\n",
       "      <th>diseaseSemanticType</th>\n",
       "      <th>score</th>\n",
       "      <th>EI</th>\n",
       "      <th>YearInitial</th>\n",
       "      <th>YearFinal</th>\n",
       "      <th>NofPmids</th>\n",
       "      <th>NofSnps</th>\n",
       "      <th>source</th>\n",
       "      <th>diseaseName_encoded</th>\n",
       "      <th>cluster</th>\n",
       "    </tr>\n",
       "  </thead>\n",
       "  <tbody>\n",
       "    <tr>\n",
       "      <th>0</th>\n",
       "      <td>1</td>\n",
       "      <td>A1BG</td>\n",
       "      <td>0.7</td>\n",
       "      <td>0.538</td>\n",
       "      <td>C0001418</td>\n",
       "      <td>Adenocarcinoma</td>\n",
       "      <td>group</td>\n",
       "      <td>C04</td>\n",
       "      <td>Neoplastic Process</td>\n",
       "      <td>0.01</td>\n",
       "      <td>1.0</td>\n",
       "      <td>2008.0</td>\n",
       "      <td>2008.0</td>\n",
       "      <td>1</td>\n",
       "      <td>0</td>\n",
       "      <td>LHGDN</td>\n",
       "      <td>1855</td>\n",
       "      <td>0</td>\n",
       "    </tr>\n",
       "    <tr>\n",
       "      <th>1</th>\n",
       "      <td>1</td>\n",
       "      <td>A1BG</td>\n",
       "      <td>0.7</td>\n",
       "      <td>0.538</td>\n",
       "      <td>C0002736</td>\n",
       "      <td>Amyotrophic Lateral Sclerosis</td>\n",
       "      <td>disease</td>\n",
       "      <td>C18;C10</td>\n",
       "      <td>Disease or Syndrome</td>\n",
       "      <td>0.01</td>\n",
       "      <td>1.0</td>\n",
       "      <td>2008.0</td>\n",
       "      <td>2008.0</td>\n",
       "      <td>1</td>\n",
       "      <td>0</td>\n",
       "      <td>BEFREE</td>\n",
       "      <td>2533</td>\n",
       "      <td>0</td>\n",
       "    </tr>\n",
       "    <tr>\n",
       "      <th>2</th>\n",
       "      <td>1</td>\n",
       "      <td>A1BG</td>\n",
       "      <td>0.7</td>\n",
       "      <td>0.538</td>\n",
       "      <td>C0003578</td>\n",
       "      <td>Apnea</td>\n",
       "      <td>phenotype</td>\n",
       "      <td>C23;C08</td>\n",
       "      <td>Sign or Symptom</td>\n",
       "      <td>0.01</td>\n",
       "      <td>1.0</td>\n",
       "      <td>2017.0</td>\n",
       "      <td>2017.0</td>\n",
       "      <td>1</td>\n",
       "      <td>0</td>\n",
       "      <td>BEFREE</td>\n",
       "      <td>3074</td>\n",
       "      <td>0</td>\n",
       "    </tr>\n",
       "    <tr>\n",
       "      <th>3</th>\n",
       "      <td>1</td>\n",
       "      <td>A1BG</td>\n",
       "      <td>0.7</td>\n",
       "      <td>0.538</td>\n",
       "      <td>C0003864</td>\n",
       "      <td>Arthritis</td>\n",
       "      <td>disease</td>\n",
       "      <td>C05</td>\n",
       "      <td>Disease or Syndrome</td>\n",
       "      <td>0.01</td>\n",
       "      <td>1.0</td>\n",
       "      <td>2019.0</td>\n",
       "      <td>2019.0</td>\n",
       "      <td>1</td>\n",
       "      <td>0</td>\n",
       "      <td>BEFREE</td>\n",
       "      <td>3209</td>\n",
       "      <td>0</td>\n",
       "    </tr>\n",
       "    <tr>\n",
       "      <th>4</th>\n",
       "      <td>1</td>\n",
       "      <td>A1BG</td>\n",
       "      <td>0.7</td>\n",
       "      <td>0.538</td>\n",
       "      <td>C0008373</td>\n",
       "      <td>Cholesteatoma</td>\n",
       "      <td>disease</td>\n",
       "      <td>C17</td>\n",
       "      <td>Disease or Syndrome</td>\n",
       "      <td>0.01</td>\n",
       "      <td>1.0</td>\n",
       "      <td>2020.0</td>\n",
       "      <td>2020.0</td>\n",
       "      <td>1</td>\n",
       "      <td>0</td>\n",
       "      <td>BEFREE</td>\n",
       "      <td>6371</td>\n",
       "      <td>4</td>\n",
       "    </tr>\n",
       "  </tbody>\n",
       "</table>\n",
       "</div>"
      ],
      "text/plain": [
       "   geneId geneSymbol  DSI    DPI diseaseId                    diseaseName  \\\n",
       "0       1       A1BG  0.7  0.538  C0001418                 Adenocarcinoma   \n",
       "1       1       A1BG  0.7  0.538  C0002736  Amyotrophic Lateral Sclerosis   \n",
       "2       1       A1BG  0.7  0.538  C0003578                          Apnea   \n",
       "3       1       A1BG  0.7  0.538  C0003864                      Arthritis   \n",
       "4       1       A1BG  0.7  0.538  C0008373                  Cholesteatoma   \n",
       "\n",
       "  diseaseType diseaseClass  diseaseSemanticType  score   EI  YearInitial  \\\n",
       "0       group          C04   Neoplastic Process   0.01  1.0       2008.0   \n",
       "1     disease      C18;C10  Disease or Syndrome   0.01  1.0       2008.0   \n",
       "2   phenotype      C23;C08      Sign or Symptom   0.01  1.0       2017.0   \n",
       "3     disease          C05  Disease or Syndrome   0.01  1.0       2019.0   \n",
       "4     disease          C17  Disease or Syndrome   0.01  1.0       2020.0   \n",
       "\n",
       "   YearFinal  NofPmids  NofSnps  source  diseaseName_encoded  cluster  \n",
       "0     2008.0         1        0   LHGDN                 1855        0  \n",
       "1     2008.0         1        0  BEFREE                 2533        0  \n",
       "2     2017.0         1        0  BEFREE                 3074        0  \n",
       "3     2019.0         1        0  BEFREE                 3209        0  \n",
       "4     2020.0         1        0  BEFREE                 6371        4  "
      ]
     },
     "execution_count": 28,
     "metadata": {},
     "output_type": "execute_result"
    }
   ],
   "source": [
    "df.head()"
   ]
  },
  {
   "cell_type": "code",
   "execution_count": null,
   "metadata": {},
   "outputs": [],
   "source": [
    "df = df.drop([\"diseaseName\",\"diseaseName_encoded\"],axis = 1)"
   ]
  },
  {
   "cell_type": "code",
   "execution_count": 11,
   "metadata": {},
   "outputs": [],
   "source": [
    "le = LabelEncoder()\n",
    "cat_var1 = cat_var.apply(le.fit_transform)"
   ]
  },
  {
   "cell_type": "code",
   "execution_count": 12,
   "metadata": {},
   "outputs": [
    {
     "data": {
      "text/html": [
       "<div>\n",
       "<style scoped>\n",
       "    .dataframe tbody tr th:only-of-type {\n",
       "        vertical-align: middle;\n",
       "    }\n",
       "\n",
       "    .dataframe tbody tr th {\n",
       "        vertical-align: top;\n",
       "    }\n",
       "\n",
       "    .dataframe thead th {\n",
       "        text-align: right;\n",
       "    }\n",
       "</style>\n",
       "<table border=\"1\" class=\"dataframe\">\n",
       "  <thead>\n",
       "    <tr style=\"text-align: right;\">\n",
       "      <th></th>\n",
       "      <th>geneSymbol</th>\n",
       "      <th>diseaseId</th>\n",
       "      <th>diseaseName</th>\n",
       "      <th>diseaseType</th>\n",
       "      <th>diseaseClass</th>\n",
       "      <th>diseaseSemanticType</th>\n",
       "      <th>source</th>\n",
       "    </tr>\n",
       "  </thead>\n",
       "  <tbody>\n",
       "    <tr>\n",
       "      <th>0</th>\n",
       "      <td>0</td>\n",
       "      <td>52</td>\n",
       "      <td>1855</td>\n",
       "      <td>1</td>\n",
       "      <td>49</td>\n",
       "      <td>23</td>\n",
       "      <td>859</td>\n",
       "    </tr>\n",
       "    <tr>\n",
       "      <th>1</th>\n",
       "      <td>0</td>\n",
       "      <td>134</td>\n",
       "      <td>2533</td>\n",
       "      <td>0</td>\n",
       "      <td>613</td>\n",
       "      <td>11</td>\n",
       "      <td>0</td>\n",
       "    </tr>\n",
       "    <tr>\n",
       "      <th>2</th>\n",
       "      <td>0</td>\n",
       "      <td>222</td>\n",
       "      <td>3074</td>\n",
       "      <td>2</td>\n",
       "      <td>740</td>\n",
       "      <td>30</td>\n",
       "      <td>0</td>\n",
       "    </tr>\n",
       "    <tr>\n",
       "      <th>3</th>\n",
       "      <td>0</td>\n",
       "      <td>244</td>\n",
       "      <td>3209</td>\n",
       "      <td>0</td>\n",
       "      <td>127</td>\n",
       "      <td>11</td>\n",
       "      <td>0</td>\n",
       "    </tr>\n",
       "    <tr>\n",
       "      <th>4</th>\n",
       "      <td>0</td>\n",
       "      <td>565</td>\n",
       "      <td>6371</td>\n",
       "      <td>0</td>\n",
       "      <td>572</td>\n",
       "      <td>11</td>\n",
       "      <td>0</td>\n",
       "    </tr>\n",
       "    <tr>\n",
       "      <th>...</th>\n",
       "      <td>...</td>\n",
       "      <td>...</td>\n",
       "      <td>...</td>\n",
       "      <td>...</td>\n",
       "      <td>...</td>\n",
       "      <td>...</td>\n",
       "      <td>...</td>\n",
       "    </tr>\n",
       "    <tr>\n",
       "      <th>1134937</th>\n",
       "      <td>2907</td>\n",
       "      <td>364</td>\n",
       "      <td>4427</td>\n",
       "      <td>2</td>\n",
       "      <td>49</td>\n",
       "      <td>26</td>\n",
       "      <td>833</td>\n",
       "    </tr>\n",
       "    <tr>\n",
       "      <th>1134938</th>\n",
       "      <td>11336</td>\n",
       "      <td>1722</td>\n",
       "      <td>29879</td>\n",
       "      <td>0</td>\n",
       "      <td>49</td>\n",
       "      <td>23</td>\n",
       "      <td>0</td>\n",
       "    </tr>\n",
       "    <tr>\n",
       "      <th>1134939</th>\n",
       "      <td>11336</td>\n",
       "      <td>1738</td>\n",
       "      <td>16497</td>\n",
       "      <td>0</td>\n",
       "      <td>49</td>\n",
       "      <td>23</td>\n",
       "      <td>0</td>\n",
       "    </tr>\n",
       "    <tr>\n",
       "      <th>1134940</th>\n",
       "      <td>11336</td>\n",
       "      <td>10792</td>\n",
       "      <td>16511</td>\n",
       "      <td>0</td>\n",
       "      <td>684</td>\n",
       "      <td>23</td>\n",
       "      <td>0</td>\n",
       "    </tr>\n",
       "    <tr>\n",
       "      <th>1134941</th>\n",
       "      <td>11336</td>\n",
       "      <td>14133</td>\n",
       "      <td>6253</td>\n",
       "      <td>0</td>\n",
       "      <td>49</td>\n",
       "      <td>23</td>\n",
       "      <td>0</td>\n",
       "    </tr>\n",
       "  </tbody>\n",
       "</table>\n",
       "<p>1134942 rows × 7 columns</p>\n",
       "</div>"
      ],
      "text/plain": [
       "         geneSymbol  diseaseId  diseaseName  diseaseType  diseaseClass  \\\n",
       "0                 0         52         1855            1            49   \n",
       "1                 0        134         2533            0           613   \n",
       "2                 0        222         3074            2           740   \n",
       "3                 0        244         3209            0           127   \n",
       "4                 0        565         6371            0           572   \n",
       "...             ...        ...          ...          ...           ...   \n",
       "1134937        2907        364         4427            2            49   \n",
       "1134938       11336       1722        29879            0            49   \n",
       "1134939       11336       1738        16497            0            49   \n",
       "1134940       11336      10792        16511            0           684   \n",
       "1134941       11336      14133         6253            0            49   \n",
       "\n",
       "         diseaseSemanticType  source  \n",
       "0                         23     859  \n",
       "1                         11       0  \n",
       "2                         30       0  \n",
       "3                         11       0  \n",
       "4                         11       0  \n",
       "...                      ...     ...  \n",
       "1134937                   26     833  \n",
       "1134938                   23       0  \n",
       "1134939                   23       0  \n",
       "1134940                   23       0  \n",
       "1134941                   23       0  \n",
       "\n",
       "[1134942 rows x 7 columns]"
      ]
     },
     "execution_count": 12,
     "metadata": {},
     "output_type": "execute_result"
    }
   ],
   "source": [
    "cat_var1"
   ]
  },
  {
   "cell_type": "code",
   "execution_count": 20,
   "metadata": {},
   "outputs": [],
   "source": [
    "data = pd.concat([num_var,cat_var1],axis = 1)"
   ]
  },
  {
   "cell_type": "code",
   "execution_count": 21,
   "metadata": {},
   "outputs": [],
   "source": [
    "x = data.drop(['diseaseType','NofSnps','EI'],axis = 1)"
   ]
  },
  {
   "cell_type": "code",
   "execution_count": 22,
   "metadata": {},
   "outputs": [],
   "source": [
    "y = data.diseaseType"
   ]
  },
  {
   "cell_type": "code",
   "execution_count": 24,
   "metadata": {},
   "outputs": [],
   "source": [
    "from imblearn.over_sampling import SMOTE \n",
    "sm = SMOTE(random_state=42)\n",
    "X_res, y_res = sm.fit_resample(x, y)"
   ]
  },
  {
   "cell_type": "code",
   "execution_count": 25,
   "metadata": {},
   "outputs": [],
   "source": [
    "x_train,x_test,y_train,y_test = train_test_split(X_res,y_res,test_size = 0.3,random_state = 23)"
   ]
  },
  {
   "cell_type": "code",
   "execution_count": 26,
   "metadata": {},
   "outputs": [],
   "source": [
    "cfr = RandomForestClassifier()"
   ]
  },
  {
   "cell_type": "code",
   "execution_count": 28,
   "metadata": {},
   "outputs": [],
   "source": [
    "model = cfr.fit(x_train[:10000],y_train[:10000])"
   ]
  },
  {
   "cell_type": "code",
   "execution_count": 29,
   "metadata": {},
   "outputs": [],
   "source": [
    "pred = model.predict(x_test)"
   ]
  },
  {
   "cell_type": "code",
   "execution_count": 30,
   "metadata": {},
   "outputs": [
    {
     "data": {
      "text/plain": [
       "array([1, 2, 2, ..., 1, 0, 1])"
      ]
     },
     "execution_count": 30,
     "metadata": {},
     "output_type": "execute_result"
    }
   ],
   "source": [
    "pred"
   ]
  },
  {
   "cell_type": "code",
   "execution_count": 31,
   "metadata": {},
   "outputs": [
    {
     "data": {
      "text/plain": [
       "0.8762061808773776"
      ]
     },
     "execution_count": 31,
     "metadata": {},
     "output_type": "execute_result"
    }
   ],
   "source": [
    "accuracy_score(y_test,pred)"
   ]
  },
  {
   "cell_type": "code",
   "execution_count": 39,
   "metadata": {},
   "outputs": [],
   "source": [
    "row = x_test.iloc[34]"
   ]
  },
  {
   "cell_type": "code",
   "execution_count": 40,
   "metadata": {},
   "outputs": [],
   "source": [
    "row_reshaped = row.values.reshape(1, -1)"
   ]
  },
  {
   "cell_type": "code",
   "execution_count": 41,
   "metadata": {},
   "outputs": [
    {
     "name": "stderr",
     "output_type": "stream",
     "text": [
      "C:\\Users\\0945\\AppData\\Roaming\\Python\\Python310\\site-packages\\sklearn\\base.py:493: UserWarning: X does not have valid feature names, but RandomForestClassifier was fitted with feature names\n",
      "  warnings.warn(\n"
     ]
    },
    {
     "data": {
      "text/plain": [
       "array([1])"
      ]
     },
     "execution_count": 41,
     "metadata": {},
     "output_type": "execute_result"
    }
   ],
   "source": [
    "model.predict(row_reshaped)"
   ]
  },
  {
   "cell_type": "code",
   "execution_count": 42,
   "metadata": {},
   "outputs": [
    {
     "data": {
      "text/plain": [
       "1"
      ]
     },
     "execution_count": 42,
     "metadata": {},
     "output_type": "execute_result"
    }
   ],
   "source": [
    "y_test.iloc[34]"
   ]
  },
  {
   "cell_type": "code",
   "execution_count": 43,
   "metadata": {},
   "outputs": [
    {
     "data": {
      "text/html": [
       "<div>\n",
       "<style scoped>\n",
       "    .dataframe tbody tr th:only-of-type {\n",
       "        vertical-align: middle;\n",
       "    }\n",
       "\n",
       "    .dataframe tbody tr th {\n",
       "        vertical-align: top;\n",
       "    }\n",
       "\n",
       "    .dataframe thead th {\n",
       "        text-align: right;\n",
       "    }\n",
       "</style>\n",
       "<table border=\"1\" class=\"dataframe\">\n",
       "  <thead>\n",
       "    <tr style=\"text-align: right;\">\n",
       "      <th></th>\n",
       "      <th>geneId</th>\n",
       "      <th>DSI</th>\n",
       "      <th>DPI</th>\n",
       "      <th>score</th>\n",
       "      <th>YearInitial</th>\n",
       "      <th>YearFinal</th>\n",
       "      <th>NofPmids</th>\n",
       "      <th>geneSymbol</th>\n",
       "      <th>diseaseId</th>\n",
       "      <th>diseaseName</th>\n",
       "      <th>diseaseClass</th>\n",
       "      <th>diseaseSemanticType</th>\n",
       "      <th>source</th>\n",
       "    </tr>\n",
       "  </thead>\n",
       "  <tbody>\n",
       "    <tr>\n",
       "      <th>1490293</th>\n",
       "      <td>27259</td>\n",
       "      <td>0.413869</td>\n",
       "      <td>0.894945</td>\n",
       "      <td>0.016356</td>\n",
       "      <td>2007.465327</td>\n",
       "      <td>2016.364355</td>\n",
       "      <td>1</td>\n",
       "      <td>7860</td>\n",
       "      <td>635</td>\n",
       "      <td>7055</td>\n",
       "      <td>150</td>\n",
       "      <td>23</td>\n",
       "      <td>0</td>\n",
       "    </tr>\n",
       "    <tr>\n",
       "      <th>360323</th>\n",
       "      <td>3952</td>\n",
       "      <td>0.349000</td>\n",
       "      <td>0.846000</td>\n",
       "      <td>0.010000</td>\n",
       "      <td>2017.000000</td>\n",
       "      <td>2017.000000</td>\n",
       "      <td>1</td>\n",
       "      <td>9166</td>\n",
       "      <td>235</td>\n",
       "      <td>5597</td>\n",
       "      <td>812</td>\n",
       "      <td>11</td>\n",
       "      <td>0</td>\n",
       "    </tr>\n",
       "    <tr>\n",
       "      <th>1868924</th>\n",
       "      <td>79878</td>\n",
       "      <td>0.633972</td>\n",
       "      <td>0.529311</td>\n",
       "      <td>0.100000</td>\n",
       "      <td>2013.000000</td>\n",
       "      <td>2017.000000</td>\n",
       "      <td>0</td>\n",
       "      <td>20656</td>\n",
       "      <td>1554</td>\n",
       "      <td>14824</td>\n",
       "      <td>1101</td>\n",
       "      <td>21</td>\n",
       "      <td>850</td>\n",
       "    </tr>\n",
       "    <tr>\n",
       "      <th>2131965</th>\n",
       "      <td>2357</td>\n",
       "      <td>0.428190</td>\n",
       "      <td>0.846000</td>\n",
       "      <td>0.010000</td>\n",
       "      <td>2018.000000</td>\n",
       "      <td>2018.000000</td>\n",
       "      <td>1</td>\n",
       "      <td>6011</td>\n",
       "      <td>12441</td>\n",
       "      <td>22961</td>\n",
       "      <td>812</td>\n",
       "      <td>11</td>\n",
       "      <td>0</td>\n",
       "    </tr>\n",
       "    <tr>\n",
       "      <th>1587122</th>\n",
       "      <td>494327</td>\n",
       "      <td>0.539815</td>\n",
       "      <td>0.782578</td>\n",
       "      <td>0.011883</td>\n",
       "      <td>2018.811690</td>\n",
       "      <td>2018.905845</td>\n",
       "      <td>1</td>\n",
       "      <td>11519</td>\n",
       "      <td>322</td>\n",
       "      <td>18481</td>\n",
       "      <td>1003</td>\n",
       "      <td>21</td>\n",
       "      <td>0</td>\n",
       "    </tr>\n",
       "    <tr>\n",
       "      <th>...</th>\n",
       "      <td>...</td>\n",
       "      <td>...</td>\n",
       "      <td>...</td>\n",
       "      <td>...</td>\n",
       "      <td>...</td>\n",
       "      <td>...</td>\n",
       "      <td>...</td>\n",
       "      <td>...</td>\n",
       "      <td>...</td>\n",
       "      <td>...</td>\n",
       "      <td>...</td>\n",
       "      <td>...</td>\n",
       "      <td>...</td>\n",
       "    </tr>\n",
       "    <tr>\n",
       "      <th>1493886</th>\n",
       "      <td>4374</td>\n",
       "      <td>0.528492</td>\n",
       "      <td>0.699055</td>\n",
       "      <td>0.100000</td>\n",
       "      <td>2013.000000</td>\n",
       "      <td>2017.000000</td>\n",
       "      <td>0</td>\n",
       "      <td>12268</td>\n",
       "      <td>24063</td>\n",
       "      <td>29213</td>\n",
       "      <td>780</td>\n",
       "      <td>15</td>\n",
       "      <td>850</td>\n",
       "    </tr>\n",
       "    <tr>\n",
       "      <th>1688606</th>\n",
       "      <td>1058</td>\n",
       "      <td>0.728238</td>\n",
       "      <td>0.548210</td>\n",
       "      <td>0.010000</td>\n",
       "      <td>2016.602224</td>\n",
       "      <td>2016.602224</td>\n",
       "      <td>1</td>\n",
       "      <td>2843</td>\n",
       "      <td>15069</td>\n",
       "      <td>6545</td>\n",
       "      <td>261</td>\n",
       "      <td>11</td>\n",
       "      <td>0</td>\n",
       "    </tr>\n",
       "    <tr>\n",
       "      <th>334605</th>\n",
       "      <td>3643</td>\n",
       "      <td>0.432000</td>\n",
       "      <td>0.846000</td>\n",
       "      <td>0.020000</td>\n",
       "      <td>2004.000000</td>\n",
       "      <td>2017.000000</td>\n",
       "      <td>2</td>\n",
       "      <td>8291</td>\n",
       "      <td>3118</td>\n",
       "      <td>28886</td>\n",
       "      <td>49</td>\n",
       "      <td>23</td>\n",
       "      <td>0</td>\n",
       "    </tr>\n",
       "    <tr>\n",
       "      <th>1530004</th>\n",
       "      <td>1569</td>\n",
       "      <td>0.514225</td>\n",
       "      <td>0.708083</td>\n",
       "      <td>0.010000</td>\n",
       "      <td>2019.000000</td>\n",
       "      <td>2019.000000</td>\n",
       "      <td>1</td>\n",
       "      <td>4008</td>\n",
       "      <td>14981</td>\n",
       "      <td>20065</td>\n",
       "      <td>79</td>\n",
       "      <td>23</td>\n",
       "      <td>0</td>\n",
       "    </tr>\n",
       "    <tr>\n",
       "      <th>1586467</th>\n",
       "      <td>595</td>\n",
       "      <td>0.538875</td>\n",
       "      <td>0.769000</td>\n",
       "      <td>0.010000</td>\n",
       "      <td>2002.994851</td>\n",
       "      <td>2002.994851</td>\n",
       "      <td>1</td>\n",
       "      <td>1548</td>\n",
       "      <td>3481</td>\n",
       "      <td>4074</td>\n",
       "      <td>49</td>\n",
       "      <td>23</td>\n",
       "      <td>0</td>\n",
       "    </tr>\n",
       "  </tbody>\n",
       "</table>\n",
       "<p>703460 rows × 13 columns</p>\n",
       "</div>"
      ],
      "text/plain": [
       "         geneId       DSI       DPI     score  YearInitial    YearFinal  \\\n",
       "1490293   27259  0.413869  0.894945  0.016356  2007.465327  2016.364355   \n",
       "360323     3952  0.349000  0.846000  0.010000  2017.000000  2017.000000   \n",
       "1868924   79878  0.633972  0.529311  0.100000  2013.000000  2017.000000   \n",
       "2131965    2357  0.428190  0.846000  0.010000  2018.000000  2018.000000   \n",
       "1587122  494327  0.539815  0.782578  0.011883  2018.811690  2018.905845   \n",
       "...         ...       ...       ...       ...          ...          ...   \n",
       "1493886    4374  0.528492  0.699055  0.100000  2013.000000  2017.000000   \n",
       "1688606    1058  0.728238  0.548210  0.010000  2016.602224  2016.602224   \n",
       "334605     3643  0.432000  0.846000  0.020000  2004.000000  2017.000000   \n",
       "1530004    1569  0.514225  0.708083  0.010000  2019.000000  2019.000000   \n",
       "1586467     595  0.538875  0.769000  0.010000  2002.994851  2002.994851   \n",
       "\n",
       "         NofPmids  geneSymbol  diseaseId  diseaseName  diseaseClass  \\\n",
       "1490293         1        7860        635         7055           150   \n",
       "360323          1        9166        235         5597           812   \n",
       "1868924         0       20656       1554        14824          1101   \n",
       "2131965         1        6011      12441        22961           812   \n",
       "1587122         1       11519        322        18481          1003   \n",
       "...           ...         ...        ...          ...           ...   \n",
       "1493886         0       12268      24063        29213           780   \n",
       "1688606         1        2843      15069         6545           261   \n",
       "334605          2        8291       3118        28886            49   \n",
       "1530004         1        4008      14981        20065            79   \n",
       "1586467         1        1548       3481         4074            49   \n",
       "\n",
       "         diseaseSemanticType  source  \n",
       "1490293                   23       0  \n",
       "360323                    11       0  \n",
       "1868924                   21     850  \n",
       "2131965                   11       0  \n",
       "1587122                   21       0  \n",
       "...                      ...     ...  \n",
       "1493886                   15     850  \n",
       "1688606                   11       0  \n",
       "334605                    23       0  \n",
       "1530004                   23       0  \n",
       "1586467                   23       0  \n",
       "\n",
       "[703460 rows x 13 columns]"
      ]
     },
     "execution_count": 43,
     "metadata": {},
     "output_type": "execute_result"
    }
   ],
   "source": [
    "x_test"
   ]
  },
  {
   "cell_type": "code",
   "execution_count": 48,
   "metadata": {},
   "outputs": [
    {
     "data": {
      "text/plain": [
       "1490293    1\n",
       "360323     2\n",
       "1868924    2\n",
       "2131965    2\n",
       "1587122    1\n",
       "1093714    1\n",
       "2192524    2\n",
       "320835     1\n",
       "801850     2\n",
       "1974765    2\n",
       "254394     2\n",
       "48645      2\n",
       "2150310    2\n",
       "1779157    2\n",
       "1673528    1\n",
       "1422287    1\n",
       "114390     0\n",
       "2292717    2\n",
       "17087      0\n",
       "1810959    2\n",
       "Name: diseaseType, dtype: int32"
      ]
     },
     "execution_count": 48,
     "metadata": {},
     "output_type": "execute_result"
    }
   ],
   "source": [
    "y_test.head(20)"
   ]
  },
  {
   "cell_type": "code",
   "execution_count": 45,
   "metadata": {},
   "outputs": [
    {
     "name": "stderr",
     "output_type": "stream",
     "text": [
      "C:\\Users\\0945\\AppData\\Roaming\\Python\\Python310\\site-packages\\sklearn\\base.py:493: UserWarning: X does not have valid feature names, but RandomForestClassifier was fitted with feature names\n",
      "  warnings.warn(\n"
     ]
    },
    {
     "data": {
      "text/plain": [
       "array([2])"
      ]
     },
     "execution_count": 45,
     "metadata": {},
     "output_type": "execute_result"
    }
   ],
   "source": [
    "row1 = x_test.iloc[360323]\n",
    "row_reshaped = row1.values.reshape(1, -1)\n",
    "model.predict(row_reshaped)"
   ]
  },
  {
   "cell_type": "code",
   "execution_count": 50,
   "metadata": {},
   "outputs": [
    {
     "data": {
      "text/plain": [
       "11439"
      ]
     },
     "execution_count": 50,
     "metadata": {},
     "output_type": "execute_result"
    }
   ],
   "source": [
    "11439"
   ]
  },
  {
   "cell_type": "code",
   "execution_count": 49,
   "metadata": {},
   "outputs": [
    {
     "name": "stderr",
     "output_type": "stream",
     "text": [
      "C:\\Users\\0945\\AppData\\Roaming\\Python\\Python310\\site-packages\\sklearn\\base.py:493: UserWarning: X does not have valid feature names, but RandomForestClassifier was fitted with feature names\n",
      "  warnings.warn(\n"
     ]
    },
    {
     "data": {
      "text/plain": [
       "array([0])"
      ]
     },
     "execution_count": 49,
     "metadata": {},
     "output_type": "execute_result"
    }
   ],
   "source": [
    "row1 = x_test.iloc[114390]\n",
    "row_reshaped = row1.values.reshape(1, -1)\n",
    "model.predict(row_reshaped)"
   ]
  },
  {
   "cell_type": "code",
   "execution_count": 51,
   "metadata": {},
   "outputs": [
    {
     "data": {
      "text/plain": [
       "geneId                  876.000000\n",
       "DSI                       0.457413\n",
       "DPI                       0.838280\n",
       "score                     0.259831\n",
       "YearInitial            2005.162872\n",
       "YearFinal              2005.162872\n",
       "NofPmids                  1.000000\n",
       "geneSymbol             2422.000000\n",
       "diseaseId               224.000000\n",
       "diseaseName            3033.000000\n",
       "diseaseClass            167.000000\n",
       "diseaseSemanticType      11.000000\n",
       "source                  807.000000\n",
       "Name: 1506595, dtype: float64"
      ]
     },
     "execution_count": 51,
     "metadata": {},
     "output_type": "execute_result"
    }
   ],
   "source": [
    "x_test.iloc[34] # 1"
   ]
  },
  {
   "cell_type": "code",
   "execution_count": 52,
   "metadata": {},
   "outputs": [
    {
     "data": {
      "text/plain": [
       "geneId                  7318.000000\n",
       "DSI                        0.628297\n",
       "DPI                        0.682514\n",
       "score                      0.117536\n",
       "YearInitial             2010.369589\n",
       "YearFinal               2013.492785\n",
       "NofPmids                   1.000000\n",
       "geneSymbol             20273.000000\n",
       "diseaseId               2754.000000\n",
       "diseaseName            25791.000000\n",
       "diseaseClass             755.000000\n",
       "diseaseSemanticType       30.000000\n",
       "source                   636.000000\n",
       "Name: 2261702, dtype: float64"
      ]
     },
     "execution_count": 52,
     "metadata": {},
     "output_type": "execute_result"
    }
   ],
   "source": [
    "x_test.iloc[360323] # 2"
   ]
  },
  {
   "cell_type": "code",
   "execution_count": 53,
   "metadata": {},
   "outputs": [
    {
     "data": {
      "text/plain": [
       "geneId                 54206.000\n",
       "DSI                        0.612\n",
       "DPI                        0.538\n",
       "score                      0.020\n",
       "YearInitial             2010.000\n",
       "YearFinal               2014.000\n",
       "NofPmids                   2.000\n",
       "geneSymbol              5305.000\n",
       "diseaseId              15187.000\n",
       "diseaseName            12338.000\n",
       "diseaseClass              49.000\n",
       "diseaseSemanticType       23.000\n",
       "source                     0.000\n",
       "Name: 888702, dtype: float64"
      ]
     },
     "execution_count": 53,
     "metadata": {},
     "output_type": "execute_result"
    }
   ],
   "source": [
    "x_test.iloc[114390] # 0"
   ]
  },
  {
   "cell_type": "code",
   "execution_count": null,
   "metadata": {},
   "outputs": [],
   "source": []
  }
 ],
 "metadata": {
  "kernelspec": {
   "display_name": "Python 3",
   "language": "python",
   "name": "python3"
  },
  "language_info": {
   "codemirror_mode": {
    "name": "ipython",
    "version": 3
   },
   "file_extension": ".py",
   "mimetype": "text/x-python",
   "name": "python",
   "nbconvert_exporter": "python",
   "pygments_lexer": "ipython3",
   "version": "3.10.8"
  }
 },
 "nbformat": 4,
 "nbformat_minor": 2
}
